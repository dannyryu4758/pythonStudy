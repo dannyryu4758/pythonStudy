{
  "nbformat": 4,
  "nbformat_minor": 0,
  "metadata": {
    "colab": {
      "name": "package.ipynb",
      "provenance": [],
      "collapsed_sections": [],
      "toc_visible": true,
      "authorship_tag": "ABX9TyOOFlJGTcEBHtsXhaVNDzCb",
      "include_colab_link": true
    },
    "kernelspec": {
      "name": "python3",
      "display_name": "Python 3"
    }
  },
  "cells": [
    {
      "cell_type": "markdown",
      "metadata": {
        "id": "view-in-github",
        "colab_type": "text"
      },
      "source": [
        "<a href=\"https://colab.research.google.com/github/dannyryu4758/pythonStudy/blob/main/package.ipynb\" target=\"_parent\"><img src=\"https://colab.research.google.com/assets/colab-badge.svg\" alt=\"Open In Colab\"/></a>"
      ]
    },
    {
      "cell_type": "markdown",
      "metadata": {
        "id": "w_IIg8vByDVl"
      },
      "source": [
        "# 패키지\r\n",
        "- 모듈들을 모아놓은 디렉토리"
      ]
    },
    {
      "cell_type": "code",
      "metadata": {
        "colab": {
          "base_uri": "https://localhost:8080/"
        },
        "id": "BH-ELPu_zBOK",
        "outputId": "e1e49351-3444-4ebd-efce-d2bc23e5814c"
      },
      "source": [
        "import travel.thailand\r\n",
        "\r\n",
        "trip_to = travel.thailand.ThailandPackage()\r\n",
        "trip_to.detail()"
      ],
      "execution_count": 1,
      "outputs": [
        {
          "output_type": "stream",
          "text": [
            "[태국 패키지 3박 4일] 방콕, 파타야 여행 (야시장 투어) 50만원\n"
          ],
          "name": "stdout"
        }
      ]
    },
    {
      "cell_type": "code",
      "metadata": {
        "colab": {
          "base_uri": "https://localhost:8080/"
        },
        "id": "5SlEMdSZyMFj",
        "outputId": "db110397-0ef0-4101-a7a4-090d7a4388e6"
      },
      "source": [
        "from travel.thailand import ThailandPackage\r\n",
        "trip_to = ThailandPackage()\r\n",
        "trip_to.detail()"
      ],
      "execution_count": 2,
      "outputs": [
        {
          "output_type": "stream",
          "text": [
            "[태국 패키지 3박 4일] 방콕, 파타야 여행 (야시장 투어) 50만원\n"
          ],
          "name": "stdout"
        }
      ]
    },
    {
      "cell_type": "code",
      "metadata": {
        "colab": {
          "base_uri": "https://localhost:8080/"
        },
        "id": "J_QKskMx16rY",
        "outputId": "d3dc25a2-f355-4312-fd04-06510e435b20"
      },
      "source": [
        "from travel import vietnam\r\n",
        "trip_to = vietnam.VietnamPackage()\r\n",
        "trip_to.detail()"
      ],
      "execution_count": 3,
      "outputs": [
        {
          "output_type": "stream",
          "text": [
            "[베트남 패키지 3박 5일] 다낭 효도 여행 60만원\n"
          ],
          "name": "stdout"
        }
      ]
    }
  ]
}