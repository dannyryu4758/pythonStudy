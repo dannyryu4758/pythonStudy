{
  "nbformat": 4,
  "nbformat_minor": 0,
  "metadata": {
    "colab": {
      "name": "package.ipynb",
      "provenance": [],
      "collapsed_sections": [],
      "toc_visible": true,
      "authorship_tag": "ABX9TyNfjkFG4kHQe8ZbpTRoBQm5",
      "include_colab_link": true
    },
    "kernelspec": {
      "name": "python3",
      "display_name": "Python 3"
    }
  },
  "cells": [
    {
      "cell_type": "markdown",
      "metadata": {
        "id": "view-in-github",
        "colab_type": "text"
      },
      "source": [
        "<a href=\"https://colab.research.google.com/github/dannyryu4758/pythonStudy/blob/main/package.ipynb\" target=\"_parent\"><img src=\"https://colab.research.google.com/assets/colab-badge.svg\" alt=\"Open In Colab\"/></a>"
      ]
    },
    {
      "cell_type": "markdown",
      "metadata": {
        "id": "w_IIg8vByDVl"
      },
      "source": [
        "# 패키지\r\n",
        "- 모듈들을 모아놓은 디렉토리"
      ]
    },
    {
      "cell_type": "code",
      "metadata": {
        "colab": {
          "base_uri": "https://localhost:8080/"
        },
        "id": "BH-ELPu_zBOK",
        "outputId": "e1e49351-3444-4ebd-efce-d2bc23e5814c"
      },
      "source": [
        "import travel.thailand\r\n",
        "trip_to = travel.thailand.ThailandPackage()\r\n",
        "trip_to.detail()"
      ],
      "execution_count": 1,
      "outputs": [
        {
          "output_type": "stream",
          "text": [
            "[태국 패키지 3박 4일] 방콕, 파타야 여행 (야시장 투어) 50만원\n"
          ],
          "name": "stdout"
        }
      ]
    },
    {
      "cell_type": "code",
      "metadata": {
        "colab": {
          "base_uri": "https://localhost:8080/"
        },
        "id": "5SlEMdSZyMFj",
        "outputId": "a2a90e00-4791-4795-b57f-27be5a18fe9a"
      },
      "source": [
        "from travel.thailand import ThailandPackage\r\n",
        "trip_to = ThailandPackage()\r\n",
        "trip_to.detail()"
      ],
      "execution_count": 8,
      "outputs": [
        {
          "output_type": "stream",
          "text": [
            "[태국 패키지 3박 4일] 방콕, 파타야 여행 (야시장 투어) 50만원\n"
          ],
          "name": "stdout"
        }
      ]
    },
    {
      "cell_type": "code",
      "metadata": {
        "colab": {
          "base_uri": "https://localhost:8080/"
        },
        "id": "J_QKskMx16rY",
        "outputId": "d3dc25a2-f355-4312-fd04-06510e435b20"
      },
      "source": [
        "from travel import vietnam\r\n",
        "trip_to = vietnam.VietnamPackage()\r\n",
        "trip_to.detail()"
      ],
      "execution_count": 3,
      "outputs": [
        {
          "output_type": "stream",
          "text": [
            "[베트남 패키지 3박 5일] 다낭 효도 여행 60만원\n"
          ],
          "name": "stdout"
        }
      ]
    },
    {
      "cell_type": "code",
      "metadata": {
        "colab": {
          "base_uri": "https://localhost:8080/"
        },
        "id": "rLi5EUNk25EW",
        "outputId": "b3dd927a-49a9-4dd9-aeef-ca4add2d60d2"
      },
      "source": [
        "# from random import *\r\n",
        "from travel import * \r\n",
        "# trip_to = vietnam.VietnamPackage()\r\n",
        "# trip_to.detail()\r\n",
        "\r\n",
        "trip_to = thailand.ThailandPackage()\r\n",
        "trip_to.detail()\r\n",
        "\r\n",
        "# travel 패키지의 __init__ 모듈에서 __all__ 을 설정하여\r\n",
        "# import * 사용시 공개할 범위를 설정한다."
      ],
      "execution_count": 11,
      "outputs": [
        {
          "output_type": "stream",
          "text": [
            "[태국 패키지 3박 4일] 방콕, 파타야 여행 (야시장 투어) 50만원\n"
          ],
          "name": "stdout"
        }
      ]
    },
    {
      "cell_type": "markdown",
      "metadata": {
        "id": "NJ4wkasY3-gc"
      },
      "source": [
        "# 패키지 및 모듈 위치"
      ]
    },
    {
      "cell_type": "code",
      "metadata": {
        "colab": {
          "base_uri": "https://localhost:8080/"
        },
        "id": "SD9C_B1P4ASn",
        "outputId": "6eac527b-7b86-4837-e338-7b2874756671"
      },
      "source": [
        "import inspect\r\n",
        "import random\r\n",
        "print(inspect.getfile(random))\r\n",
        "print(inspect.getfile(thailand))"
      ],
      "execution_count": 14,
      "outputs": [
        {
          "output_type": "stream",
          "text": [
            "/usr/lib/python3.7/random.py\n",
            "/content/travel/thailand.py\n"
          ],
          "name": "stdout"
        }
      ]
    }
  ]
}