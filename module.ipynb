{
  "nbformat": 4,
  "nbformat_minor": 0,
  "metadata": {
    "colab": {
      "name": "module.ipynb",
      "provenance": [],
      "toc_visible": true,
      "authorship_tag": "ABX9TyPZFATCo3eHTuniZlRgNbdv",
      "include_colab_link": true
    },
    "kernelspec": {
      "name": "python3",
      "display_name": "Python 3"
    }
  },
  "cells": [
    {
      "cell_type": "markdown",
      "metadata": {
        "id": "view-in-github",
        "colab_type": "text"
      },
      "source": [
        "<a href=\"https://colab.research.google.com/github/dannyryu4758/pythonStudy/blob/main/module.ipynb\" target=\"_parent\"><img src=\"https://colab.research.google.com/assets/colab-badge.svg\" alt=\"Open In Colab\"/></a>"
      ]
    },
    {
      "cell_type": "markdown",
      "metadata": {
        "id": "_sDR4Fy0u98r"
      },
      "source": [
        "# 모듈\r\n",
        "- 별도의 py 파일에 함수를 정의해놓고 다른 파일에서 불러와 사용하기"
      ]
    },
    {
      "cell_type": "code",
      "metadata": {
        "colab": {
          "base_uri": "https://localhost:8080/"
        },
        "id": "KAtgBAxeu54j",
        "outputId": "fc801727-8c9c-4dc4-d139-7c21d63c31ef"
      },
      "source": [
        "import theater_module\r\n",
        "theater_module.price(3)\r\n",
        "theater_module.price_morning(4)\r\n",
        "theater_module.price_soldier(5)"
      ],
      "execution_count": 5,
      "outputs": [
        {
          "output_type": "stream",
          "text": [
            "3명 가격은 30000원 입니다.\n",
            "4명 조조 할인 가격은 24000원 입니다.\n",
            "5명 군인 할인 가격은 20000원 입니다.\n"
          ],
          "name": "stdout"
        }
      ]
    },
    {
      "cell_type": "code",
      "metadata": {
        "colab": {
          "base_uri": "https://localhost:8080/"
        },
        "id": "SrL1LOuVwxko",
        "outputId": "a110ae7f-08dc-4878-993e-26c3437398e8"
      },
      "source": [
        "import theater_module as mv\r\n",
        "mv.price(3)\r\n",
        "mv.price_morning(4)\r\n",
        "mv.price_soldier(5)"
      ],
      "execution_count": 6,
      "outputs": [
        {
          "output_type": "stream",
          "text": [
            "3명 가격은 30000원 입니다.\n",
            "4명 조조 할인 가격은 24000원 입니다.\n",
            "5명 군인 할인 가격은 20000원 입니다.\n"
          ],
          "name": "stdout"
        }
      ]
    },
    {
      "cell_type": "code",
      "metadata": {
        "colab": {
          "base_uri": "https://localhost:8080/"
        },
        "id": "8zstOUI-xCwz",
        "outputId": "70cb3c28-5715-4951-a4a2-808318f02160"
      },
      "source": [
        "from theater_module import *\r\n",
        "price(3)\r\n",
        "price_morning(4)\r\n",
        "price_soldier(5)"
      ],
      "execution_count": 7,
      "outputs": [
        {
          "output_type": "stream",
          "text": [
            "3명 가격은 30000원 입니다.\n",
            "4명 조조 할인 가격은 24000원 입니다.\n",
            "5명 군인 할인 가격은 20000원 입니다.\n"
          ],
          "name": "stdout"
        }
      ]
    },
    {
      "cell_type": "code",
      "metadata": {
        "colab": {
          "base_uri": "https://localhost:8080/"
        },
        "id": "Fnub_fmXxNGa",
        "outputId": "f3132cab-54ed-4dc6-e056-8543192d6dba"
      },
      "source": [
        "from theater_module import price, price_morning\r\n",
        "price(3)\r\n",
        "price_morning(4)"
      ],
      "execution_count": 10,
      "outputs": [
        {
          "output_type": "stream",
          "text": [
            "3명 가격은 30000원 입니다.\n",
            "4명 조조 할인 가격은 24000원 입니다.\n"
          ],
          "name": "stdout"
        }
      ]
    },
    {
      "cell_type": "code",
      "metadata": {
        "colab": {
          "base_uri": "https://localhost:8080/"
        },
        "id": "FYpljN2SxjCI",
        "outputId": "6d64bfbe-8ac0-4b46-9b5e-d66d4d513ab4"
      },
      "source": [
        "from theater_module import price_soldier as price\r\n",
        "price(3)"
      ],
      "execution_count": 11,
      "outputs": [
        {
          "output_type": "stream",
          "text": [
            "3명 군인 할인 가격은 12000원 입니다.\n"
          ],
          "name": "stdout"
        }
      ]
    }
  ]
}