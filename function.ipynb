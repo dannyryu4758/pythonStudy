{
  "nbformat": 4,
  "nbformat_minor": 0,
  "metadata": {
    "colab": {
      "name": "function.ipynb",
      "provenance": [],
      "collapsed_sections": [],
      "authorship_tag": "ABX9TyNJGWhhh71hhf17ffEF6DFG",
      "include_colab_link": true
    },
    "kernelspec": {
      "name": "python3",
      "display_name": "Python 3"
    }
  },
  "cells": [
    {
      "cell_type": "markdown",
      "metadata": {
        "id": "view-in-github",
        "colab_type": "text"
      },
      "source": [
        "<a href=\"https://colab.research.google.com/github/dannyryu4758/pythonStudy/blob/main/function.ipynb\" target=\"_parent\"><img src=\"https://colab.research.google.com/assets/colab-badge.svg\" alt=\"Open In Colab\"/></a>"
      ]
    },
    {
      "cell_type": "markdown",
      "metadata": {
        "id": "03ZUmKa8GXXG"
      },
      "source": [
        "# 함수"
      ]
    },
    {
      "cell_type": "code",
      "metadata": {
        "id": "9Uzb8AhcGa6K"
      },
      "source": [
        "def open_account():\r\n",
        "    print(\"새로운 계좌가 생성되었습니다.\")\r\n",
        "\r\n",
        "open_account()"
      ],
      "execution_count": null,
      "outputs": []
    },
    {
      "cell_type": "markdown",
      "metadata": {
        "id": "KjPKc32zGjIu"
      },
      "source": [
        "---\r\n",
        "### 전달값과 반환값"
      ]
    },
    {
      "cell_type": "code",
      "metadata": {
        "colab": {
          "base_uri": "https://localhost:8080/"
        },
        "id": "Uo2HF6JnGiQM",
        "outputId": "da4de584-dc9d-4004-e933-fa1c402aa71e"
      },
      "source": [
        "def deposit(balance, money):  # 입금\r\n",
        "    print(\"입금이 완료되었습니다. 잔액은 {0}원입니다.\".format(balance + money))\r\n",
        "    return balance + money\r\n",
        "\r\n",
        "\r\n",
        "def withdrow(balance, money):  # 출금\r\n",
        "    if balance >= money:  # 잔액이 출금보다 많으면\r\n",
        "        print(\"출금이 완료되었습니다. 잔액은 {0}원입니다.\".format(balance - money))\r\n",
        "        return balance - money\r\n",
        "    else:\r\n",
        "        print(\"출금이 완료되지 않았습니다. 잔액은 {0}원입니다.\".format(balance))\r\n",
        "        return balance\r\n",
        "\r\n",
        "# 여러개의 값을 튜플로 반환\r\n",
        "def withdrow_night(balance, money):  # 저녁에 출금\r\n",
        "    commission = 100  # 수수료 100원\r\n",
        "    return commission, balance - money - commission\r\n",
        "\r\n",
        "\r\n",
        "balance = 0  # 현재 잔액\r\n",
        "balance = deposit(balance, 1000)\r\n",
        "# balance = withdrow(balance, 2000)\r\n",
        "# balance = withdrow(balance, 500)\r\n",
        "commission, balance = withdrow_night(balance, 500)\r\n",
        "print(\"수수료 {0}원이며, 잔액은 {1}원입니다.\".format(commission, balance))\r\n"
      ],
      "execution_count": null,
      "outputs": [
        {
          "output_type": "stream",
          "text": [
            "입금이 완료되었습니다. 잔액은 1000원입니다.\n",
            "수수료 100원이며, 잔액은 400원입니다.\n"
          ],
          "name": "stdout"
        }
      ]
    },
    {
      "cell_type": "markdown",
      "metadata": {
        "id": "zxQFfIHEHTRS"
      },
      "source": [
        "---\r\n",
        "### 파이썬 함수에서 인수전달\r\n",
        "- 변경 불가능 변수(int 형)"
      ]
    },
    {
      "cell_type": "code",
      "metadata": {
        "colab": {
          "base_uri": "https://localhost:8080/"
        },
        "id": "58RJJBoqHYzK",
        "outputId": "352368f0-15e7-40a8-aff4-a1c5f0f97629"
      },
      "source": [
        "a = 10\r\n",
        "b = 20\r\n",
        "def sum1(x,y):\r\n",
        "  return x+y\r\n",
        "print(sum1(a,b)) # 30\r\n",
        "\r\n",
        "x = 10\r\n",
        "def sum2(x,y):\r\n",
        "  x = 1 # 이 부분에서 값이 1인 객체가 새로 생성되고 x에 새로운 레퍼런스를 할당한다.\r\n",
        "  return x+y\r\n",
        "print(sum2(x,b)) # 21 (x를 인수로 넣어 준다.)\r\n",
        "print(x) # 10 (함수 내부에서 변경한 사항이 외부에 영향을 미치지 않는다.)"
      ],
      "execution_count": null,
      "outputs": [
        {
          "output_type": "stream",
          "text": [
            "30\n",
            "21\n",
            "10\n"
          ],
          "name": "stdout"
        }
      ]
    },
    {
      "cell_type": "markdown",
      "metadata": {
        "id": "yDC9-jo6IXeD"
      },
      "source": [
        "- 변경 가능한 변수 (객체형)"
      ]
    },
    {
      "cell_type": "code",
      "metadata": {
        "colab": {
          "base_uri": "https://localhost:8080/"
        },
        "id": "svlYmbPsIa5K",
        "outputId": "f4c2aa40-bc47-4623-8e80-40e10df1c965"
      },
      "source": [
        "def change(x):\r\n",
        "  x[0] = \"H\"  # list x의 첫번째 아이템을 H로 바꾼다.\r\n",
        "\r\n",
        "wordlist = [\"J\",\"A\",\"M\"]\r\n",
        "change(wordlist)\r\n",
        "print(wordlist)  # change가 호출자의 객체에게 영향을 미친다."
      ],
      "execution_count": null,
      "outputs": [
        {
          "output_type": "stream",
          "text": [
            "['H', 'A', 'M']\n"
          ],
          "name": "stdout"
        }
      ]
    },
    {
      "cell_type": "code",
      "metadata": {
        "colab": {
          "base_uri": "https://localhost:8080/"
        },
        "id": "g9hvQnVZJI1r",
        "outputId": "c36f0e5e-6e69-4ccb-f81a-a64a38c8abb7"
      },
      "source": [
        "def change(x):\r\n",
        "  x = x[:]    # 입력받은 인수를 모두 x에 복사합니다.\r\n",
        "  x[0] = \"H\"  # list x의 첫번째 아이템을 H로 바꾼다.\r\n",
        "  return None\r\n",
        "\r\n",
        "wordlist = [\"J\",\"A\",\"M\"]\r\n",
        "change(wordlist)\r\n",
        "print(wordlist)  # change가 호출자의 객체에게 영향을 미치지 않는다."
      ],
      "execution_count": null,
      "outputs": [
        {
          "output_type": "stream",
          "text": [
            "['J', 'A', 'M']\n"
          ],
          "name": "stdout"
        }
      ]
    },
    {
      "cell_type": "markdown",
      "metadata": {
        "id": "GXtstLHwLAkr"
      },
      "source": [
        "- 파이썬 인수모드\r\n",
        "  - 기본 인수 : 함수를 호출할 때 지정해주지 않아도 기본값이 할당\r\n",
        "  - 키워드 인수 \r\n",
        "    - 인수 이름으로 값을 전달하는 방식\r\n",
        "    - 변수의 이름으로 특정 인수를 전달\r\n",
        "  - 가변인수 리스트\r\n",
        "    - 인수의 개수가 정해지지 않은 가변 인수를 전달\r\n",
        "    - *를 사용하며 인수는 튜플 형식으로 전달\r\n",
        "  - 정의되지 않은 인수 처리\r\n",
        "    - **를 사용하여 정의되지 않은 인수를 사전(dictionery) 형식으로 전달"
      ]
    },
    {
      "cell_type": "code",
      "metadata": {
        "colab": {
          "base_uri": "https://localhost:8080/"
        },
        "id": "R_VpSb4BLcGO",
        "outputId": "e546e1bc-0d1c-4d35-dd87-41f46775ad9a"
      },
      "source": [
        "# 기본인수\r\n",
        "def time(a=10, b=10):\r\n",
        "  return a*b\r\n",
        "print(time()) # 200\r\n",
        "print(time(5)) # 100\r\n",
        "\r\n",
        "def profile(name, age=17, main_lang=\"파이썬\"): # age 기본값 17, main_lang 기본값 '파이썬'\r\n",
        "  print(\"이름 : {0}\\t나이 : {1}\\t주 사용언어 : {2}\"\\\r\n",
        "        .format(name, age, main_lang))\r\n",
        "\r\n",
        "profile(\"유재석\")"
      ],
      "execution_count": 3,
      "outputs": [
        {
          "output_type": "stream",
          "text": [
            "100\n",
            "50\n",
            "이름 : 유재석\t나이 : 17\t주 사용언어 : 파이썬\n"
          ],
          "name": "stdout"
        }
      ]
    },
    {
      "cell_type": "code",
      "metadata": {
        "colab": {
          "base_uri": "https://localhost:8080/"
        },
        "id": "_qy7fUsSOcbg",
        "outputId": "caa13b87-a03b-42a1-a4de-b986c94e82cc"
      },
      "source": [
        "#####################################\r\n",
        "# 키워드 인수\r\n",
        "def connectURI(server, port):\r\n",
        "  str = \"http://\" + server + \":\" + port\r\n",
        "  return str\r\n",
        "print(connectURI(\"test.com\", \"8080\")) # http://test.com:8080\r\n",
        "print(connectURI(port=\"8080\", server=\"test.com\")) # http://test.com:8080"
      ],
      "execution_count": 5,
      "outputs": [
        {
          "output_type": "stream",
          "text": [
            "http://test.com:8080\n",
            "http://test.com:8080\n"
          ],
          "name": "stdout"
        }
      ]
    },
    {
      "cell_type": "code",
      "metadata": {
        "colab": {
          "base_uri": "https://localhost:8080/"
        },
        "id": "dkgnHjfoNW1t",
        "outputId": "d060d20f-312c-402b-a049-fb6178f4711c"
      },
      "source": [
        "######################################\r\n",
        "# 가변인수 리스트\r\n",
        "def union2(*ar):\r\n",
        "  res = []\r\n",
        "  for item in ar :\r\n",
        "    for x in item:\r\n",
        "      if not x in res : \r\n",
        "        res.append(x)\r\n",
        "  return res\r\n",
        "print(union2(\"HAM\", \"EGG\", \"SPAM\"))"
      ],
      "execution_count": null,
      "outputs": [
        {
          "output_type": "stream",
          "text": [
            "['H', 'A', 'M', 'E', 'G', 'S', 'P']\n"
          ],
          "name": "stdout"
        }
      ]
    },
    {
      "cell_type": "code",
      "metadata": {
        "colab": {
          "base_uri": "https://localhost:8080/"
        },
        "id": "E5sxgmxfOfvO",
        "outputId": "07671772-d4bd-49b3-c419-3906812381b4"
      },
      "source": [
        "######################################\r\n",
        "# 정의되지 않은 인수\r\n",
        "def userURIBuilder(server, port, **user):\r\n",
        "  str = \"http://\" + server + \":\" + port + \"/?\"\r\n",
        "  for key in user.keys():\r\n",
        "    str += key + \"=\" + user[key] + \"&\"\r\n",
        "  return str\r\n",
        "print(userURIBuilder(\"test.com\", \"8080\", id=\"userId\", passwd=\"1234\"))\r\n",
        "print(userURIBuilder(\"test.com\", \"8080\", id=\"userId\", passwd=\"1234\", name=\"mike\", age=\"20\"))"
      ],
      "execution_count": null,
      "outputs": [
        {
          "output_type": "stream",
          "text": [
            "http://test.com:8080/?id=userId&passwd=1234&\n",
            "http://test.com:8080/?id=userId&passwd=1234&name=mike&age=20&\n"
          ],
          "name": "stdout"
        }
      ]
    },
    {
      "cell_type": "markdown",
      "metadata": {
        "id": "jrKbyy7RPl2W"
      },
      "source": [
        "---\r\n",
        "### 람다함수\r\n",
        "  - 이름이 없는 한줄짜리 함수\r\n",
        "  - 한줄의 간단한 함수가 필요한 경우\r\n",
        "  - 프로그램 가독성 향상\r\n",
        "  - 함수를 인수로 넘겨줄때 사용"
      ]
    },
    {
      "cell_type": "code",
      "metadata": {
        "colab": {
          "base_uri": "https://localhost:8080/"
        },
        "id": "XZlju2FIP2EP",
        "outputId": "16e3061f-26a4-4bf6-edcc-0e90a7290c3e"
      },
      "source": [
        "g = lambda x,y : x*y\r\n",
        "print(g(2,3)) # 6\r\n",
        "print((lambda x:x*x)(3)) # 9"
      ],
      "execution_count": null,
      "outputs": [
        {
          "output_type": "stream",
          "text": [
            "6\n",
            "9\n"
          ],
          "name": "stdout"
        }
      ]
    },
    {
      "cell_type": "markdown",
      "metadata": {
        "id": "-o_QP0qdLwxI"
      },
      "source": [
        "---\r\n",
        "### pass 구문"
      ]
    },
    {
      "cell_type": "code",
      "metadata": {
        "id": "HrtOi05LQoWV"
      },
      "source": [
        "# 아무일도 하지 않음\r\n",
        "while True : \r\n",
        "  pass\r\n",
        "\r\n",
        "# 아무것도 하지 않는 함수, 모듈, 클래스를 만들어야 할 경우 pass 사용\r\n",
        "def sample():\r\n",
        "  pass\r\n",
        "\r\n",
        "sample()"
      ],
      "execution_count": null,
      "outputs": []
    },
    {
      "cell_type": "markdown",
      "metadata": {
        "id": "rnwWp8k6RGvV"
      },
      "source": [
        "---\r\n",
        "### __doc__속성과 help함수\r\n",
        "  - help 함수를 이용해 함수의 설명 확인가능\r\n",
        "  - 사용자가 만든 함수도 help를 사용해 설명 확인가능"
      ]
    },
    {
      "cell_type": "code",
      "metadata": {
        "colab": {
          "base_uri": "https://localhost:8080/"
        },
        "id": "AotNXd2dRUWI",
        "outputId": "a33f01eb-8ae9-44f3-d6dc-0e8d69128be2"
      },
      "source": [
        "help(print)\r\n",
        "\r\n",
        "def plus(a,b):\r\n",
        "  return a+b\r\n",
        "help(plus)"
      ],
      "execution_count": null,
      "outputs": [
        {
          "output_type": "stream",
          "text": [
            "Help on built-in function print in module builtins:\n",
            "\n",
            "print(...)\n",
            "    print(value, ..., sep=' ', end='\\n', file=sys.stdout, flush=False)\n",
            "    \n",
            "    Prints the values to a stream, or to sys.stdout by default.\n",
            "    Optional keyword arguments:\n",
            "    file:  a file-like object (stream); defaults to the current sys.stdout.\n",
            "    sep:   string inserted between values, default a space.\n",
            "    end:   string appended after the last value, default a newline.\n",
            "    flush: whether to forcibly flush the stream.\n",
            "\n",
            "Help on function plus in module __main__:\n",
            "\n",
            "plus(a, b)\n",
            "\n"
          ],
          "name": "stdout"
        }
      ]
    },
    {
      "cell_type": "markdown",
      "metadata": {
        "id": "xXSqj_XfRpp0"
      },
      "source": [
        "  - 조금 더 자세한 설명 추가시 __doc__속성 이용"
      ]
    },
    {
      "cell_type": "code",
      "metadata": {
        "colab": {
          "base_uri": "https://localhost:8080/"
        },
        "id": "6HlrT3l3Rv2k",
        "outputId": "3145abf9-e925-496b-b21d-7e96895a6800"
      },
      "source": [
        "plus.__doc__ = \"return the sum of parameter a,b\"\r\n",
        "help(plus)"
      ],
      "execution_count": null,
      "outputs": [
        {
          "output_type": "stream",
          "text": [
            "Help on function plus in module __main__:\n",
            "\n",
            "plus(a, b)\n",
            "    return the sum of parameter a,b\n",
            "\n"
          ],
          "name": "stdout"
        }
      ]
    },
    {
      "cell_type": "markdown",
      "metadata": {
        "id": "wWkcLef4SCnE"
      },
      "source": [
        "---\r\n",
        "### 이터레이터(Iterater)\r\n",
        "  - 순회 가능한 객체의 요소를 순서대로 접근 가능한 객체\r\n",
        "    - 내부 반복문을 관리해 주는 객체\r\n",
        "    - 이터레이터 안의 __next__() 를 이용해 순회 가능한 객체의 요소를 하나씩 접근 가능"
      ]
    },
    {
      "cell_type": "code",
      "metadata": {
        "colab": {
          "base_uri": "https://localhost:8080/",
          "height": 288
        },
        "id": "OwbdU_slSapE",
        "outputId": "98730a47-dc2c-4849-a026-83f53ec5d6a1"
      },
      "source": [
        "s = \"abc\"\r\n",
        "it = iter(s)\r\n",
        "print(it)\r\n",
        "print(next(it))\r\n",
        "print(next(it))\r\n",
        "print(it.__next__())\r\n",
        "next(it)"
      ],
      "execution_count": null,
      "outputs": [
        {
          "output_type": "stream",
          "text": [
            "<str_iterator object at 0x7f33cbcd1ef0>\n",
            "a\n",
            "b\n",
            "c\n"
          ],
          "name": "stdout"
        },
        {
          "output_type": "error",
          "ename": "StopIteration",
          "evalue": "ignored",
          "traceback": [
            "\u001b[0;31m---------------------------------------------------------------------------\u001b[0m",
            "\u001b[0;31mStopIteration\u001b[0m                             Traceback (most recent call last)",
            "\u001b[0;32m<ipython-input-20-14d949479403>\u001b[0m in \u001b[0;36m<module>\u001b[0;34m()\u001b[0m\n\u001b[1;32m      5\u001b[0m \u001b[0mprint\u001b[0m\u001b[0;34m(\u001b[0m\u001b[0mnext\u001b[0m\u001b[0;34m(\u001b[0m\u001b[0mit\u001b[0m\u001b[0;34m)\u001b[0m\u001b[0;34m)\u001b[0m\u001b[0;34m\u001b[0m\u001b[0;34m\u001b[0m\u001b[0m\n\u001b[1;32m      6\u001b[0m \u001b[0mprint\u001b[0m\u001b[0;34m(\u001b[0m\u001b[0mit\u001b[0m\u001b[0;34m.\u001b[0m\u001b[0m__next__\u001b[0m\u001b[0;34m(\u001b[0m\u001b[0;34m)\u001b[0m\u001b[0;34m)\u001b[0m\u001b[0;34m\u001b[0m\u001b[0;34m\u001b[0m\u001b[0m\n\u001b[0;32m----> 7\u001b[0;31m \u001b[0mnext\u001b[0m\u001b[0;34m(\u001b[0m\u001b[0mit\u001b[0m\u001b[0;34m)\u001b[0m\u001b[0;34m\u001b[0m\u001b[0;34m\u001b[0m\u001b[0m\n\u001b[0m",
            "\u001b[0;31mStopIteration\u001b[0m: "
          ]
        }
      ]
    },
    {
      "cell_type": "markdown",
      "metadata": {
        "id": "fwOUgT2JS4Rj"
      },
      "source": [
        "---\r\n",
        "### 제네레이터(Generator)\r\n",
        "  - return 대신 yield 라는 구문을 이용헤 함수 객체를 유지한 체 값을 호출자에게 전달\r\n",
        "    - 함수의 상태를 그대로 유지하고 다시 호출할 수 있기 때문에 순회 가능한 객체를 만들때 매우 편리함\r\n",
        "    - 삭제는 del을 이용할 수도 있고 clear를 이용해 한번에 삭제가능"
      ]
    },
    {
      "cell_type": "code",
      "metadata": {
        "colab": {
          "base_uri": "https://localhost:8080/"
        },
        "id": "Dh9YmSx0TYVp",
        "outputId": "827d83e6-5f62-45bf-c512-af670adde954"
      },
      "source": [
        "def reverse(data):\r\n",
        "  for index in range(len(data) - 1, -1, -1):\r\n",
        "    yield data[index]\r\n",
        "\r\n",
        "for char in reverse(\"golf\"):\r\n",
        "  print(char)"
      ],
      "execution_count": null,
      "outputs": [
        {
          "output_type": "stream",
          "text": [
            "f\n",
            "l\n",
            "o\n",
            "g\n"
          ],
          "name": "stdout"
        }
      ]
    },
    {
      "cell_type": "markdown",
      "metadata": {
        "id": "YvuyYfUdZdOu"
      },
      "source": [
        "# 기타\r\n",
        "  - 지역변수와 전역변수"
      ]
    },
    {
      "cell_type": "code",
      "metadata": {
        "colab": {
          "base_uri": "https://localhost:8080/",
          "height": 330
        },
        "id": "RT2CAYaQZe_k",
        "outputId": "a547125e-77de-4408-d2b5-b4a9dd8e77f1"
      },
      "source": [
        "gun = 10\r\n",
        "\r\n",
        "def checkpoint(soldiers) : # 경계근무\r\n",
        "  gun = gun - soldiers # 에러발생 : gun 이라는 변수가 함수내 선언되어 있지 않기 때문에\r\n",
        "  print(\"[함수 내] 남은 총 : {0}\".format(gun))\r\n",
        "\r\n",
        "print(\"전체 총 : {0}\".format(gun))\r\n",
        "checkpoint(2)\r\n",
        "print(\"남은 총 : {0}\".format(gun))"
      ],
      "execution_count": 6,
      "outputs": [
        {
          "output_type": "error",
          "ename": "UnboundLocalError",
          "evalue": "ignored",
          "traceback": [
            "\u001b[0;31m---------------------------------------------------------------------------\u001b[0m",
            "\u001b[0;31mUnboundLocalError\u001b[0m                         Traceback (most recent call last)",
            "\u001b[0;32m<ipython-input-6-39b2eb243f4e>\u001b[0m in \u001b[0;36m<module>\u001b[0;34m()\u001b[0m\n\u001b[1;32m      4\u001b[0m   \u001b[0mgun\u001b[0m \u001b[0;34m=\u001b[0m \u001b[0mgun\u001b[0m \u001b[0;34m-\u001b[0m \u001b[0msoldiers\u001b[0m\u001b[0;34m\u001b[0m\u001b[0;34m\u001b[0m\u001b[0m\n\u001b[1;32m      5\u001b[0m   \u001b[0mprint\u001b[0m\u001b[0;34m(\u001b[0m\u001b[0;34m\"[함수 내] 남은 총 : {0}\"\u001b[0m\u001b[0;34m.\u001b[0m\u001b[0mformat\u001b[0m\u001b[0;34m(\u001b[0m\u001b[0mgun\u001b[0m\u001b[0;34m)\u001b[0m\u001b[0;34m)\u001b[0m\u001b[0;34m\u001b[0m\u001b[0;34m\u001b[0m\u001b[0m\n\u001b[0;32m----> 6\u001b[0;31m \u001b[0mcheckpoint\u001b[0m\u001b[0;34m(\u001b[0m\u001b[0;36m2\u001b[0m\u001b[0;34m)\u001b[0m\u001b[0;34m\u001b[0m\u001b[0;34m\u001b[0m\u001b[0m\n\u001b[0m",
            "\u001b[0;32m<ipython-input-6-39b2eb243f4e>\u001b[0m in \u001b[0;36mcheckpoint\u001b[0;34m(soldiers)\u001b[0m\n\u001b[1;32m      2\u001b[0m \u001b[0;34m\u001b[0m\u001b[0m\n\u001b[1;32m      3\u001b[0m \u001b[0;32mdef\u001b[0m \u001b[0mcheckpoint\u001b[0m\u001b[0;34m(\u001b[0m\u001b[0msoldiers\u001b[0m\u001b[0;34m)\u001b[0m \u001b[0;34m:\u001b[0m \u001b[0;31m# 경계근무\u001b[0m\u001b[0;34m\u001b[0m\u001b[0;34m\u001b[0m\u001b[0m\n\u001b[0;32m----> 4\u001b[0;31m   \u001b[0mgun\u001b[0m \u001b[0;34m=\u001b[0m \u001b[0mgun\u001b[0m \u001b[0;34m-\u001b[0m \u001b[0msoldiers\u001b[0m\u001b[0;34m\u001b[0m\u001b[0;34m\u001b[0m\u001b[0m\n\u001b[0m\u001b[1;32m      5\u001b[0m   \u001b[0mprint\u001b[0m\u001b[0;34m(\u001b[0m\u001b[0;34m\"[함수 내] 남은 총 : {0}\"\u001b[0m\u001b[0;34m.\u001b[0m\u001b[0mformat\u001b[0m\u001b[0;34m(\u001b[0m\u001b[0mgun\u001b[0m\u001b[0;34m)\u001b[0m\u001b[0;34m)\u001b[0m\u001b[0;34m\u001b[0m\u001b[0;34m\u001b[0m\u001b[0m\n\u001b[1;32m      6\u001b[0m \u001b[0mcheckpoint\u001b[0m\u001b[0;34m(\u001b[0m\u001b[0;36m2\u001b[0m\u001b[0;34m)\u001b[0m\u001b[0;34m\u001b[0m\u001b[0;34m\u001b[0m\u001b[0m\n",
            "\u001b[0;31mUnboundLocalError\u001b[0m: local variable 'gun' referenced before assignment"
          ]
        }
      ]
    },
    {
      "cell_type": "code",
      "metadata": {
        "colab": {
          "base_uri": "https://localhost:8080/"
        },
        "id": "Gm_iqKwuaFJL",
        "outputId": "62a8dc77-cc86-496b-910a-300b1860e839"
      },
      "source": [
        "gun = 10\r\n",
        "\r\n",
        "def checkpoint(soldiers) : # 경계근무\r\n",
        "  gun = 20  # 함수 안에서만 사용하는 변수가 선언됨.\r\n",
        "  gun = gun - soldiers \r\n",
        "  print(\"[함수 내] 남은 총 : {0}\".format(gun))\r\n",
        "  \r\n",
        "print(\"전체 총 : {0}\".format(gun))\r\n",
        "checkpoint(2) # 함수 \r\n",
        "print(\"남은 총 : {0}\".format(gun))"
      ],
      "execution_count": 8,
      "outputs": [
        {
          "output_type": "stream",
          "text": [
            "전체 총 : 10\n",
            "[함수 내] 남은 총 : 18\n",
            "남은 총 : 10\n"
          ],
          "name": "stdout"
        }
      ]
    },
    {
      "cell_type": "code",
      "metadata": {
        "colab": {
          "base_uri": "https://localhost:8080/"
        },
        "id": "FyTd3kDiagGS",
        "outputId": "4c8f119e-41ea-4820-c386-6e31a2c8d755"
      },
      "source": [
        "gun = 10\r\n",
        "\r\n",
        "def checkpoint(soldiers) : # 경계근무\r\n",
        "  global gun  # global 을 활용하여 전역변수를 함순내에서 활용가능\r\n",
        "  gun = gun - soldiers \r\n",
        "  print(\"[함수 내] 남은 총 : {0}\".format(gun))\r\n",
        "  \r\n",
        "print(\"전체 총 : {0}\".format(gun))\r\n",
        "checkpoint(2) # 함수 \r\n",
        "print(\"남은 총 : {0}\".format(gun))"
      ],
      "execution_count": 9,
      "outputs": [
        {
          "output_type": "stream",
          "text": [
            "전체 총 : 10\n",
            "[함수 내] 남은 총 : 8\n",
            "남은 총 : 8\n"
          ],
          "name": "stdout"
        }
      ]
    },
    {
      "cell_type": "code",
      "metadata": {
        "colab": {
          "base_uri": "https://localhost:8080/"
        },
        "id": "GlzNKtX9asdP",
        "outputId": "5a015097-88a6-4342-fef7-1aa6afb94008"
      },
      "source": [
        "gun = 10\r\n",
        "\r\n",
        "def checkpoint(gun, soldiers) : # 경계근무\r\n",
        "  gun = gun - soldiers # gun을 인자로 넣어줘도 함수내에서만 사용하는 지역변수로만 사용됨.\r\n",
        "  print(\"[함수 내] 남은 총 : {0}\".format(gun))\r\n",
        "  \r\n",
        "print(\"전체 총 : {0}\".format(gun))\r\n",
        "checkpoint(gun, 2) # 함수 \r\n",
        "print(\"남은 총 : {0}\".format(gun))"
      ],
      "execution_count": 10,
      "outputs": [
        {
          "output_type": "stream",
          "text": [
            "전체 총 : 10\n",
            "[함수 내] 남은 총 : 8\n",
            "남은 총 : 10\n"
          ],
          "name": "stdout"
        }
      ]
    },
    {
      "cell_type": "markdown",
      "metadata": {
        "id": "wfD-0dP5bEzx"
      },
      "source": [
        "Quiz) 표준 체중을 구하는 프로그램을 작성하시오.\r\n",
        "  - 표준 체중 : 각 개인의 키에 적당한 체중\r\n",
        "  \r\n",
        "  (성별에 따른 공식)\r\n",
        "  \r\n",
        "  남자 : 키(m) x 키(m) x 22 \r\n",
        "\r\n",
        "  남자 : 키(m) x 키(m) x 21\r\n",
        "\r\n",
        "  - 조건1 : 표준 체중은 별도의 함수 내에서 계산\r\n",
        "    - 함수명 : std_weight\r\n",
        "    - 전달값 : 키(height), 성별(gender)\r\n",
        "  - 조건2 : 표준 체중은 소수점 둘째자리까지 표기\r\n",
        "\r\n",
        "  (출력예시)\r\n",
        "\r\n",
        "  키 175cm 남자의 표준 체중은 67,38kg 입니다."
      ]
    },
    {
      "cell_type": "code",
      "metadata": {
        "colab": {
          "base_uri": "https://localhost:8080/"
        },
        "id": "3UiHXeC1b1wC",
        "outputId": "27193221-29b4-4b33-faf8-affa84348d35"
      },
      "source": [
        "def std_weight(height, gender) : \r\n",
        "  if gender == \"남자\" :\r\n",
        "    print(\"키 {0} {1}의 표준 체중은 {2}\".format(height, gender, round(pow(height,2)*22,2)))\r\n",
        "  else :\r\n",
        "    print(\"키 {0} {1}의 표준 체중은 {2}\".format(height, gender, round(pow(height,2)*21,2)))\r\n",
        "\r\n",
        "std_weight(175/100, \"남자\")"
      ],
      "execution_count": 20,
      "outputs": [
        {
          "output_type": "stream",
          "text": [
            "키 1.75 남자의 표준 체중은 67.38\n"
          ],
          "name": "stdout"
        }
      ]
    },
    {
      "cell_type": "code",
      "metadata": {
        "id": "dmuEYr5ybDdK"
      },
      "source": [
        ""
      ],
      "execution_count": null,
      "outputs": []
    }
  ]
}