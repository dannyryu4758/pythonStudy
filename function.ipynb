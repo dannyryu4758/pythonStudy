{
  "nbformat": 4,
  "nbformat_minor": 0,
  "metadata": {
    "colab": {
      "name": "function.ipynb",
      "provenance": [],
      "collapsed_sections": [],
      "authorship_tag": "ABX9TyM23OSy7y/pWsYKPXcPV5O8",
      "include_colab_link": true
    },
    "kernelspec": {
      "name": "python3",
      "display_name": "Python 3"
    }
  },
  "cells": [
    {
      "cell_type": "markdown",
      "metadata": {
        "id": "view-in-github",
        "colab_type": "text"
      },
      "source": [
        "<a href=\"https://colab.research.google.com/github/dannyryu4758/pythonStudy/blob/main/function.ipynb\" target=\"_parent\"><img src=\"https://colab.research.google.com/assets/colab-badge.svg\" alt=\"Open In Colab\"/></a>"
      ]
    },
    {
      "cell_type": "markdown",
      "metadata": {
        "id": "03ZUmKa8GXXG"
      },
      "source": [
        "# 함수"
      ]
    },
    {
      "cell_type": "code",
      "metadata": {
        "id": "9Uzb8AhcGa6K"
      },
      "source": [
        "def open_account():\r\n",
        "    print(\"새로운 계좌가 생성되었습니다.\")\r\n",
        "\r\n",
        "open_account()"
      ],
      "execution_count": null,
      "outputs": []
    },
    {
      "cell_type": "markdown",
      "metadata": {
        "id": "KjPKc32zGjIu"
      },
      "source": [
        "---\r\n",
        "### 전달값과 반환값"
      ]
    },
    {
      "cell_type": "code",
      "metadata": {
        "colab": {
          "base_uri": "https://localhost:8080/"
        },
        "id": "Uo2HF6JnGiQM",
        "outputId": "da4de584-dc9d-4004-e933-fa1c402aa71e"
      },
      "source": [
        "def deposit(balance, money):  # 입금\r\n",
        "    print(\"입금이 완료되었습니다. 잔액은 {0}원입니다.\".format(balance + money))\r\n",
        "    return balance + money\r\n",
        "\r\n",
        "\r\n",
        "def withdrow(balance, money):  # 출금\r\n",
        "    if balance >= money:  # 잔액이 출금보다 많으면\r\n",
        "        print(\"출금이 완료되었습니다. 잔액은 {0}원입니다.\".format(balance - money))\r\n",
        "        return balance - money\r\n",
        "    else:\r\n",
        "        print(\"출금이 완료되지 않았습니다. 잔액은 {0}원입니다.\".format(balance))\r\n",
        "        return balance\r\n",
        "\r\n",
        "# 여러개의 값을 튜플로 반환\r\n",
        "def withdrow_night(balance, money):  # 저녁에 출금\r\n",
        "    commission = 100  # 수수료 100원\r\n",
        "    return commission, balance - money - commission\r\n",
        "\r\n",
        "\r\n",
        "balance = 0  # 현재 잔액\r\n",
        "balance = deposit(balance, 1000)\r\n",
        "# balance = withdrow(balance, 2000)\r\n",
        "# balance = withdrow(balance, 500)\r\n",
        "commission, balance = withdrow_night(balance, 500)\r\n",
        "print(\"수수료 {0}원이며, 잔액은 {1}원입니다.\".format(commission, balance))\r\n"
      ],
      "execution_count": 1,
      "outputs": [
        {
          "output_type": "stream",
          "text": [
            "입금이 완료되었습니다. 잔액은 1000원입니다.\n",
            "수수료 100원이며, 잔액은 400원입니다.\n"
          ],
          "name": "stdout"
        }
      ]
    },
    {
      "cell_type": "markdown",
      "metadata": {
        "id": "zxQFfIHEHTRS"
      },
      "source": [
        "---\r\n",
        "### 파이썬 함수에서 인수전달\r\n",
        "- 변경 불가능 변수(int 형)"
      ]
    },
    {
      "cell_type": "code",
      "metadata": {
        "colab": {
          "base_uri": "https://localhost:8080/"
        },
        "id": "58RJJBoqHYzK",
        "outputId": "352368f0-15e7-40a8-aff4-a1c5f0f97629"
      },
      "source": [
        "a = 10\r\n",
        "b = 20\r\n",
        "def sum1(x,y):\r\n",
        "  return x+y\r\n",
        "print(sum1(a,b)) # 30\r\n",
        "\r\n",
        "x = 10\r\n",
        "def sum2(x,y):\r\n",
        "  x = 1 # 이 부분에서 값이 1인 객체가 새로 생성되고 x에 새로운 레퍼런스를 할당한다.\r\n",
        "  return x+y\r\n",
        "print(sum2(x,b)) # 21 (x를 인수로 넣어 준다.)\r\n",
        "print(x) # 10 (함수 내부에서 변경한 사항이 외부에 영향을 미치지 않는다.)"
      ],
      "execution_count": 2,
      "outputs": [
        {
          "output_type": "stream",
          "text": [
            "30\n",
            "21\n",
            "10\n"
          ],
          "name": "stdout"
        }
      ]
    },
    {
      "cell_type": "markdown",
      "metadata": {
        "id": "yDC9-jo6IXeD"
      },
      "source": [
        "- 변경 가능한 변수 (객체형)"
      ]
    },
    {
      "cell_type": "code",
      "metadata": {
        "colab": {
          "base_uri": "https://localhost:8080/"
        },
        "id": "svlYmbPsIa5K",
        "outputId": "f4c2aa40-bc47-4623-8e80-40e10df1c965"
      },
      "source": [
        "def change(x):\r\n",
        "  x[0] = \"H\"  # list x의 첫번째 아이템을 H로 바꾼다.\r\n",
        "\r\n",
        "wordlist = [\"J\",\"A\",\"M\"]\r\n",
        "change(wordlist)\r\n",
        "print(wordlist)  # change가 호출자의 객체에게 영향을 미친다."
      ],
      "execution_count": 3,
      "outputs": [
        {
          "output_type": "stream",
          "text": [
            "['H', 'A', 'M']\n"
          ],
          "name": "stdout"
        }
      ]
    },
    {
      "cell_type": "code",
      "metadata": {
        "colab": {
          "base_uri": "https://localhost:8080/"
        },
        "id": "g9hvQnVZJI1r",
        "outputId": "c36f0e5e-6e69-4ccb-f81a-a64a38c8abb7"
      },
      "source": [
        "def change(x):\r\n",
        "  x = x[:]    # 입력받은 인수를 모두 x에 복사합니다.\r\n",
        "  x[0] = \"H\"  # list x의 첫번째 아이템을 H로 바꾼다.\r\n",
        "  return None\r\n",
        "\r\n",
        "wordlist = [\"J\",\"A\",\"M\"]\r\n",
        "change(wordlist)\r\n",
        "print(wordlist)  # change가 호출자의 객체에게 영향을 미치지 않는다."
      ],
      "execution_count": 4,
      "outputs": [
        {
          "output_type": "stream",
          "text": [
            "['J', 'A', 'M']\n"
          ],
          "name": "stdout"
        }
      ]
    },
    {
      "cell_type": "markdown",
      "metadata": {
        "id": "GXtstLHwLAkr"
      },
      "source": [
        "- 파이썬 인수모드\r\n",
        "  - 기본 인수 : 함수를 호출할 때 지정해주지 않아도 기본값이 할당\r\n",
        "  - 키워드 인수 \r\n",
        "    - 인수 이름으로 값을 전달하는 방식\r\n",
        "    - 변수의 이름으로 특정 인수를 전달"
      ]
    },
    {
      "cell_type": "code",
      "metadata": {
        "colab": {
          "base_uri": "https://localhost:8080/"
        },
        "id": "R_VpSb4BLcGO",
        "outputId": "241bb7af-e16e-447b-8c14-5a3d390ec92b"
      },
      "source": [
        "# 기본인수\r\n",
        "def time(a=10, b=10):\r\n",
        "  return a*b\r\n",
        "print(time()) # 200\r\n",
        "print(time(5)) # 100\r\n",
        "\r\n",
        "#####################################\r\n",
        "\r\n",
        "# 키워드 인수\r\n",
        "def connectURI(server, port):\r\n",
        "  str = \"http://\" + server + \":\" + port\r\n",
        "  return str\r\n",
        "print(connectURI(\"test.com\", \"8080\")) # http://test.com:8080\r\n",
        "print(connectURI(port=\"8080\", server=\"test.com\")) # http://test.com:8080"
      ],
      "execution_count": 6,
      "outputs": [
        {
          "output_type": "stream",
          "text": [
            "100\n",
            "50\n",
            "http://test.com:8080\n",
            "http://test.com:8080\n"
          ],
          "name": "stdout"
        }
      ]
    },
    {
      "cell_type": "markdown",
      "metadata": {
        "id": "-o_QP0qdLwxI"
      },
      "source": [
        ""
      ]
    }
  ]
}