{
  "nbformat": 4,
  "nbformat_minor": 0,
  "metadata": {
    "colab": {
      "name": "class.ipynb",
      "provenance": [],
      "collapsed_sections": [],
      "authorship_tag": "ABX9TyP8aSohKQGHhSgRb/6xFtlb",
      "include_colab_link": true
    },
    "kernelspec": {
      "name": "python3",
      "display_name": "Python 3"
    }
  },
  "cells": [
    {
      "cell_type": "markdown",
      "metadata": {
        "id": "view-in-github",
        "colab_type": "text"
      },
      "source": [
        "<a href=\"https://colab.research.google.com/github/dannyryu4758/pythonStudy/blob/main/class.ipynb\" target=\"_parent\"><img src=\"https://colab.research.google.com/assets/colab-badge.svg\" alt=\"Open In Colab\"/></a>"
      ]
    },
    {
      "cell_type": "markdown",
      "metadata": {
        "id": "0_6G_zqCKPTJ"
      },
      "source": [
        "# 클래스\r\n",
        "  - 데이터와 데이터를 변형하는 함수를 같은 공간으로 작성\r\n",
        "  - class의 모든 메소드와 맴버변수의 접근 권한은 public 이다."
      ]
    },
    {
      "cell_type": "code",
      "metadata": {
        "colab": {
          "base_uri": "https://localhost:8080/",
          "height": 348
        },
        "id": "FIt10pAKKMJ7",
        "outputId": "8ea499ad-ed9a-46ef-bd19-4257d6fe5298"
      },
      "source": [
        "class Person : # 클래스 정의\r\n",
        "  Name = \"Default Nmae\" # 멤버 변수\r\n",
        "  \r\n",
        "  def Print(self) : # 멤버 메소드 (self는 얘약어는 아니지만 관용처럼 this로 사용한다)\r\n",
        "    print(\"My Name is {0}\".format(self.Name))\r\n",
        "\r\n",
        "p1 = Person() # 인스턴스 객체 생성\r\n",
        "p1.Print() # 멤버 변수값을 출력\r\n",
        "p2 = Person()\r\n",
        "print(\"p1's name : \", p1.Name) # 각 객체의 Name 속성 출력\r\n",
        "print(\"p2's name : \", p2.Name)\r\n",
        "\r\n",
        "p1.Name = \"김연아\"  # p1 인스턴스의 'Name' 속성을 변경\r\n",
        "print(\"p1's name : \", p1.Name)\r\n",
        "print(\"p2's name : \", p2.Name)\r\n",
        "\r\n",
        "Person.title = \"New title\" # 클레스 객체에 새로운 멤버 변수 title 추가\r\n",
        "p1.age = 20 # p1 객체에만 age 멤버 변수를 추가\r\n",
        "print(\"p1's title : \", p1.title)\r\n",
        "print(\"p2's title : \", p2.title)\r\n",
        "print(\"p1's age : \", p1.age)\r\n",
        "print(\"p2's age : \", p2.age) # p2 에는 age 를 변수를 추가하지 않아서 오류 발생"
      ],
      "execution_count": null,
      "outputs": [
        {
          "output_type": "stream",
          "text": [
            "My Name is Default Nmae\n",
            "p1's name :  Default Nmae\n",
            "p2's name :  Default Nmae\n",
            "p1's name :  김연아\n",
            "p2's name :  Default Nmae\n",
            "p1's title :  New title\n",
            "p2's title :  New title\n",
            "p1's age :  20\n"
          ],
          "name": "stdout"
        },
        {
          "output_type": "error",
          "ename": "AttributeError",
          "evalue": "ignored",
          "traceback": [
            "\u001b[0;31m---------------------------------------------------------------------------\u001b[0m",
            "\u001b[0;31mAttributeError\u001b[0m                            Traceback (most recent call last)",
            "\u001b[0;32m<ipython-input-6-3145976e8d86>\u001b[0m in \u001b[0;36m<module>\u001b[0;34m()\u001b[0m\n\u001b[1;32m     20\u001b[0m \u001b[0mprint\u001b[0m\u001b[0;34m(\u001b[0m\u001b[0;34m\"p2's title : \"\u001b[0m\u001b[0;34m,\u001b[0m \u001b[0mp2\u001b[0m\u001b[0;34m.\u001b[0m\u001b[0mtitle\u001b[0m\u001b[0;34m)\u001b[0m\u001b[0;34m\u001b[0m\u001b[0;34m\u001b[0m\u001b[0m\n\u001b[1;32m     21\u001b[0m \u001b[0mprint\u001b[0m\u001b[0;34m(\u001b[0m\u001b[0;34m\"p1's age : \"\u001b[0m\u001b[0;34m,\u001b[0m \u001b[0mp1\u001b[0m\u001b[0;34m.\u001b[0m\u001b[0mage\u001b[0m\u001b[0;34m)\u001b[0m\u001b[0;34m\u001b[0m\u001b[0;34m\u001b[0m\u001b[0m\n\u001b[0;32m---> 22\u001b[0;31m \u001b[0mprint\u001b[0m\u001b[0;34m(\u001b[0m\u001b[0;34m\"p2's age : \"\u001b[0m\u001b[0;34m,\u001b[0m \u001b[0mp2\u001b[0m\u001b[0;34m.\u001b[0m\u001b[0mage\u001b[0m\u001b[0;34m)\u001b[0m\u001b[0;34m\u001b[0m\u001b[0;34m\u001b[0m\u001b[0m\n\u001b[0m",
            "\u001b[0;31mAttributeError\u001b[0m: 'Person' object has no attribute 'age'"
          ]
        }
      ]
    },
    {
      "cell_type": "markdown",
      "metadata": {
        "id": "2-rZRZoEOcd5"
      },
      "source": [
        "  - isinstance(인스턴스 객체, 클래스 객체)\r\n",
        "    - 인스턴스 객체가 어떤 클래스로부터 생성되었는지 확인\r\n",
        "    - bool형으로 결과 반환"
      ]
    },
    {
      "cell_type": "code",
      "metadata": {
        "colab": {
          "base_uri": "https://localhost:8080/"
        },
        "id": "OrYR9b5XOp1S",
        "outputId": "feec76c4-e006-468d-9c1c-c882cc736681"
      },
      "source": [
        "class Person :\r\n",
        "  pass\r\n",
        "class Bird :\r\n",
        "  pass\r\n",
        "class Student(Person): \r\n",
        "  pass\r\n",
        "\r\n",
        "p, s = Person(), Student()\r\n",
        "print(\"p 는 Person의 인스턴스이다 : \" , isinstance(p, Person))\r\n",
        "print(\"s 는 Person의 인스턴스이다 : \" , isinstance(s, Person)) # 상속관계로 인해 부모클래스인 Person 인스턴스로 인식한다.\r\n",
        "print(\"p 는 object의 인스턴스이다 : \" , isinstance(p, object)) # 모든 클래스는 object 객체를 상속받는다.\r\n",
        "print(\"p 는 Bird의 인스턴스이다 : \" , isinstance(p, Bird))"
      ],
      "execution_count": null,
      "outputs": [
        {
          "output_type": "stream",
          "text": [
            "p 는 Person의 인스턴스이다 :  True\n",
            "s 는 Person의 인스턴스이다 :  True\n",
            "p 는 object의 인스턴스이다 :  True\n",
            "p 는 Bird의 인스턴스이다 :  False\n"
          ],
          "name": "stdout"
        }
      ]
    },
    {
      "cell_type": "markdown",
      "metadata": {
        "id": "pxCiqy6aPyhA"
      },
      "source": [
        "### 생성자와 소멸자\r\n",
        "  - 생성자\r\n",
        "    - 생성시 초기화 작업을 수행\r\n",
        "    - 인스턴스 객체가 생성될 때 자동으로 호출\r\n",
        "    - __init__()\r\n",
        "  - 소멸자\r\n",
        "    - 소멸시 종료 작업을 수행\r\n",
        "    - 인스턴스 객체의 참조 카운터가 '0'이 될 때 호출\r\n",
        "    - __del__()"
      ]
    },
    {
      "cell_type": "code",
      "metadata": {
        "colab": {
          "base_uri": "https://localhost:8080/"
        },
        "id": "29B9NAb_QI8U",
        "outputId": "a4cf910d-0df9-45a7-b7f5-3f421cc90423"
      },
      "source": [
        "class MyClass : \r\n",
        "  def __init__(self, value) : # 생성자 메소드\r\n",
        "    self.Value = value\r\n",
        "    print(\"클래스 생성! 값은 \", value)\r\n",
        "  def __del__(self) : # 소멸자 메소드\r\n",
        "    print(\"클래스 삭제!\")\r\n",
        "\r\n",
        "def foo():\r\n",
        "  d = MyClass(10) # 함수 foo 블록안에서만 인스턴스 객체 d가 존재한다.\r\n",
        "\r\n",
        "foo() # 생성되자마자 바로 삭제됨."
      ],
      "execution_count": null,
      "outputs": [
        {
          "output_type": "stream",
          "text": [
            "클래스 생성! 값은  10\n",
            "클래스 삭제!\n"
          ],
          "name": "stdout"
        }
      ]
    },
    {
      "cell_type": "markdown",
      "metadata": {
        "id": "XTZhCYtfRPeF"
      },
      "source": [
        "  - 메서드 확장\r\n",
        "    - 정적(static) 메소드\r\n",
        "      - 인스턴스 객체를 통하지 않고, 클래스를 통해 직접 호출할 수 있는 메소드\r\n",
        "        - 인스턴스 객체를 참조하는 self 인자가 필요하지 않음\r\n",
        "\r\n",
        "        형식 : <호출할 메소드 이름> = staticmethod(클래스 내 정의한 메소드 이름) \r\n",
        "\r\n",
        "    - 클래스(class) 매소드\r\n",
        "      - 클래스 영역의 데이터에 직접 접근할 수 있는 메소드\r\n",
        "        - 암시적으로 첫 인자로 클래스 객체가 전달\r\n",
        "\r\n",
        "        형식 : <호출할 메소드 이름> = classmethod(클래스 내 정의한 메소드 이름)"
      ]
    },
    {
      "cell_type": "code",
      "metadata": {
        "colab": {
          "base_uri": "https://localhost:8080/"
        },
        "id": "Kwq_jH5NRag2",
        "outputId": "905eec39-91e9-4c5c-9d42-b288b37040d0"
      },
      "source": [
        "class Unit : \r\n",
        "  def __init__(self, name, hp, damage) :\r\n",
        "    self.name = name\r\n",
        "    self.hp = hp\r\n",
        "    self.damage = damage\r\n",
        "    print(\"{0} 유닛이 생성되었습니다.\".format(self.name))\r\n",
        "    print(\"체력 {0}, 공격력 {1}\\n\".format(self.hp, self.damage))\r\n",
        "\r\n",
        "# 공격 유닛\r\n",
        "class AttackUnit : \r\n",
        "  def __init__(self, name, hp, damage) :\r\n",
        "    self.name = name\r\n",
        "    self.hp = hp\r\n",
        "    self.damage = damage\r\n",
        "    \r\n",
        "  def attack(self, location) : \r\n",
        "    print(\"{0} : {1} 방향으로 적군을 공격합니다.[공격력 {2}]\"\\\r\n",
        "          .format(self.name, location, self.damage))\r\n",
        "  \r\n",
        "  def damaged(self, damage) :\r\n",
        "    print(\"{0} : {1} 데미지를 입었습니다.\".format(self.name, damage))\r\n",
        "    self.hp -= damage\r\n",
        "    print(\"{0} : 현재 체력은 {1} 입니다\".format(self.name, self.hp))\r\n",
        "    if self.hp <= 0:\r\n",
        "      print(\"{0} : 파괴되었습니다.\".format(self.name))\r\n",
        "\r\n",
        "# 파이어뱃 \r\n",
        "firebat1 = AttackUnit(\"파이어뱃\", 50, 16)\r\n",
        "firebat1.attack(\"5시\")\r\n",
        "\r\n",
        "firebat1.damaged(25)\r\n",
        "firebat1.damaged(25)"
      ],
      "execution_count": null,
      "outputs": [
        {
          "output_type": "stream",
          "text": [
            "파이어뱃 : 5시 방향으로 적군을 공격합니다.[공격력 16]\n",
            "파이어뱃 : 25 데미지를 입었습니다.\n",
            "파이어뱃 : 현재 체력은 25 입니다\n",
            "파이어뱃 : 25 데미지를 입었습니다.\n",
            "파이어뱃 : 현재 체력은 0 입니다\n",
            "파이어뱃 : 파괴되었습니다.\n"
          ],
          "name": "stdout"
        }
      ]
    },
    {
      "cell_type": "markdown",
      "metadata": {
        "id": "woL7HpWfSQus"
      },
      "source": [
        "## 연산자 중복, 상속\r\n",
        "   - 사용자 정의 객체에서 필요한 연산자를 내장 타입과 형태와 동작이 유사하도록 재정의\r\n",
        "   - 연산자 중복을 위하여 두 개의 밑줄 문자가 앞뒤로 있는 메소드를 미리 정의함"
      ]
    },
    {
      "cell_type": "code",
      "metadata": {
        "id": "gl2_QoH-SxF7"
      },
      "source": [
        "class GString:\r\n",
        "  def __init__(self, init = None):\r\n",
        "    self.content = init\r\n",
        "\r\n",
        "  def __sub__(self, str) : # '-' 연산자 중복 정의\r\n",
        "    for i in str:\r\n",
        "      self.content = self.content.replace(i,'')\r\n",
        "    return GString(self.content)\r\n",
        "  \r\n",
        "  def Remove(self, str) :\r\n",
        "    return self.__sub__(str)"
      ],
      "execution_count": null,
      "outputs": []
    },
    {
      "cell_type": "markdown",
      "metadata": {
        "id": "hfp8crGWT-lH"
      },
      "source": [
        "### 클래스 일반 상속"
      ]
    },
    {
      "cell_type": "code",
      "metadata": {
        "id": "CDOiETaBTLBD"
      },
      "source": [
        "# 일반 유닛\r\n",
        "class Unit : \r\n",
        "  def __init__(self, name, hp) :\r\n",
        "    self.name = name\r\n",
        "    self.hp = hp\r\n",
        "\r\n",
        "# 공격 유닛\r\n",
        "class AttackUnit(Unit) :  # AttackUnit은 Unit을 상속받아 사용하여 생성한다.\r\n",
        "  def __init__(self, name, hp, damage) :\r\n",
        "    Unit.__init__(self, name, hp) # name, hp 상속\r\n",
        "    self.damage = damage\r\n",
        "    \r\n",
        "  def attack(self, location) : \r\n",
        "    print(\"{0} : {1} 방향으로 적군을 공격합니다.[공격력 {2}]\"\\\r\n",
        "          .format(self.name, location, self.damage))\r\n",
        "  \r\n",
        "  def damaged(self, damage) :\r\n",
        "    print(\"{0} : {1} 데미지를 입었습니다.\".format(self.name, damage))\r\n",
        "    self.hp -= damage\r\n",
        "    print(\"{0} : 현재 체력은 {1} 입니다\".format(self.name, self.hp))\r\n",
        "    if self.hp <= 0:\r\n",
        "      print(\"{0} : 파괴되었습니다.\".format(self.name))\r\n",
        "\r\n",
        "# 드랍쉽 : 공격유닛, 수송기, 공격기능 없음\r\n",
        "# 날 수 있는 기능 가진 클래스\r\n",
        "class Flyable : \r\n",
        "  def __init__(self, flying_speed) : \r\n",
        "    self.flying_speed = flying_speed\r\n",
        "\r\n",
        "  def fly(self, name, location) :\r\n",
        "    print(\"{0} : {1} 방향으로 날아갑니다. [속도 {2}]\"\\\r\n",
        "      .format(name, location, self.flying_speed))"
      ],
      "execution_count": null,
      "outputs": []
    },
    {
      "cell_type": "markdown",
      "metadata": {
        "id": "eLBDlfGTUBgE"
      },
      "source": [
        "### 클래스 다중 상속\r\n",
        "  - 부모 클래스는 2개 이상 상속 받는 것"
      ]
    },
    {
      "cell_type": "code",
      "metadata": {
        "colab": {
          "base_uri": "https://localhost:8080/"
        },
        "id": "txiF2YlLUDS2",
        "outputId": "c3d3af45-d442-4fcf-8b64-3fd0bd219add"
      },
      "source": [
        "# 일반 유닛\r\n",
        "class Unit : \r\n",
        "  def __init__(self, name, hp) :\r\n",
        "    self.name = name\r\n",
        "    self.hp = hp\r\n",
        "\r\n",
        "# 공격 유닛\r\n",
        "class AttackUnit(Unit) :  # AttackUnit은 Unit을 상속받아 사용하여 생성한다.\r\n",
        "  def __init__(self, name, hp, damage) :\r\n",
        "    Unit.__init__(self, name, hp) # name, hp 상속\r\n",
        "    self.damage = damage\r\n",
        "    \r\n",
        "  def attack(self, location) : \r\n",
        "    print(\"{0} : {1} 방향으로 적군을 공격합니다.[공격력 {2}]\"\\\r\n",
        "          .format(self.name, location, self.damage))\r\n",
        "  \r\n",
        "  def damaged(self, damage) :\r\n",
        "    print(\"{0} : {1} 데미지를 입었습니다.\".format(self.name, damage))\r\n",
        "    self.hp -= damage\r\n",
        "    print(\"{0} : 현재 체력은 {1} 입니다\".format(self.name, self.hp))\r\n",
        "    if self.hp <= 0:\r\n",
        "      print(\"{0} : 파괴되었습니다.\".format(self.name))\r\n",
        "\r\n",
        "# 파이어뱃 \r\n",
        "firebat1 = AttackUnit(\"파이어뱃\", 50, 16)\r\n",
        "firebat1.attack(\"5시\")\r\n",
        "\r\n",
        "firebat1.damaged(25)\r\n",
        "firebat1.damaged(25)\r\n",
        "\r\n",
        "# 공중 공격 유닛 클래스\r\n",
        "class FlyableAttackUnit(AttackUnit, Flyable) : # 다중 상속\r\n",
        "  def __init__(self, name, hp, damage, flying_speed) : \r\n",
        "    AttackUnit.__init__(self, name, hp, damage)\r\n",
        "    Flyable.__init__(self, flying_speed)\r\n",
        "\r\n",
        "# 발키리 : 공중 공격 유닛, 한번에 14발 미사일 발사\r\n",
        "valkyrie = FlyableAttackUnit(\"발키리\", 200, 6, 5)\r\n",
        "valkyrie.fly(valkyrie.name, \"3시\")"
      ],
      "execution_count": null,
      "outputs": [
        {
          "output_type": "stream",
          "text": [
            "파이어뱃 : 5시 방향으로 적군을 공격합니다.[공격력 16]\n",
            "파이어뱃 : 25 데미지를 입었습니다.\n",
            "파이어뱃 : 현재 체력은 25 입니다\n",
            "파이어뱃 : 25 데미지를 입었습니다.\n",
            "파이어뱃 : 현재 체력은 0 입니다\n",
            "파이어뱃 : 파괴되었습니다.\n",
            "발키리 : 3시 방향으로 날아갑니다. [속도 5]\n"
          ],
          "name": "stdout"
        }
      ]
    },
    {
      "cell_type": "markdown",
      "metadata": {
        "id": "-yy9WVhIanZa"
      },
      "source": [
        "  - super() 함수"
      ]
    },
    {
      "cell_type": "code",
      "metadata": {
        "id": "sT-yL07wa2BW"
      },
      "source": [
        "# 건물\r\n",
        "class BuildingUnit(Unit) : \r\n",
        "  def __init__(self, name, hp, location) : \r\n",
        "    # Unit.__init__(self, name, hp, 0)\r\n",
        "    super().__init__(name, hp, 0) # 상속을 위한 함수 super() : self를 인수로 넣지 않는다.\r\n",
        "    self.location = location"
      ],
      "execution_count": null,
      "outputs": []
    },
    {
      "cell_type": "markdown",
      "metadata": {
        "id": "U_V7w6NwbgR9"
      },
      "source": [
        "  - super() 를 활용한 다중 상속"
      ]
    },
    {
      "cell_type": "code",
      "metadata": {
        "colab": {
          "base_uri": "https://localhost:8080/"
        },
        "id": "LaQAC8Uib3gX",
        "outputId": "97d208e6-3193-4834-ec84-b56b57fe20c2"
      },
      "source": [
        "class Unit : \r\n",
        "  def __init__(self) : \r\n",
        "    print(\"Unit 생성자\")\r\n",
        "\r\n",
        "class Flyable : \r\n",
        "  def __init__(self):\r\n",
        "    print(\"Flyable 생성자\")\r\n",
        "\r\n",
        "class FlyableUnit(Flyable, Unit) : \r\n",
        "  def __init__(self) : \r\n",
        "    # super().__init__() # 맨 처음 상속된 부모클래스의 init 함수만 호출된다.\r\n",
        "    # 클래스명을 활용해 상속하는 모든 함수의 생성자 함수를 사용하여 다중 상속을 받는다.\r\n",
        "    Unit.__init__(self)\r\n",
        "    Flyable.__init__(self)\r\n",
        "\r\n",
        "# 드랍쉽\r\n",
        "dropship = FlyableUnit()"
      ],
      "execution_count": 18,
      "outputs": [
        {
          "output_type": "stream",
          "text": [
            "Unit 생성자\n",
            "Flyable 생성자\n"
          ],
          "name": "stdout"
        }
      ]
    },
    {
      "cell_type": "markdown",
      "metadata": {
        "id": "Dg8uC1dyWnQD"
      },
      "source": [
        "### 연산자 오버라이딩\r\n",
        "  - 자식 클래스에서 정의한 메소드를 새롭게 정의하여 사용하기"
      ]
    },
    {
      "cell_type": "code",
      "metadata": {
        "colab": {
          "base_uri": "https://localhost:8080/"
        },
        "id": "w6mo_qqTW64A",
        "outputId": "75d0e1b1-0c6d-4822-dc66-0dc6ed86a955"
      },
      "source": [
        "# 일반 유닛\r\n",
        "class Unit : \r\n",
        "  def __init__(self, name, hp, speed) :\r\n",
        "    self.name = name\r\n",
        "    self.hp = hp\r\n",
        "    self.speed = speed\r\n",
        "\r\n",
        "  def move(self, location) : \r\n",
        "    print(\"[지상 유닛 이동]\")\r\n",
        "    print(\"{0} : {1} 방향으로 이동합니다. [속도 {2}]\"\\\r\n",
        "          .format(self.name, location, self.speed))\r\n",
        "    \r\n",
        "# 드랍쉽 : 공격유닛, 수송기, 공격기능 없음\r\n",
        "# 날 수 있는 기능 가진 클래스\r\n",
        "class Flyable : \r\n",
        "  def __init__(self, flying_speed) : \r\n",
        "    self.flying_speed = flying_speed\r\n",
        "\r\n",
        "  def fly(self, name, location) :\r\n",
        "    print(\"{0} : {1} 방향으로 날아갑니다. [속도 {2}]\"\\\r\n",
        "      .format(name, location, self.flying_speed))\r\n",
        "\r\n",
        "# 공격 유닛\r\n",
        "class AttackUnit(Unit) :  # AttackUnit은 Unit을 상속받아 사용하여 생성한다.\r\n",
        "  def __init__(self, name, hp, speed, damage) :\r\n",
        "    Unit.__init__(self, name, hp, speed) # name, hp 상속\r\n",
        "    self.damage = damage\r\n",
        "    \r\n",
        "  def attack(self, location) : \r\n",
        "    print(\"{0} : {1} 방향으로 적군을 공격합니다.[공격력 {2}]\"\\\r\n",
        "          .format(self.name, location, self.damage))\r\n",
        "  \r\n",
        "  def damaged(self, damage) :\r\n",
        "    print(\"{0} : {1} 데미지를 입었습니다.\".format(self.name, damage))\r\n",
        "    self.hp -= damage\r\n",
        "    print(\"{0} : 현재 체력은 {1} 입니다\".format(self.name, self.hp))\r\n",
        "    if self.hp <= 0:\r\n",
        "      print(\"{0} : 파괴되었습니다.\".format(self.name))\r\n",
        "\r\n",
        "# 공중 공격 유닛 클래스\r\n",
        "class FlyableAttackUnit(AttackUnit, Flyable) : # 다중 상속\r\n",
        "  def __init__(self, name, hp, damage, flying_speed) : \r\n",
        "    AttackUnit.__init__(self, name, hp, 0, damage) # 지상 speed 0\r\n",
        "    Flyable.__init__(self, flying_speed)\r\n",
        "\r\n",
        "  def move(self, location) : # 메소드 오버라이딩 : move() 함수 재정의\r\n",
        "    print(\"[공중 유닛 이동]\")\r\n",
        "    self.fly(self.name, location) \r\n",
        "\r\n",
        "# 벌쳐 : 지상 유닛, 기동성 좋음\r\n",
        "vulture = AttackUnit(\"벌쳐\", 80, 10, 20)\r\n",
        "\r\n",
        "# 배틀크루저 : 공중 유닛, 체력도 광장히 좋음, 공격력도 좋음\r\n",
        "battlecruiser = FlyableAttackUnit(\"배틀크루저\", 500, 25, 3)\r\n",
        "\r\n",
        "vulture.move(\"11시\")\r\n",
        "# battlecruiser.fly(battlecruiser.name, \"9시\")\r\n",
        "battlecruiser.move(\"9시\")\r\n"
      ],
      "execution_count": null,
      "outputs": [
        {
          "output_type": "stream",
          "text": [
            "[지상 유닛 이동]\n",
            "벌쳐 : 11시 방향으로 이동합니다. [속도 10]\n",
            "[공중 유닛 이동]\n",
            "배틀크루저 : 9시 방향으로 날아갑니다. [속도 3]\n"
          ],
          "name": "stdout"
        }
      ]
    },
    {
      "cell_type": "code",
      "metadata": {
        "id": "N5Qhw5awbkit"
      },
      "source": [
        ""
      ],
      "execution_count": null,
      "outputs": []
    },
    {
      "cell_type": "markdown",
      "metadata": {
        "id": "0B939SAkGbes"
      },
      "source": [
        "# 예제로 보는 클래스"
      ]
    },
    {
      "cell_type": "markdown",
      "metadata": {
        "id": "dthLUwj1IKNS"
      },
      "source": [
        "- 클래스를 활용하지 않은 예제"
      ]
    },
    {
      "cell_type": "code",
      "metadata": {
        "colab": {
          "base_uri": "https://localhost:8080/"
        },
        "id": "8_bsslONGd8K",
        "outputId": "e9e4e0f9-7a3c-47fa-ddaa-e6e7fad9f763"
      },
      "source": [
        "# 마린\r\n",
        "name = \"마린\" # 유닛의 이름\r\n",
        "hp = 40 # 유닛의 체력\r\n",
        "damage = 5 # 유닛의 공격력\r\n",
        "\r\n",
        "print(\"{0} 유닛이 생성되었습니다.\".format(name))\r\n",
        "print(\"체력 {0}, 공격력 {1}\\n\".format(hp, damage))\r\n",
        "\r\n",
        "# 탱크\r\n",
        "tank_name = \"탱크\"\r\n",
        "tank_hp = 150\r\n",
        "tank_damage = 35\r\n",
        "\r\n",
        "print(\"{0} 유닛이 생성되었습니다.\".format(tank_name))\r\n",
        "print(\"체력 {0}, 공격력 {1}\\n\".format(tank_hp, tank_damage))\r\n",
        "\r\n",
        "def attack(name, location, damage):\r\n",
        "  print(\"{0} : {1} 방향으로 적군을 공격 합니다. [공격력 {2}]\".format(\\\r\n",
        "      name, location, damage))\r\n",
        "\r\n",
        "attack(name, \"1시\", damage)\r\n",
        "attack(tank_name, \"1시\", tank_damage)"
      ],
      "execution_count": null,
      "outputs": [
        {
          "output_type": "stream",
          "text": [
            "마린 유닛이 생성되었습니다.\n",
            "체력 40, 공격력 5\n",
            "\n",
            "탱크 유닛이 생성되었습니다.\n",
            "체력 150, 공격력 35\n",
            "\n",
            "마린 : 1시 방향으로 적군을 공격 합니다. [공격력 5]\n",
            "탱크 : 1시 방향으로 적군을 공격 합니다. [공격력 35]\n"
          ],
          "name": "stdout"
        }
      ]
    },
    {
      "cell_type": "markdown",
      "metadata": {
        "id": "XXN8qQcvIOmZ"
      },
      "source": [
        "- 클래스를 활용한 예제"
      ]
    },
    {
      "cell_type": "code",
      "metadata": {
        "colab": {
          "base_uri": "https://localhost:8080/"
        },
        "id": "meN7PUIiIRyI",
        "outputId": "183aa4d0-c12e-4dd7-cecc-ee67e383f21e"
      },
      "source": [
        "class Unit : \r\n",
        "  def __init__(self, name, hp, damage) :\r\n",
        "    self.name = name\r\n",
        "    self.hp = hp\r\n",
        "    self.damage = damage\r\n",
        "    print(\"{0} 유닛이 생성되었습니다.\".format(self.name))\r\n",
        "    print(\"체력 {0}, 공격력 {1}\\n\".format(self.hp, self.damage))\r\n",
        "\r\n",
        "marine1 = Unit(\"마린\", 40, 5)\r\n",
        "marine2 = Unit(\"마린\", 40, 5)\r\n",
        "tank = Unit(\"탱크\", 150, 35)\r\n",
        "\r\n",
        "wraith1 = Unit(\"레이스\", 80, 5)\r\n",
        "print(\"유닛 이름 : {0}, 공격력 : {1}\".format(wraith1.name, wraith1.damage))\r\n",
        "\r\n",
        "# 마인드 컨트롤 : 상대방 유닛을 내 것으로 만드는 것(빼앗음)\r\n",
        "wraith2 = Unit(\"빼앗은 레이스\", 80, 5)\r\n",
        "wraith2.clocking = True # 새로운 변수 추가 할당\r\n",
        "\r\n",
        "if wraith2.clocking == True : \r\n",
        "  print(\"{0} 는 현재 클로킹 상태입니다.\".format(wraith2.name))"
      ],
      "execution_count": null,
      "outputs": [
        {
          "output_type": "stream",
          "text": [
            "마린 유닛이 생성되었습니다.\n",
            "체력 40, 공격력 5\n",
            "\n",
            "마린 유닛이 생성되었습니다.\n",
            "체력 40, 공격력 5\n",
            "\n",
            "탱크 유닛이 생성되었습니다.\n",
            "체력 150, 공격력 35\n",
            "\n",
            "레이스 유닛이 생성되었습니다.\n",
            "체력 80, 공격력 5\n",
            "\n",
            "유닛 이름 : 레이스, 공격력 : 5\n",
            "빼앗은 레이스 유닛이 생성되었습니다.\n",
            "체력 80, 공격력 5\n",
            "\n",
            "빼앗은 레이스 는 현재 클로킹 상태입니다.\n"
          ],
          "name": "stdout"
        }
      ]
    },
    {
      "cell_type": "markdown",
      "metadata": {
        "id": "NcSzyf1rdVXm"
      },
      "source": [
        "# 스타크래프트 만들기"
      ]
    },
    {
      "cell_type": "code",
      "metadata": {
        "id": "11t6XhMBdY1o"
      },
      "source": [
        "# 일반 유닛\r\n",
        "class Unit : \r\n",
        "  def __init__(self, name, hp, speed) :\r\n",
        "    self.name = name\r\n",
        "    self.hp = hp\r\n",
        "    self.speed = speed\r\n",
        "    print(\"{0} 유닛이 생성되었습니다.\".format(self.name))\r\n",
        "\r\n",
        "  def move(self, location) : \r\n",
        "    print(\"{0} : {1} 방향으로 이동합니다. [속도 {2}]\"\\\r\n",
        "          .format(self.name, location, self.speed))\r\n",
        "    \r\n",
        "  def damaged(self, damage) :\r\n",
        "    print(\"{0} : {1} 데미지를 입었습니다.\".format(self.name, damage))\r\n",
        "    self.hp -= damage\r\n",
        "    print(\"{0} : 현재 체력은 {1} 입니다\".format(self.name, self.hp))\r\n",
        "    if self.hp <= 0:\r\n",
        "      print(\"{0} : 파괴되었습니다.\".format(self.name))\r\n",
        "\r\n",
        "# 공격 유닛\r\n",
        "class AttackUnit(Unit) :  # AttackUnit은 Unit을 상속받아 사용하여 생성한다.\r\n",
        "  def __init__(self, name, hp, speed, damage) :\r\n",
        "    Unit.__init__(self, name, hp, speed) # name, hp 상속\r\n",
        "    self.damage = damage\r\n",
        "    \r\n",
        "  def attack(self, location) : \r\n",
        "    print(\"{0} : {1} 방향으로 적군을 공격합니다.[공격력 {2}]\"\\\r\n",
        "          .format(self.name, location, self.damage))\r\n",
        "    \r\n",
        "# 마린\r\n",
        "class Marine(AttackUnit) : \r\n",
        "  def __init__(self):\r\n",
        "    AttackUnit.__init__(self, \"마린\", 40, 1, 5)\r\n",
        "  \r\n",
        "  # 스팀팩 : 일정 시간 동안 이동 및 공격 속도를 증가, 체력 10 감소\r\n",
        "  def stimpack(self) : \r\n",
        "    if self.hp > 10:\r\n",
        "      self.hp -= 10\r\n",
        "      print(\"{0} : 스팀팩을 사용합니다. (HP 10 감소)\".format(self.name))\r\n",
        "    else:\r\n",
        "      print(\"{0} : 체력이 부족하여 스팀팩을 사용하지 않았습니다.\".format(self,name))\r\n",
        "    \r\n",
        "# 탱크\r\n",
        "class Tank(AttackUnit) : \r\n",
        "  # 시즈모드 : 지상 고정, 높은 파워공격, 이동불가\r\n",
        "  seize_developed  = False # 시즈모드 개발여부\r\n",
        "\r\n",
        "  def __init__(self):\r\n",
        "    AttackUnit.__init__(self, \"탱크\", 150, 1, 35)\r\n",
        "    self.seize_mode = False\r\n",
        "\r\n",
        "  def set_sezie_mode(self) :\r\n",
        "    if Tank.seize_developed == False :\r\n",
        "      return\r\n",
        "    \r\n",
        "    # 현재 시즈모드가 아닐 때 ->  시즈모드\r\n",
        "    if self.seize_mode == False : \r\n",
        "      print(\"{0} : 시즈모드로 전환합니다.\".format(self.name))\r\n",
        "      self.damage *= 2\r\n",
        "      self.seize_mode = True\r\n",
        "    # 현재 시즈모드일 때 -> 시즈모드 해제\r\n",
        "    else :\r\n",
        "      print(\"{0} : 시즈모드를 해제합니다.\".format(self.name))\r\n",
        "      self.damage /= 2\r\n",
        "      self.seize_mode = False\r\n",
        "\r\n",
        "\r\n",
        "# 날 수 있는 기능 가진 클래스\r\n",
        "class Flyable : \r\n",
        "  def __init__(self, flying_speed) : \r\n",
        "    self.flying_speed = flying_speed\r\n",
        "\r\n",
        "  def fly(self, name, location) :\r\n",
        "    print(\"{0} : {1} 방향으로 날아갑니다. [속도 {2}]\"\\\r\n",
        "      .format(name, location, self.flying_speed))\r\n",
        "\r\n",
        "# 공중 공격 유닛 클래스\r\n",
        "class FlyableAttackUnit(AttackUnit, Flyable) : # 다중 상속\r\n",
        "  def __init__(self, name, hp, damage, flying_speed) : \r\n",
        "    AttackUnit.__init__(self, name, hp, 0, damage) # 지상 speed 0\r\n",
        "    Flyable.__init__(self, flying_speed)\r\n",
        "\r\n",
        "  def move(self, location) : # 메소드 오버라이딩 : move() 함수 재정의\r\n",
        "    self.fly(self.name, location) \r\n",
        "\r\n",
        "# 레이즈\r\n",
        "class Wraith(FlyableAttackUnit) : \r\n",
        "  def __init__(self) : \r\n",
        "    FlyableAttackUnit.__init__(self, \"레이스\", 80, 20, 5)\r\n",
        "    self.clocked = False # 클로킹 모드 (해제 상태)\r\n",
        "  \r\n",
        "  def clocking(self) : \r\n",
        "    if self.clocked == False : \r\n",
        "      print(\"{0} : 클로킹 모드로 전환합니다.\".format(self.name))\r\n",
        "      self.clocked = True\r\n",
        "    # 현재 시즈모드일 때 -> 시즈모드 해제\r\n",
        "    else :\r\n",
        "      print(\"{0} : 클로킹 모드를 해제합니다.\".format(self.name))\r\n",
        "      self.clocked = False\r\n",
        "\r\n",
        "def game_start():\r\n",
        "  print(\"[알림] 새로운 게임을 시작합니다.\")\r\n",
        "\r\n",
        "def game_over() :\r\n",
        "  print(\"Player : gg\") # good game\r\n",
        "  print(\"[Player] 님이 게임에서 퇴장하셨습니다.\")"
      ],
      "execution_count": 26,
      "outputs": []
    },
    {
      "cell_type": "markdown",
      "metadata": {
        "id": "6ig-sCYMg_WT"
      },
      "source": [
        "## 스타크래스프 시작"
      ]
    },
    {
      "cell_type": "code",
      "metadata": {
        "colab": {
          "base_uri": "https://localhost:8080/"
        },
        "id": "aKDoCj7tg-g4",
        "outputId": "3e295471-f93b-44dd-8e53-4c215d075148"
      },
      "source": [
        "from random import *\r\n",
        "\r\n",
        "# 게임 시작\r\n",
        "game_start()\r\n",
        "\r\n",
        "# 마린 3기 생성\r\n",
        "m1 = Marine()\r\n",
        "m2 = Marine()\r\n",
        "m3 = Marine()\r\n",
        "\r\n",
        "# 탱크 2기 생성\r\n",
        "t1 = Tank()\r\n",
        "t2 = Tank()\r\n",
        "\r\n",
        "# 레이스 1기 생성\r\n",
        "w1 = Wraith()\r\n",
        "\r\n",
        "# 유닛 일괄 관리\r\n",
        "attack_units = []\r\n",
        "attack_units.append(m1)\r\n",
        "attack_units.append(m2)\r\n",
        "attack_units.append(m3)\r\n",
        "attack_units.append(t1)\r\n",
        "attack_units.append(t2)\r\n",
        "attack_units.append(w1)\r\n",
        "\r\n",
        "# 전군 이동\r\n",
        "for unit in attack_units :\r\n",
        "  unit.move(\"1시\")\r\n",
        "\r\n",
        "# 탱크 시즈모드 개발\r\n",
        "Tank.seize_developed = True\r\n",
        "print(\"[알림] 탱크 시즈 모드 개발이 완료되었습니다.\")\r\n",
        "\r\n",
        "# 공격 모드 준비 (탱크 : 스팀팩, 탱크, 시즈모드, 레이스 : 클로킹)\r\n",
        "for unit in attack_units :\r\n",
        "  if isinstance(unit, Marine) : \r\n",
        "    unit.stimpack()\r\n",
        "  elif isinstance(unit, Tank) :\r\n",
        "    unit.set_sezie_mode()\r\n",
        "  elif isinstance(unit, Wraith) :\r\n",
        "    unit.clocking()\r\n",
        "\r\n",
        "# 전군 공격\r\n",
        "for unit in attack_units : \r\n",
        "  unit.attack(\"1시\")\r\n",
        "\r\n",
        "# 전군 피해\r\n",
        "for unit in attack_units : \r\n",
        "  unit.damaged(randint(5,21)) # 공격은 랜덤으로 받음 (5 ~ 20)\r\n",
        "\r\n",
        "# 게임 종료\r\n",
        "game_over()"
      ],
      "execution_count": 27,
      "outputs": [
        {
          "output_type": "stream",
          "text": [
            "[알림] 새로운 게임을 시작합니다.\n",
            "마린 유닛이 생성되었습니다.\n",
            "마린 유닛이 생성되었습니다.\n",
            "마린 유닛이 생성되었습니다.\n",
            "탱크 유닛이 생성되었습니다.\n",
            "탱크 유닛이 생성되었습니다.\n",
            "레이스 유닛이 생성되었습니다.\n",
            "마린 : 1시 방향으로 이동합니다. [속도 1]\n",
            "마린 : 1시 방향으로 이동합니다. [속도 1]\n",
            "마린 : 1시 방향으로 이동합니다. [속도 1]\n",
            "탱크 : 1시 방향으로 이동합니다. [속도 1]\n",
            "탱크 : 1시 방향으로 이동합니다. [속도 1]\n",
            "레이스 : 1시 방향으로 날아갑니다. [속도 5]\n",
            "[알림] 탱크 시즈 모드 개발이 완료되었습니다.\n",
            "마린 : 스팀팩을 사용합니다. (HP 10 감소)\n",
            "마린 : 스팀팩을 사용합니다. (HP 10 감소)\n",
            "마린 : 스팀팩을 사용합니다. (HP 10 감소)\n",
            "탱크 : 시즈모드로 전환합니다.\n",
            "탱크 : 시즈모드로 전환합니다.\n",
            "레이스 : 클로킹 모드로 전환합니다.\n",
            "마린 : 1시 방향으로 적군을 공격합니다.[공격력 5]\n",
            "마린 : 1시 방향으로 적군을 공격합니다.[공격력 5]\n",
            "마린 : 1시 방향으로 적군을 공격합니다.[공격력 5]\n",
            "탱크 : 1시 방향으로 적군을 공격합니다.[공격력 70]\n",
            "탱크 : 1시 방향으로 적군을 공격합니다.[공격력 70]\n",
            "레이스 : 1시 방향으로 적군을 공격합니다.[공격력 20]\n",
            "마린 : 12 데미지를 입었습니다.\n",
            "마린 : 현재 체력은 18 입니다\n",
            "마린 : 15 데미지를 입었습니다.\n",
            "마린 : 현재 체력은 15 입니다\n",
            "마린 : 17 데미지를 입었습니다.\n",
            "마린 : 현재 체력은 13 입니다\n",
            "탱크 : 20 데미지를 입었습니다.\n",
            "탱크 : 현재 체력은 130 입니다\n",
            "탱크 : 9 데미지를 입었습니다.\n",
            "탱크 : 현재 체력은 141 입니다\n",
            "레이스 : 17 데미지를 입었습니다.\n",
            "레이스 : 현재 체력은 63 입니다\n",
            "Player : gg\n",
            "[Player] 님이 게임에서 퇴장하셨습니다.\n"
          ],
          "name": "stdout"
        }
      ]
    }
  ]
}