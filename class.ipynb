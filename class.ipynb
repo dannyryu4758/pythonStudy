{
  "nbformat": 4,
  "nbformat_minor": 0,
  "metadata": {
    "colab": {
      "name": "class.ipynb",
      "provenance": [],
      "collapsed_sections": [],
      "authorship_tag": "ABX9TyND+aUQVcoRqayqEJGGHTuL",
      "include_colab_link": true
    },
    "kernelspec": {
      "name": "python3",
      "display_name": "Python 3"
    }
  },
  "cells": [
    {
      "cell_type": "markdown",
      "metadata": {
        "id": "view-in-github",
        "colab_type": "text"
      },
      "source": [
        "<a href=\"https://colab.research.google.com/github/dannyryu4758/pythonStudy/blob/main/class.ipynb\" target=\"_parent\"><img src=\"https://colab.research.google.com/assets/colab-badge.svg\" alt=\"Open In Colab\"/></a>"
      ]
    },
    {
      "cell_type": "markdown",
      "metadata": {
        "id": "0_6G_zqCKPTJ"
      },
      "source": [
        "# 클래스\r\n",
        "  - 데이터와 데이터를 변형하는 함수를 같은 공간으로 작성\r\n",
        "  - class의 모든 메소드와 맴버변수의 접근 권한은 public 이다."
      ]
    },
    {
      "cell_type": "code",
      "metadata": {
        "colab": {
          "base_uri": "https://localhost:8080/",
          "height": 348
        },
        "id": "FIt10pAKKMJ7",
        "outputId": "8ea499ad-ed9a-46ef-bd19-4257d6fe5298"
      },
      "source": [
        "class Person : # 클래스 정의\r\n",
        "  Name = \"Default Nmae\" # 멤버 변수\r\n",
        "  \r\n",
        "  def Print(self) : # 멤버 메소드 (self는 얘약어는 아니지만 관용처럼 this로 사용한다)\r\n",
        "    print(\"My Name is {0}\".format(self.Name))\r\n",
        "\r\n",
        "p1 = Person() # 인스턴스 객체 생성\r\n",
        "p1.Print() # 멤버 변수값을 출력\r\n",
        "p2 = Person()\r\n",
        "print(\"p1's name : \", p1.Name) # 각 객체의 Name 속성 출력\r\n",
        "print(\"p2's name : \", p2.Name)\r\n",
        "\r\n",
        "p1.Name = \"김연아\"  # p1 인스턴스의 'Name' 속성을 변경\r\n",
        "print(\"p1's name : \", p1.Name)\r\n",
        "print(\"p2's name : \", p2.Name)\r\n",
        "\r\n",
        "Person.title = \"New title\" # 클레스 객체에 새로운 멤버 변수 title 추가\r\n",
        "p1.age = 20 # p1 객체에만 age 멤버 변수를 추가\r\n",
        "print(\"p1's title : \", p1.title)\r\n",
        "print(\"p2's title : \", p2.title)\r\n",
        "print(\"p1's age : \", p1.age)\r\n",
        "print(\"p2's age : \", p2.age)"
      ],
      "execution_count": null,
      "outputs": [
        {
          "output_type": "stream",
          "text": [
            "My Name is Default Nmae\n",
            "p1's name :  Default Nmae\n",
            "p2's name :  Default Nmae\n",
            "p1's name :  김연아\n",
            "p2's name :  Default Nmae\n",
            "p1's title :  New title\n",
            "p2's title :  New title\n",
            "p1's age :  20\n"
          ],
          "name": "stdout"
        },
        {
          "output_type": "error",
          "ename": "AttributeError",
          "evalue": "ignored",
          "traceback": [
            "\u001b[0;31m---------------------------------------------------------------------------\u001b[0m",
            "\u001b[0;31mAttributeError\u001b[0m                            Traceback (most recent call last)",
            "\u001b[0;32m<ipython-input-6-3145976e8d86>\u001b[0m in \u001b[0;36m<module>\u001b[0;34m()\u001b[0m\n\u001b[1;32m     20\u001b[0m \u001b[0mprint\u001b[0m\u001b[0;34m(\u001b[0m\u001b[0;34m\"p2's title : \"\u001b[0m\u001b[0;34m,\u001b[0m \u001b[0mp2\u001b[0m\u001b[0;34m.\u001b[0m\u001b[0mtitle\u001b[0m\u001b[0;34m)\u001b[0m\u001b[0;34m\u001b[0m\u001b[0;34m\u001b[0m\u001b[0m\n\u001b[1;32m     21\u001b[0m \u001b[0mprint\u001b[0m\u001b[0;34m(\u001b[0m\u001b[0;34m\"p1's age : \"\u001b[0m\u001b[0;34m,\u001b[0m \u001b[0mp1\u001b[0m\u001b[0;34m.\u001b[0m\u001b[0mage\u001b[0m\u001b[0;34m)\u001b[0m\u001b[0;34m\u001b[0m\u001b[0;34m\u001b[0m\u001b[0m\n\u001b[0;32m---> 22\u001b[0;31m \u001b[0mprint\u001b[0m\u001b[0;34m(\u001b[0m\u001b[0;34m\"p2's age : \"\u001b[0m\u001b[0;34m,\u001b[0m \u001b[0mp2\u001b[0m\u001b[0;34m.\u001b[0m\u001b[0mage\u001b[0m\u001b[0;34m)\u001b[0m\u001b[0;34m\u001b[0m\u001b[0;34m\u001b[0m\u001b[0m\n\u001b[0m",
            "\u001b[0;31mAttributeError\u001b[0m: 'Person' object has no attribute 'age'"
          ]
        }
      ]
    },
    {
      "cell_type": "markdown",
      "metadata": {
        "id": "2-rZRZoEOcd5"
      },
      "source": [
        "  - isinstance(인스턴스 객체, 클래스 객체)\r\n",
        "    - 인스턴스 객체가 어떤 클래스로부터 생성되었는지 확인\r\n",
        "    - bool형으로 결과 반환"
      ]
    },
    {
      "cell_type": "code",
      "metadata": {
        "colab": {
          "base_uri": "https://localhost:8080/"
        },
        "id": "OrYR9b5XOp1S",
        "outputId": "feec76c4-e006-468d-9c1c-c882cc736681"
      },
      "source": [
        "class Person :\r\n",
        "  pass\r\n",
        "class Bird :\r\n",
        "  pass\r\n",
        "class Student(Person): \r\n",
        "  pass\r\n",
        "\r\n",
        "p, s = Person(), Student()\r\n",
        "print(\"p 는 Person의 인스턴스이다 : \" , isinstance(p, Person))\r\n",
        "print(\"s 는 Person의 인스턴스이다 : \" , isinstance(s, Person)) # 상속관계로 인해 부모클래스인 Person 인스턴스로 인식한다.\r\n",
        "print(\"p 는 object의 인스턴스이다 : \" , isinstance(p, object)) # 모든 클래스는 object 객체를 상속받는다.\r\n",
        "print(\"p 는 Bird의 인스턴스이다 : \" , isinstance(p, Bird))"
      ],
      "execution_count": null,
      "outputs": [
        {
          "output_type": "stream",
          "text": [
            "p 는 Person의 인스턴스이다 :  True\n",
            "s 는 Person의 인스턴스이다 :  True\n",
            "p 는 object의 인스턴스이다 :  True\n",
            "p 는 Bird의 인스턴스이다 :  False\n"
          ],
          "name": "stdout"
        }
      ]
    },
    {
      "cell_type": "markdown",
      "metadata": {
        "id": "pxCiqy6aPyhA"
      },
      "source": [
        "### 생성자와 소멸자\r\n",
        "  - 생성자\r\n",
        "    - 생성시 초기화 작업을 수행\r\n",
        "    - 인스턴스 객체가 생성될 때 자동으로 호출\r\n",
        "    - __init__()\r\n",
        "  - 소멸자\r\n",
        "    - 소멸시 종료 작업을 수행\r\n",
        "    - 인스턴스 객체의 참조 카운터가 '0'이 될 때 호출\r\n",
        "    - __del__()"
      ]
    },
    {
      "cell_type": "code",
      "metadata": {
        "colab": {
          "base_uri": "https://localhost:8080/"
        },
        "id": "29B9NAb_QI8U",
        "outputId": "a4cf910d-0df9-45a7-b7f5-3f421cc90423"
      },
      "source": [
        "class MyClass : \r\n",
        "  def __init__(self, value) : # 생성자 메소드\r\n",
        "    self.Value = value\r\n",
        "    print(\"클래스 생성! 값은 \", value)\r\n",
        "  def __del__(self) : # 소멸자 메소드\r\n",
        "    print(\"클래스 삭제!\")\r\n",
        "\r\n",
        "def foo():\r\n",
        "  d = MyClass(10) # 함수 foo 블록안에서만 인스턴스 객체 d가 존재한다.\r\n",
        "\r\n",
        "foo() # 생성되자마자 바로 삭제됨."
      ],
      "execution_count": null,
      "outputs": [
        {
          "output_type": "stream",
          "text": [
            "클래스 생성! 값은  10\n",
            "클래스 삭제!\n"
          ],
          "name": "stdout"
        }
      ]
    },
    {
      "cell_type": "markdown",
      "metadata": {
        "id": "XTZhCYtfRPeF"
      },
      "source": [
        "  - 메서드 확장\r\n",
        "    - 정적(static) 메소드\r\n",
        "      - 인스턴스 객체를 통하지 않고, 클래스를 통해 직접 호출할 수 있는 메소드\r\n",
        "        - 인스턴스 객체를 참조하는 self 인자가 필요하지 않음\r\n",
        "\r\n",
        "        형식 : <호출할 메소드 이름> = staticmethod(클래스 내 정의한 메소드 이름) \r\n",
        "\r\n",
        "    - 클래스(class) 매소드\r\n",
        "      - 클래스 영역의 데이터에 직접 접근할 수 있는 메소드\r\n",
        "        - 암시적으로 첫 인자로 클래스 객체가 전달\r\n",
        "\r\n",
        "        형식 : <호출할 메소드 이름> = classmethod(클래스 내 정의한 메소드 이름)"
      ]
    },
    {
      "cell_type": "markdown",
      "metadata": {
        "id": "woL7HpWfSQus"
      },
      "source": [
        "## 연산자 중복, 상속\r\n",
        "   - 사용자 정의 객체에서 필요한 연산자를 내장 타입과 형태와 동작이 유사하도록 재정의\r\n",
        "   - 연산자 중복을 위하여 두 개의 밑줄 문자가 앞뒤로 있는 메소드를 미리 정의함"
      ]
    },
    {
      "cell_type": "code",
      "metadata": {
        "id": "gl2_QoH-SxF7"
      },
      "source": [
        "class GString:\r\n",
        "  def __init__(self, init = None):\r\n",
        "    self.content = init\r\n",
        "\r\n",
        "  def __sub__(self, str) : # '-' 연산자 중복 정의\r\n",
        "    for i in str:\r\n",
        "      self.content = self.content.replace(i,'')\r\n",
        "    return GString(self.content)\r\n",
        "  \r\n",
        "  def Remove(self, str) :\r\n",
        "    return self.__sub__(str)"
      ],
      "execution_count": null,
      "outputs": []
    },
    {
      "cell_type": "code",
      "metadata": {
        "id": "ZwxCqSP7SwpH"
      },
      "source": [
        ""
      ],
      "execution_count": null,
      "outputs": []
    },
    {
      "cell_type": "markdown",
      "metadata": {
        "id": "0B939SAkGbes"
      },
      "source": [
        "# 예제로 보는 클래스"
      ]
    },
    {
      "cell_type": "code",
      "metadata": {
        "id": "8_bsslONGd8K"
      },
      "source": [
        "# 마린 : 공경 유닛"
      ],
      "execution_count": null,
      "outputs": []
    }
  ]
}