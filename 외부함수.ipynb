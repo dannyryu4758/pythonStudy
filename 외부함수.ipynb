{
  "nbformat": 4,
  "nbformat_minor": 0,
  "metadata": {
    "colab": {
      "name": "외부함수.ipynb",
      "provenance": [],
      "collapsed_sections": [],
      "toc_visible": true,
      "authorship_tag": "ABX9TyO+xmn6D2CwHCM54BqPawW2",
      "include_colab_link": true
    },
    "kernelspec": {
      "name": "python3",
      "display_name": "Python 3"
    }
  },
  "cells": [
    {
      "cell_type": "markdown",
      "metadata": {
        "id": "view-in-github",
        "colab_type": "text"
      },
      "source": [
        "<a href=\"https://colab.research.google.com/github/dannyryu4758/pythonStudy/blob/main/%EC%99%B8%EB%B6%80%ED%95%A8%EC%88%98.ipynb\" target=\"_parent\"><img src=\"https://colab.research.google.com/assets/colab-badge.svg\" alt=\"Open In Colab\"/></a>"
      ]
    },
    {
      "cell_type": "markdown",
      "metadata": {
        "id": "aygXzQqA9q1T"
      },
      "source": [
        "# 외부함수"
      ]
    },
    {
      "cell_type": "code",
      "metadata": {
        "colab": {
          "base_uri": "https://localhost:8080/"
        },
        "id": "4FeJjDSU9lBu",
        "outputId": "18b0eba6-49cc-4aa2-8cd1-63b310ebede8"
      },
      "source": [
        "# glob : 경로 내의 폴더 / 파일 목록 조회 (윈도우 dir)\r\n",
        "import glob\r\n",
        "print(glob.glob(\"*py\")) # 확장자가 py 인 모든 파일"
      ],
      "execution_count": null,
      "outputs": [
        {
          "output_type": "stream",
          "text": [
            "[]\n"
          ],
          "name": "stdout"
        }
      ]
    },
    {
      "cell_type": "code",
      "metadata": {
        "colab": {
          "base_uri": "https://localhost:8080/"
        },
        "id": "pWetQlsR9_Im",
        "outputId": "fbd8a795-3d6d-4e8d-90a5-c0cc358b7e78"
      },
      "source": [
        "# os : 운영체제에서 제공하는 기본 기능\r\n",
        "import os\r\n",
        "print(os.getcwd()) # 현재 디렉토리\r\n",
        "folder = \"sample_dir\"\r\n",
        "\r\n",
        "if os.path.exists(folder) : \r\n",
        "    print(\"이미 존재하는 폴더 입니다.\")\r\n",
        "    os.rmdir(folder) # 폴더 삭제\r\n",
        "    print(folder,\"폴더를 삭제하였습니다.\")\r\n",
        "else :\r\n",
        "    os.makedirs(folder) # 폴더 생성\r\n",
        "    print(folder,\"폴더를 생성하였습니다.\")"
      ],
      "execution_count": null,
      "outputs": [
        {
          "output_type": "stream",
          "text": [
            "/content\n",
            "이미 존재하는 폴더 입니다.\n",
            "sample_dir 폴더를 삭제하였습니다.\n"
          ],
          "name": "stdout"
        }
      ]
    },
    {
      "cell_type": "code",
      "metadata": {
        "colab": {
          "base_uri": "https://localhost:8080/"
        },
        "id": "0Ri3zCoW-KQK",
        "outputId": "93095349-8687-494e-a6a0-51d147d498ea"
      },
      "source": [
        "print(os.listdir())"
      ],
      "execution_count": null,
      "outputs": [
        {
          "output_type": "stream",
          "text": [
            "['.config', 'sample_data']\n"
          ],
          "name": "stdout"
        }
      ]
    },
    {
      "cell_type": "code",
      "metadata": {
        "colab": {
          "base_uri": "https://localhost:8080/"
        },
        "id": "0soghtgI-olY",
        "outputId": "22755b92-2509-4f85-9c86-2ca96e2880bb"
      },
      "source": [
        "# time : 시간 관련 함수\r\n",
        "import time\r\n",
        "print(time.localtime())\r\n",
        "print(time.strftime(\"%Y-%m-%d %H:%M:%S\"))\r\n",
        "\r\n",
        "import datetime\r\n",
        "print(\"오늘 날짜는 \", datetime.date.today())"
      ],
      "execution_count": null,
      "outputs": [
        {
          "output_type": "stream",
          "text": [
            "time.struct_time(tm_year=2021, tm_mon=2, tm_mday=26, tm_hour=15, tm_min=37, tm_sec=10, tm_wday=4, tm_yday=57, tm_isdst=0)\n",
            "2021-02-26 15:37:10\n",
            "오늘 날짜는  2021-02-26\n"
          ],
          "name": "stdout"
        }
      ]
    },
    {
      "cell_type": "code",
      "metadata": {
        "colab": {
          "base_uri": "https://localhost:8080/"
        },
        "id": "-5XtML8t_Nr9",
        "outputId": "ede8ec9f-f9ec-4327-bd8a-ade4026c58b7"
      },
      "source": [
        "# timedelta : 두 날짜 사이의 간격\r\n",
        "today = datetime.date.today() # 오늘 날짜 저장\r\n",
        "td = datetime.timedelta(days=100) # 100일 저장\r\n",
        "print(\"우리가 만난지 100일은\", today + td) # 오늘부터 100일 후"
      ],
      "execution_count": null,
      "outputs": [
        {
          "output_type": "stream",
          "text": [
            "우리가 만난지 100일은 2021-06-06\n"
          ],
          "name": "stdout"
        }
      ]
    },
    {
      "cell_type": "markdown",
      "metadata": {
        "id": "epmlHMjC_pXN"
      },
      "source": [
        "Quiz) 프로젝트 내에 나만의 시그니처를 남기는 모듈을 만드시오  \r\n",
        "   \r\n",
        "조건 : 모듈 파일명은 byme.py 로 작성   \r\n",
        "\r\n",
        "모듈 사용 예제)   \r\n",
        ">import byme   \r\n",
        "byme.sign()   \r\n",
        "   \r\n",
        "(출력 예제)   \r\n",
        "이 프로그램은 나도코딩에 의해 만들어졌습니다.   \r\n",
        "유튜브 : http://youtube.com   \r\n",
        "이메일 : nadocoding@gmail.com\r\n"
      ]
    },
    {
      "cell_type": "code",
      "metadata": {
        "colab": {
          "base_uri": "https://localhost:8080/"
        },
        "id": "dRS5GVqPBY_n",
        "outputId": "7a2c6f49-7241-41e4-dd1e-cd2aeb37a426"
      },
      "source": [
        "import byme2\r\n",
        "byme2.sign()"
      ],
      "execution_count": 47,
      "outputs": [
        {
          "output_type": "stream",
          "text": [
            "이 프로그램은 나도코딩에 의해 만들어졌습니다.\n",
            "유튜브 : http://youtube.com\n",
            "이메일 : nadocoding@gmail.com\n"
          ],
          "name": "stdout"
        }
      ]
    }
  ]
}