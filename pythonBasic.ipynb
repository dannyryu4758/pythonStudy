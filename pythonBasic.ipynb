{
  "nbformat": 4,
  "nbformat_minor": 0,
  "metadata": {
    "colab": {
      "name": "pythonBasic.ipynb",
      "provenance": [],
      "collapsed_sections": [],
      "authorship_tag": "ABX9TyOFe+pl3uN2mntKbx5/BUk+",
      "include_colab_link": true
    },
    "kernelspec": {
      "name": "python3",
      "display_name": "Python 3"
    },
    "accelerator": "GPU"
  },
  "cells": [
    {
      "cell_type": "markdown",
      "metadata": {
        "id": "view-in-github",
        "colab_type": "text"
      },
      "source": [
        "<a href=\"https://colab.research.google.com/github/dannyryu4758/pythonStudy/blob/main/pythonBasic.ipynb\" target=\"_parent\"><img src=\"https://colab.research.google.com/assets/colab-badge.svg\" alt=\"Open In Colab\"/></a>"
      ]
    },
    {
      "cell_type": "markdown",
      "metadata": {
        "id": "nvdR47tpA27O"
      },
      "source": [
        "# 파이썬의 내장 함수"
      ]
    },
    {
      "cell_type": "markdown",
      "metadata": {
        "id": "0Hed2ZmeBGts"
      },
      "source": [
        "### 양수로 변경하기"
      ]
    },
    {
      "cell_type": "code",
      "metadata": {
        "colab": {
          "base_uri": "https://localhost:8080/"
        },
        "id": "tDMmoHwlBC1c",
        "outputId": "7f4c254e-bce3-4b74-a8a6-489844fcfc92"
      },
      "source": [
        "print(abs(-5)) # 5\r\n",
        "# O 제곱 구하기\r\n",
        "print((pow(4,2))) # 4^2 = 4*4 = 16\r\n",
        "# 큰값/작은값 구하기\r\n",
        "print(max(5,12)) # 12\r\n",
        "print(min(5,12)) # 5\r\n",
        "# 반올림하기\r\n",
        "print(round(3.24)) # 3\r\n",
        "print(round(4.99)) # 5"
      ],
      "execution_count": null,
      "outputs": [
        {
          "output_type": "stream",
          "text": [
            "5\n",
            "16\n",
            "12\n",
            "5\n",
            "3\n",
            "5\n"
          ],
          "name": "stdout"
        }
      ]
    },
    {
      "cell_type": "markdown",
      "metadata": {
        "id": "nLx_Dv9EBbq2"
      },
      "source": [
        "### Math 라이브러리"
      ]
    },
    {
      "cell_type": "code",
      "metadata": {
        "colab": {
          "base_uri": "https://localhost:8080/"
        },
        "id": "CzoRhRjOBf4p",
        "outputId": "8c1c3a7d-f415-49fe-dae0-ce2d01d8d3d3"
      },
      "source": [
        "from math import *\r\n",
        "print(floor(4.99)) # 내림 4\r\n",
        "print(ceil(3.14)) # 올림 4\r\n",
        "print(sqrt(16)) # 제곱근 4 (루트)"
      ],
      "execution_count": null,
      "outputs": [
        {
          "output_type": "stream",
          "text": [
            "4\n",
            "4\n",
            "4.0\n"
          ],
          "name": "stdout"
        }
      ]
    },
    {
      "cell_type": "markdown",
      "metadata": {
        "id": "ybYeLO0uBpGk"
      },
      "source": [
        "### Random 라이브러리"
      ]
    },
    {
      "cell_type": "code",
      "metadata": {
        "colab": {
          "base_uri": "https://localhost:8080/"
        },
        "id": "P3GZYkbLBr39",
        "outputId": "7f02e7b9-164f-4959-d5cc-3f61963d2018"
      },
      "source": [
        "from random import *\r\n",
        "print(random()) # 0.0 ~ 1.0 미만의 임의의 값 생성 (소수점)\r\n",
        "print(randrange(1,46)) # 1 ~ 46 미만의 임의의 값 생성 (정수)\r\n",
        "print(randint(1,45)) # 1 ~ 45 이하의 임의의 값 생성"
      ],
      "execution_count": null,
      "outputs": [
        {
          "output_type": "stream",
          "text": [
            "0.4647812852739728\n",
            "22\n",
            "43\n"
          ],
          "name": "stdout"
        }
      ]
    },
    {
      "cell_type": "markdown",
      "metadata": {
        "id": "sebDkYRiCjvG"
      },
      "source": [
        "### 리스트"
      ]
    },
    {
      "cell_type": "code",
      "metadata": {
        "colab": {
          "base_uri": "https://localhost:8080/",
          "height": 531
        },
        "id": "kWmC-n-2Clw8",
        "outputId": "3ea446c1-5100-46c8-d8e4-6743fbab1150"
      },
      "source": [
        "# 지하철 칸별로 10명, 20명, 30명\r\n",
        "subway1 = 10\r\n",
        "subway2 = 20\r\n",
        "subway3 = 30\r\n",
        "\r\n",
        "subway = [10,20,30]\r\n",
        "print(subway)\r\n",
        "\r\n",
        "subway = [\"유재석\", \"조세호\",\"박명수\"]\r\n",
        "print(subway)\r\n",
        "\r\n",
        "# 조세호씨가 몇번째 칸에 타고 있는지\r\n",
        "print(subway.index(\"조세호\"))\r\n",
        "\r\n",
        "# 하하가 다음 정류장에서 다음칸에 탐\r\n",
        "subway.append(\"하하\")\r\n",
        "print(subway)\r\n",
        "\r\n",
        "# 정형돈씨를 유재석 / 조세호 사이에 태워봄\r\n",
        "subway.insert(1, \"정형돈\")\r\n",
        "print(subway)\r\n",
        "\r\n",
        "# 지하철에 있는 사람을 한명씩 뒤에서 꺼냄 (꺼낸 값은 list에서 삭제됨, 동일한 값이 있다면 앞쪽에 있는 값을 삭제함)\r\n",
        "print(subway.pop())\r\n",
        "print(subway)\r\n",
        "\r\n",
        "# 같은 이름의 사람이 몇 명 있는지 확인\r\n",
        "subway.append(\"유재석\")\r\n",
        "print(subway)\r\n",
        "print(subway.count(\"유재석\"))\r\n",
        "\r\n",
        "# 정렬도 가능\r\n",
        "num_list = [5,2,4,3,1]\r\n",
        "num_list.sort()\r\n",
        "print(num_list)\r\n",
        "\r\n",
        "# 순서 뒤집기 기능\r\n",
        "num_list.reverse()\r\n",
        "print(num_list)\r\n",
        "\r\n",
        "# 모두 지우기\r\n",
        "num_list.clear()\r\n",
        "print(num_list)\r\n",
        "\r\n",
        "# 다양한 자료형 함께 사용\r\n",
        "num_list = [5,2,4,3,1]\r\n",
        "mix_list = [\"조세호\", 20, True]\r\n",
        "print(mix_list)\r\n",
        "\r\n",
        "# 리스트 확장\r\n",
        "num_list.extend(mix_list) # 두 리스트 하나로 합치기\r\n",
        "print(num_list)\r\n",
        "\r\n",
        "# index를 이용해 어디에 원하는 값이 있는지 확인\r\n",
        "print(num_list.index(\"조세호\"))\r\n",
        "num_list.append(\"조세호\")\r\n",
        "# index(\"값\", 시작점. [종료점])\r\n",
        "print(num_list.index(\"조세호\"))\r\n",
        "print(num_list.index(\"조세호\",6))\r\n",
        "# 주의사항!! 원하는 값 없을 땐 valueError 발생\r\n",
        "print(num_list.index(\"조세호\",6,8))"
      ],
      "execution_count": null,
      "outputs": [
        {
          "output_type": "stream",
          "text": [
            "[10, 20, 30]\n",
            "['유재석', '조세호', '박명수']\n",
            "1\n",
            "['유재석', '조세호', '박명수', '하하']\n",
            "['유재석', '정형돈', '조세호', '박명수', '하하']\n",
            "하하\n",
            "['유재석', '정형돈', '조세호', '박명수']\n",
            "['유재석', '정형돈', '조세호', '박명수', '유재석']\n",
            "2\n",
            "[1, 2, 3, 4, 5]\n",
            "[5, 4, 3, 2, 1]\n",
            "[]\n",
            "['조세호', 20, True]\n",
            "[5, 2, 4, 3, 1, '조세호', 20, True]\n",
            "5\n",
            "5\n",
            "8\n"
          ],
          "name": "stdout"
        },
        {
          "output_type": "error",
          "ename": "ValueError",
          "evalue": "ignored",
          "traceback": [
            "\u001b[0;31m---------------------------------------------------------------------------\u001b[0m",
            "\u001b[0;31mValueError\u001b[0m                                Traceback (most recent call last)",
            "\u001b[0;32m<ipython-input-8-e62630e45e21>\u001b[0m in \u001b[0;36m<module>\u001b[0;34m()\u001b[0m\n\u001b[1;32m     59\u001b[0m \u001b[0mprint\u001b[0m\u001b[0;34m(\u001b[0m\u001b[0mnum_list\u001b[0m\u001b[0;34m.\u001b[0m\u001b[0mindex\u001b[0m\u001b[0;34m(\u001b[0m\u001b[0;34m\"조세호\"\u001b[0m\u001b[0;34m,\u001b[0m\u001b[0;36m6\u001b[0m\u001b[0;34m)\u001b[0m\u001b[0;34m)\u001b[0m\u001b[0;34m\u001b[0m\u001b[0;34m\u001b[0m\u001b[0m\n\u001b[1;32m     60\u001b[0m \u001b[0;31m# 주의사항!! 원하는 값 없을 땐 valueError 발생\u001b[0m\u001b[0;34m\u001b[0m\u001b[0;34m\u001b[0m\u001b[0;34m\u001b[0m\u001b[0m\n\u001b[0;32m---> 61\u001b[0;31m \u001b[0mprint\u001b[0m\u001b[0;34m(\u001b[0m\u001b[0mnum_list\u001b[0m\u001b[0;34m.\u001b[0m\u001b[0mindex\u001b[0m\u001b[0;34m(\u001b[0m\u001b[0;34m\"조세호\"\u001b[0m\u001b[0;34m,\u001b[0m\u001b[0;36m6\u001b[0m\u001b[0;34m,\u001b[0m\u001b[0;36m8\u001b[0m\u001b[0;34m)\u001b[0m\u001b[0;34m)\u001b[0m\u001b[0;34m\u001b[0m\u001b[0;34m\u001b[0m\u001b[0m\n\u001b[0m",
            "\u001b[0;31mValueError\u001b[0m: '조세호' is not in list"
          ]
        }
      ]
    },
    {
      "cell_type": "markdown",
      "metadata": {
        "id": "E9hQZ7L9EXNY"
      },
      "source": [
        "### 사전(Dictionery)"
      ]
    },
    {
      "cell_type": "code",
      "metadata": {
        "colab": {
          "base_uri": "https://localhost:8080/"
        },
        "id": "-N9x_NEbEbXn",
        "outputId": "67b8606f-668a-4952-bc62-6bc9c0c79d66"
      },
      "source": [
        "from random import *\r\n",
        "cabinet = dict(a=\"유재석\", b=\"김태호\")\r\n",
        "print(cabinet['a'])  # 유재석\r\n",
        "\r\n",
        "cabinet = {3: \"유재석\", 100: \"김태호\"}\r\n",
        "print(cabinet[3])\r\n",
        "print(cabinet[100])\r\n",
        "\r\n",
        "print(cabinet.get(3))\r\n",
        "# print(cabinet[5]) # index 에러 (프로그램 종료)\r\n",
        "print(cabinet.get(5))  # None 출력(프로그램 진행)\r\n",
        "print(cabinet.get(5, \"사용가능\"))  # 기본값 설정 (프로그램 진행)\r\n",
        "\r\n",
        "# 사전 자료형 안에 원하는 값이 있는지 확인\r\n",
        "print(3 in cabinet)\r\n",
        "print(5 in cabinet)\r\n",
        "\r\n",
        "cabinet = {\"A-3\": \"유재석\", \"B-100\": \"김태호\"}\r\n",
        "print(cabinet[\"A-3\"])\r\n",
        "print(cabinet[\"B-100\"])\r\n",
        "\r\n",
        "# 새 손님\r\n",
        "print(cabinet)\r\n",
        "# 새로운 값 추가\r\n",
        "cabinet[\"C-20\"] = \"조세호\"\r\n",
        "# 기존 값 변경\r\n",
        "cabinet[\"A-3\"] = \"김종국\"\r\n",
        "print(cabinet)\r\n",
        "\r\n",
        "# 나간 손님\r\n",
        "del cabinet[\"A-3\"]\r\n",
        "print(cabinet)\r\n",
        "\r\n",
        "# key 들만 출력\r\n",
        "print(cabinet.keys())\r\n",
        "\r\n",
        "# value 들만 출력\r\n",
        "print(cabinet.values())\r\n",
        "\r\n",
        "# key, value 쌍으로 출력 (튜플로 반환)\r\n",
        "print(cabinet.items())\r\n",
        "\r\n",
        "# 목욕탕 폐점\r\n",
        "cabinet.clear()\r\n",
        "print(cabinet)"
      ],
      "execution_count": null,
      "outputs": [
        {
          "output_type": "stream",
          "text": [
            "유재석\n",
            "유재석\n",
            "김태호\n",
            "유재석\n",
            "None\n",
            "사용가능\n",
            "hi\n",
            "True\n",
            "False\n",
            "유재석\n",
            "김태호\n",
            "{'A-3': '유재석', 'B-100': '김태호'}\n",
            "{'A-3': '김종국', 'B-100': '김태호', 'C-20': '조세호'}\n",
            "{'B-100': '김태호', 'C-20': '조세호'}\n",
            "dict_keys(['B-100', 'C-20'])\n",
            "dict_values(['김태호', '조세호'])\n",
            "dict_items([('B-100', '김태호'), ('C-20', '조세호')])\n",
            "{}\n"
          ],
          "name": "stdout"
        }
      ]
    },
    {
      "cell_type": "markdown",
      "metadata": {
        "id": "y60GcNE_E2yV"
      },
      "source": [
        "### 얕은 복사 VS 깊은 복사\r\n",
        "- 얕은 복사 : 주소가 복사되어 객체를 공유하는 경우\r\n",
        "- 깊은 복사 : 객체를 공유하지 않는 경우"
      ]
    },
    {
      "cell_type": "code",
      "metadata": {
        "colab": {
          "base_uri": "https://localhost:8080/"
        },
        "id": "JmJBDHabFRYL",
        "outputId": "96e002f2-5858-45b7-c63e-29a463b427d2"
      },
      "source": [
        "a= [1,2,3]\r\n",
        "b = a # 얕은 복사 (같은 레퍼런스 공유)\r\n",
        "c = a[:] # 깊은 복사\r\n",
        "print(id(a), id(b), id(c))\r\n",
        "a[0] = 38\r\n",
        "print(b) # 1 => 38 변경 됨\r\n",
        "print(c) # 변경되지 않음"
      ],
      "execution_count": null,
      "outputs": [
        {
          "output_type": "stream",
          "text": [
            "140031173603272 140031173603272 140031173599560\n",
            "[38, 2, 3]\n",
            "[1, 2, 3]\n"
          ],
          "name": "stdout"
        }
      ]
    }
  ]
}