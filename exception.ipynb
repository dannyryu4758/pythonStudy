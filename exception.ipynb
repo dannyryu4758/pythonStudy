{
  "nbformat": 4,
  "nbformat_minor": 0,
  "metadata": {
    "colab": {
      "name": "exception.ipynb",
      "provenance": [],
      "collapsed_sections": [],
      "toc_visible": true,
      "authorship_tag": "ABX9TyOoBnAQfRdQ9Xc9UQY3LCyO",
      "include_colab_link": true
    },
    "kernelspec": {
      "name": "python3",
      "display_name": "Python 3"
    }
  },
  "cells": [
    {
      "cell_type": "markdown",
      "metadata": {
        "id": "view-in-github",
        "colab_type": "text"
      },
      "source": [
        "<a href=\"https://colab.research.google.com/github/dannyryu4758/pythonStudy/blob/main/exception.ipynb\" target=\"_parent\"><img src=\"https://colab.research.google.com/assets/colab-badge.svg\" alt=\"Open In Colab\"/></a>"
      ]
    },
    {
      "cell_type": "markdown",
      "metadata": {
        "id": "MrALcCofSG1_"
      },
      "source": [
        "#예외처리"
      ]
    },
    {
      "cell_type": "markdown",
      "metadata": {
        "id": "nIQIQlVpSUTw"
      },
      "source": [
        "- 계산기 만들기(나누기 전용)"
      ]
    },
    {
      "cell_type": "code",
      "metadata": {
        "colab": {
          "base_uri": "https://localhost:8080/"
        },
        "id": "XNeTpCuIR2CS",
        "outputId": "c080f473-47a8-479c-eeaa-f98684502d42"
      },
      "source": [
        "try:\r\n",
        "    print(\"나누기 전용 계산기 입니다.\")\r\n",
        "    num1 = int(input(\"첫번째 숫자를 입력하세요 : \"))\r\n",
        "    num2 = int(input(\"첫번째 숫자를 입력하세요 : \"))\r\n",
        "    print(\"{0} / {1} = {2}\".format(num1, num2, int(num1/num2)))\r\n",
        "except ValueError :\r\n",
        "    print(\"에러! 잘못된 값을 입력하였습니다.\")\r\n",
        "except ZeroDivisionError as err : \r\n",
        "    print(err)"
      ],
      "execution_count": 3,
      "outputs": [
        {
          "output_type": "stream",
          "text": [
            "나누기 전용 계산기 입니다.\n",
            "첫번째 숫자를 입력하세요 : 1\n",
            "첫번째 숫자를 입력하세요 : 0\n",
            "division by zero\n"
          ],
          "name": "stdout"
        }
      ]
    },
    {
      "cell_type": "code",
      "metadata": {
        "colab": {
          "base_uri": "https://localhost:8080/"
        },
        "id": "Z7_B-xgwTaz0",
        "outputId": "b4bde6b2-3493-4557-f7a2-7b58c621d896"
      },
      "source": [
        "try:\r\n",
        "    print(\"나누기 전용 계산기 입니다.\")\r\n",
        "    nums = []\r\n",
        "    nums.append(int(input(\"첫번째 숫자를 입력하세요 : \")))\r\n",
        "    nums.append(int(input(\"첫번째 숫자를 입력하세요 : \")))\r\n",
        "    # nums.append(int(nums[0] / nums[1]))\r\n",
        "    print(\"{0} / {1} = {2}\".format(nums[0], nums[1], nums[2]))\r\n",
        "except ValueError :\r\n",
        "    print(\"에러! 잘못된 값을 입력하였습니다.\")\r\n",
        "except ZeroDivisionError as err : \r\n",
        "    print(err)\r\n",
        "except Exception as err: \r\n",
        "    print(\"알 수 없는 에러가 발생했습니다.\")\r\n",
        "    print(err)"
      ],
      "execution_count": 10,
      "outputs": [
        {
          "output_type": "stream",
          "text": [
            "나누기 전용 계산기 입니다.\n",
            "첫번째 숫자를 입력하세요 : 5\n",
            "첫번째 숫자를 입력하세요 : 2\n",
            "알 수 없는 에러가 발생했습니다.\n",
            "list index out of range\n"
          ],
          "name": "stdout"
        }
      ]
    },
    {
      "cell_type": "markdown",
      "metadata": {
        "id": "on32nOEgUXiX"
      },
      "source": [
        "# 예외 발생시키기\r\n",
        "- rasie 에러명"
      ]
    },
    {
      "cell_type": "code",
      "metadata": {
        "colab": {
          "base_uri": "https://localhost:8080/"
        },
        "id": "UmvN-KVoUb8Q",
        "outputId": "66cceee2-d017-4b8b-93b1-81c7a904d2fe"
      },
      "source": [
        "try:\r\n",
        "    print(\"나누기 전용 계산기 입니다.\")\r\n",
        "    num1 = int(input(\"첫번째 숫자를 입력하세요 : \"))\r\n",
        "    num2 = int(input(\"첫번째 숫자를 입력하세요 : \"))\r\n",
        "    if num1 >= 10 or num2 >= 10:\r\n",
        "        raise ValueError\r\n",
        "    print(\"{0} / {1} = {2}\".format(num1, num2, int(num1/num2)))\r\n",
        "except ValueError : \r\n",
        "    print(\"잘못된 값을 입력하였습니다. 한 자리 숫자만 입력하세요.\")"
      ],
      "execution_count": 12,
      "outputs": [
        {
          "output_type": "stream",
          "text": [
            "나누기 전용 계산기 입니다.\n",
            "첫번째 숫자를 입력하세요 : 10\n",
            "첫번째 숫자를 입력하세요 : 5\n",
            "잘못된 값을 입력하였습니다. 한 자리 숫자만 입력하세요.\n"
          ],
          "name": "stdout"
        }
      ]
    },
    {
      "cell_type": "markdown",
      "metadata": {
        "id": "hQv9h1eCVF_e"
      },
      "source": [
        "# 사용자 정의 예외처리"
      ]
    },
    {
      "cell_type": "code",
      "metadata": {
        "colab": {
          "base_uri": "https://localhost:8080/"
        },
        "id": "IZ-d3N0gVKEE",
        "outputId": "264dd210-4431-48fa-8ee9-c16655898059"
      },
      "source": [
        "# 사용자 정의 예외\r\n",
        "class BigNumberError(Exception) :\r\n",
        "    def __init__(self, msg) :\r\n",
        "        self.msg = msg\r\n",
        "    \r\n",
        "    def __str__(self) :\r\n",
        "        return self.msg\r\n",
        "\r\n",
        "try:\r\n",
        "    print(\"나누기 전용 계산기 입니다.\")\r\n",
        "    num1 = int(input(\"첫번째 숫자를 입력하세요 : \"))\r\n",
        "    num2 = int(input(\"첫번째 숫자를 입력하세요 : \"))\r\n",
        "    if num1 >= 10 or num2 >= 10:\r\n",
        "        raise BigNumberError(\"입력값 : {0}, {1}\".format(num1,num2))\r\n",
        "    print(\"{0} / {1} = {2}\".format(num1, num2, int(num1/num2)))\r\n",
        "except ValueError : \r\n",
        "    print(\"ValueError 잘못된 값을 입력하였습니다. 한 자리 숫자만 입력하세요.\")\r\n",
        "except BigNumberError as err : \r\n",
        "    print(\"BigNumberError 에러가 발생했습니다. 한 자리 숫자만 입력하세요.\")\r\n",
        "    print(err)\r\n",
        "finally : \r\n",
        "    print(\"계산기를 이용해 주셔서 감사합니다.\")"
      ],
      "execution_count": 19,
      "outputs": [
        {
          "output_type": "stream",
          "text": [
            "나누기 전용 계산기 입니다.\n",
            "첫번째 숫자를 입력하세요 : 10\n",
            "첫번째 숫자를 입력하세요 : 4\n",
            "BigNumberError 에러가 발생했습니다. 한 자리 숫자만 입력하세요.\n",
            "입력값 : 10, 4\n",
            "계산기를 이용해 주셔서 감사합니다.\n"
          ],
          "name": "stdout"
        }
      ]
    },
    {
      "cell_type": "markdown",
      "metadata": {
        "id": "8m-rxy3BX6XM"
      },
      "source": [
        "Quiz) 동네에 항상 대기 손님이 있는 맛있는 치킨집이 있습니다.   \r\n",
        "대기 손님의 치킨 요리 시간을 줄이고자 자동 주문 시스템을 제작하였습니다.   \r\n",
        "시스템 코드를 확인하고 적절한 예외처리 구문을 넣으시오."
      ]
    },
    {
      "cell_type": "code",
      "metadata": {
        "colab": {
          "base_uri": "https://localhost:8080/"
        },
        "id": "nwFe4ytfYDgW",
        "outputId": "af2e396e-c2eb-431b-e8a9-8ce88e61f6c5"
      },
      "source": [
        "class SoldOutError(Exception) :\r\n",
        "    def __init__(self):\r\n",
        "        pass\r\n",
        "    \r\n",
        "    def __str__(self) : \r\n",
        "        return \"재고가 소진되어 더 이상 주문을 받지 않습니다.\"\r\n",
        "\r\n",
        "chicken = 10\r\n",
        "waiting = 1 # 홀 안에는 현재 만석, 대기번호 1부터 시작\r\n",
        "while(True) : \r\n",
        "    try:\r\n",
        "        print(\"[남은 치킨 : {0}]\".format(chicken))\r\n",
        "        order = int(input(\"치킨 몇 마리 주문하시겠습니까?\"))\r\n",
        "        if order <= 0 :\r\n",
        "            raise ValueError\r\n",
        "        if order > chicken : # 남은 치킨보다 주문량이 많을 때\r\n",
        "            print(\"재료가 부족합니다.\")\r\n",
        "        else :\r\n",
        "            print(\"[대기번호 {0}] {1} 마리 주문이 완료되었습니다.\"\\\r\n",
        "                .format(waiting, order))\r\n",
        "            waiting += 1\r\n",
        "            chicken -= order\r\n",
        "            if chicken == 0 :\r\n",
        "                raise SoldOutError\r\n",
        "    except ValueError : \r\n",
        "        print(\"잘못된 값을 입력하였습니다.\")\r\n",
        "    except SoldOutError as err :\r\n",
        "        print(err) \r\n",
        "        break"
      ],
      "execution_count": 23,
      "outputs": [
        {
          "output_type": "stream",
          "text": [
            "[남은 치킨 : 10]\n",
            "치킨 몇 마리 주문하시겠습니까?11\n",
            "재료가 부족합니다.\n",
            "[남은 치킨 : 10]\n",
            "치킨 몇 마리 주문하시겠습니까?rksk\n",
            "잘못된 값을 입력하였습니다.\n",
            "[남은 치킨 : 10]\n",
            "치킨 몇 마리 주문하시겠습니까?-1\n",
            "잘못된 값을 입력하였습니다.\n",
            "[남은 치킨 : 10]\n",
            "치킨 몇 마리 주문하시겠습니까?10\n",
            "[대기번호 1] 10 마리 주문이 완료되었습니다.\n",
            "재고가 소진되어 더 이상 주문을 받지 않습니다.\n"
          ],
          "name": "stdout"
        }
      ]
    }
  ]
}