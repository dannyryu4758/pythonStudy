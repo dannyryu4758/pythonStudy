{
  "nbformat": 4,
  "nbformat_minor": 0,
  "metadata": {
    "colab": {
      "name": "branchStatement.ipynb",
      "provenance": [],
      "collapsed_sections": [],
      "authorship_tag": "ABX9TyMdoqgluUHn5Es3bynjNkhi",
      "include_colab_link": true
    },
    "kernelspec": {
      "name": "python3",
      "display_name": "Python 3"
    },
    "accelerator": "GPU"
  },
  "cells": [
    {
      "cell_type": "markdown",
      "metadata": {
        "id": "view-in-github",
        "colab_type": "text"
      },
      "source": [
        "<a href=\"https://colab.research.google.com/github/dannyryu4758/pythonStudy/blob/main/branchStatement.ipynb\" target=\"_parent\"><img src=\"https://colab.research.google.com/assets/colab-badge.svg\" alt=\"Open In Colab\"/></a>"
      ]
    },
    {
      "cell_type": "markdown",
      "metadata": {
        "id": "eeKBmW9qVYTb"
      },
      "source": [
        "# 제어문"
      ]
    },
    {
      "cell_type": "markdown",
      "metadata": {
        "id": "X9UqPnPNVdWF"
      },
      "source": [
        "## if문"
      ]
    },
    {
      "cell_type": "markdown",
      "metadata": {
        "id": "jMq0a9scW5-1"
      },
      "source": [
        "  - 무조건 False 인 경우\r\n",
        "     - 0, 0.0, (), [], {}, '', \"(빈 문자열)\", None인 경우\r\n",
        "  - 무조건 True 인 경우\r\n",
        "    - False인 경우를 제외한 값이 할당된 경우"
      ]
    },
    {
      "cell_type": "code",
      "metadata": {
        "colab": {
          "base_uri": "https://localhost:8080/"
        },
        "id": "p7QIRqF8VgNO",
        "outputId": "f95f98cd-d592-4075-b571-952ac0ab3347"
      },
      "source": [
        "print(bool(0))\r\n",
        "\r\n",
        "weather = input(\"오늘 날씨 어때요?\")\r\n",
        "\r\n",
        "if weather == \"비\" or weather == \"눈\":\r\n",
        "    print(\"우산을 챙기세요\")\r\n",
        "elif weather == \"미세먼지\":\r\n",
        "    print(\"마스크를 챙기세요\")\r\n",
        "else:\r\n",
        "    print(\"준비물 필요 없어요.\")\r\n",
        "\r\n",
        "\r\n",
        "temp = int(input(\"기온은 어때요?\"))\r\n",
        "if 30 <= temp:\r\n",
        "    print(\"너무 더워요. 나가지 마세요\")\r\n",
        "elif 10 <= temp and temp < 30:\r\n",
        "    print(\"괜찮은 날씨예요\")\r\n",
        "elif 0 <= temp < 10:\r\n",
        "    print(\"외투를 챙기세요\")\r\n",
        "else:\r\n",
        "    print(\"너무 추워요. 나가지 마세요\")"
      ],
      "execution_count": 10,
      "outputs": [
        {
          "output_type": "stream",
          "text": [
            "False\n",
            "오늘 날씨 어때요?ql\n",
            "준비물 필요 없어요.\n",
            "기온은 어때요?30\n",
            "너무 더워요. 나가지 마세요\n"
          ],
          "name": "stdout"
        }
      ]
    },
    {
      "cell_type": "markdown",
      "metadata": {
        "id": "nZojLNKSXeAA"
      },
      "source": [
        "  - 연산자를 활용한 조건문"
      ]
    },
    {
      "cell_type": "code",
      "metadata": {
        "colab": {
          "base_uri": "https://localhost:8080/",
          "height": 251
        },
        "id": "atYV6dMrXgQb",
        "outputId": "f085ba6a-262b-4702-da87-da1262722bde"
      },
      "source": [
        "a = 0\r\n",
        "if a & 10/a :\r\n",
        "  print(\"a가 0 입니다.\")\r\n",
        "else :\r\n",
        "  print(\"에러없이 통과\")"
      ],
      "execution_count": 12,
      "outputs": [
        {
          "output_type": "error",
          "ename": "ZeroDivisionError",
          "evalue": "ignored",
          "traceback": [
            "\u001b[0;31m---------------------------------------------------------------------------\u001b[0m",
            "\u001b[0;31mZeroDivisionError\u001b[0m                         Traceback (most recent call last)",
            "\u001b[0;32m<ipython-input-12-388da45bffa2>\u001b[0m in \u001b[0;36m<module>\u001b[0;34m()\u001b[0m\n\u001b[1;32m      1\u001b[0m \u001b[0ma\u001b[0m \u001b[0;34m=\u001b[0m \u001b[0;36m0\u001b[0m\u001b[0;34m\u001b[0m\u001b[0;34m\u001b[0m\u001b[0m\n\u001b[0;32m----> 2\u001b[0;31m \u001b[0;32mif\u001b[0m \u001b[0ma\u001b[0m \u001b[0;34m&\u001b[0m \u001b[0;36m10\u001b[0m\u001b[0;34m/\u001b[0m\u001b[0ma\u001b[0m \u001b[0;34m:\u001b[0m\u001b[0;34m\u001b[0m\u001b[0;34m\u001b[0m\u001b[0m\n\u001b[0m\u001b[1;32m      3\u001b[0m   \u001b[0mprint\u001b[0m\u001b[0;34m(\u001b[0m\u001b[0;34m\"a가 0 입니다.\"\u001b[0m\u001b[0;34m)\u001b[0m\u001b[0;34m\u001b[0m\u001b[0;34m\u001b[0m\u001b[0m\n\u001b[1;32m      4\u001b[0m \u001b[0;32melse\u001b[0m \u001b[0;34m:\u001b[0m\u001b[0;34m\u001b[0m\u001b[0;34m\u001b[0m\u001b[0m\n\u001b[1;32m      5\u001b[0m   \u001b[0mprint\u001b[0m\u001b[0;34m(\u001b[0m\u001b[0;34m\"에러없이 통과\"\u001b[0m\u001b[0;34m)\u001b[0m\u001b[0;34m\u001b[0m\u001b[0;34m\u001b[0m\u001b[0m\n",
            "\u001b[0;31mZeroDivisionError\u001b[0m: division by zero"
          ]
        }
      ]
    },
    {
      "cell_type": "markdown",
      "metadata": {
        "id": "ZrHhesrzX3Cq"
      },
      "source": [
        "  - 단축평가\r\n",
        "    - 조건식 전체를 판단하지 않고 순차적으로 진행\r\n",
        "    - 식 전체가 자명한 경우, 더 이상 수식을 평가하지 않는 방법\r\n",
        "    - 장점 : 속도향상, RuntimeError 사전 차단\r\n",
        "    \r\n",
        "    x and y : x가 False인 경우, y값은 평가하지 않음\r\n",
        "\r\n",
        "    x or y : x가 True인 경우, y값은 평가하지 않음"
      ]
    },
    {
      "cell_type": "code",
      "metadata": {
        "colab": {
          "base_uri": "https://localhost:8080/"
        },
        "id": "wiCRjpYIYECD",
        "outputId": "ed371b37-dbf0-43bf-e0a5-5ddb00c4dfc1"
      },
      "source": [
        "a = 0\r\n",
        "if a and 10/a : \r\n",
        "  print(\"a가 0 입니다.\")\r\n",
        "else :\r\n",
        "  print(\"에러없이 통과\")\r\n",
        "\r\n",
        "a = 1\r\n",
        "if a or 10/a : \r\n",
        "  print(\"a가 0 입니다.\")\r\n",
        "else :\r\n",
        "  print(\"에러없이 통과\")"
      ],
      "execution_count": 16,
      "outputs": [
        {
          "output_type": "stream",
          "text": [
            "에러없이 통과\n",
            "a가 0 입니다.\n"
          ],
          "name": "stdout"
        }
      ]
    },
    {
      "cell_type": "markdown",
      "metadata": {
        "id": "0_FqFx87Vt59"
      },
      "source": [
        "---\r\n",
        "---\r\n",
        "## 반복문"
      ]
    },
    {
      "cell_type": "markdown",
      "metadata": {
        "id": "Os7W9_ryWEkJ"
      },
      "source": [
        "### for문"
      ]
    },
    {
      "cell_type": "code",
      "metadata": {
        "colab": {
          "base_uri": "https://localhost:8080/"
        },
        "id": "IMqqxYvvVwwm",
        "outputId": "7343b188-81df-4963-81b8-55dac39c5c76"
      },
      "source": [
        "for waiting_no in [0, 1, 2, 3, 4]:\r\n",
        "    print(\"대기번호 : {0}\".format(waiting_no))"
      ],
      "execution_count": 1,
      "outputs": [
        {
          "output_type": "stream",
          "text": [
            "대기번호 : 0\n",
            "대기번호 : 1\n",
            "대기번호 : 2\n",
            "대기번호 : 3\n",
            "대기번호 : 4\n"
          ],
          "name": "stdout"
        }
      ]
    },
    {
      "cell_type": "code",
      "metadata": {
        "colab": {
          "base_uri": "https://localhost:8080/"
        },
        "id": "Ax-6YQzwV4eh",
        "outputId": "ba0e562a-97c8-43a6-f24c-5700af76c787"
      },
      "source": [
        "for waiting_no in range(1, 6):  # 1,2,3,4,5\r\n",
        "    print(\"대기번호 : {0}\".format(waiting_no))"
      ],
      "execution_count": 3,
      "outputs": [
        {
          "output_type": "stream",
          "text": [
            "대기번호 : 1\n",
            "대기번호 : 2\n",
            "대기번호 : 3\n",
            "대기번호 : 4\n",
            "대기번호 : 5\n"
          ],
          "name": "stdout"
        }
      ]
    },
    {
      "cell_type": "code",
      "metadata": {
        "colab": {
          "base_uri": "https://localhost:8080/"
        },
        "id": "Y9-RKnMzV69C",
        "outputId": "734c518e-27af-468d-b770-199dccec3203"
      },
      "source": [
        "starbucks = [\"아이언맨\", \"토르\", \"아엠 그루트\"]\r\n",
        "for customer in starbucks:\r\n",
        "    print(\"{0}, 커피가 준비되었습니다.\".format(customer))"
      ],
      "execution_count": 4,
      "outputs": [
        {
          "output_type": "stream",
          "text": [
            "아이언맨, 커피가 준비되었습니다.\n",
            "토르, 커피가 준비되었습니다.\n",
            "아엠 그루트, 커피가 준비되었습니다.\n"
          ],
          "name": "stdout"
        }
      ]
    },
    {
      "cell_type": "code",
      "metadata": {
        "colab": {
          "base_uri": "https://localhost:8080/"
        },
        "id": "Y52Jtv92Zjgp",
        "outputId": "877a649e-2317-4fb0-83d7-3934d1326f16"
      },
      "source": [
        "# 사전 꺼내기\r\n",
        "fruit = {\"Apple\":100, \"Orange\":200, \"Banana\":300}\r\n",
        "for k,v in fruit.items():\r\n",
        "  print(k,v)"
      ],
      "execution_count": 19,
      "outputs": [
        {
          "output_type": "stream",
          "text": [
            "Apple 100\n",
            "Orange 200\n",
            "Banana 300\n"
          ],
          "name": "stdout"
        }
      ]
    },
    {
      "cell_type": "code",
      "metadata": {
        "colab": {
          "base_uri": "https://localhost:8080/"
        },
        "id": "ElxmnYt6aCiH",
        "outputId": "12888c1d-6916-4ff5-faf5-b7f12af5229a"
      },
      "source": [
        "# for문에서의 else문 사용 예시\r\n",
        "\r\n",
        "# else 블록이 수행되는 경우\r\n",
        "L = [i for i in range(1,11)]\r\n",
        "print(L)\r\n",
        "for k in L :\r\n",
        "  if k % 2 == 0:\r\n",
        "    continue\r\n",
        "  print(\"Item: {0}\".format(k))\r\n",
        "else:\r\n",
        "  print(\"break 없이 끝까지 왔어요\")\r\n",
        "print(\"=\" * 20)\r\n",
        "\r\n",
        "# else 블록이 수행되지 않는 경우\r\n",
        "for k in L :\r\n",
        "  if k > 5:\r\n",
        "    break\r\n",
        "  print(\"Item: {0}\".format(k))\r\n",
        "else:\r\n",
        "  print(\"break 없이 끝까지 왔어요\")\r\n",
        "print(\"=\" * 20)"
      ],
      "execution_count": 27,
      "outputs": [
        {
          "output_type": "stream",
          "text": [
            "[1, 2, 3, 4, 5, 6, 7, 8, 9, 10]\n",
            "Item: 1\n",
            "Item: 3\n",
            "Item: 5\n",
            "Item: 7\n",
            "Item: 9\n",
            "break 없이 끝까지 왔어요\n",
            "====================\n",
            "Item: 1\n",
            "Item: 2\n",
            "Item: 3\n",
            "Item: 4\n",
            "Item: 5\n",
            "====================\n"
          ],
          "name": "stdout"
        }
      ]
    },
    {
      "cell_type": "markdown",
      "metadata": {
        "id": "o9HCTgX9b9_i"
      },
      "source": [
        "  - 한 줄 for문 (리스트 내장)\r\n",
        "    - [<표현식> for <아이템> in <시퀀스객체>]\r\n",
        "    - 조건식을 통해 조건에 만족하는 아이템만 선별\r\n",
        "      - [<표현식> for <아이템> in <시퀀스객체> (if<조건식>)]"
      ]
    },
    {
      "cell_type": "code",
      "metadata": {
        "colab": {
          "base_uri": "https://localhost:8080/"
        },
        "id": "PZJsntbncaEy",
        "outputId": "cf7546c3-ebab-4ab7-ac18-5eba747081a7"
      },
      "source": [
        "# 출석번호가 1 2 3 4, 앞에 100을 붙이기로함 => 101,102,103,104\r\n",
        "students = [1, 2, 3, 4, 5]\r\n",
        "print(students)\r\n",
        "students = [i+100 for i in students]\r\n",
        "print(students)\r\n",
        "\r\n",
        "# 학생 이름을 길이로 변환\r\n",
        "students = [\"Iron man\", \"Thor\", \"I am groot\"]\r\n",
        "students = [len(i) for i in students]\r\n",
        "print(students)\r\n",
        "\r\n",
        "# 학생 이름을 대문자로 변환\r\n",
        "students = [\"Iron man\", \"Thor\", \"I am groot\"]\r\n",
        "students = [i.upper() for i in students]\r\n",
        "print(students)\r\n",
        "\r\n",
        "# if 문 포함\r\n",
        "t = (\"orange\", \"apple\", \"banana\", \"kiwi\")\r\n",
        "tmp = [i for i in t if len(i) > 5]\r\n",
        "print(tmp)"
      ],
      "execution_count": 28,
      "outputs": [
        {
          "output_type": "stream",
          "text": [
            "[1, 2, 3, 4, 5]\n",
            "[101, 102, 103, 104, 105]\n",
            "[8, 4, 10]\n",
            "['IRON MAN', 'THOR', 'I AM GROOT']\n",
            "['orange', 'banana']\n"
          ],
          "name": "stdout"
        }
      ]
    },
    {
      "cell_type": "code",
      "metadata": {
        "colab": {
          "base_uri": "https://localhost:8080/"
        },
        "id": "iDIXWQZFdDXw",
        "outputId": "259011b4-0028-4c03-cdb9-3767d27b21ff"
      },
      "source": [
        "# 원본 리스트가 2개인 경우\r\n",
        "L1 = {3,4,5}\r\n",
        "L2 = {1.5, -0.5, 4}\r\n",
        "tmp = [x*y for x in L1 for y in L2]\r\n",
        "print(tmp)"
      ],
      "execution_count": 29,
      "outputs": [
        {
          "output_type": "stream",
          "text": [
            "[-1.5, 4.5, 12, -2.0, 6.0, 16, -2.5, 7.5, 20]\n"
          ],
          "name": "stdout"
        }
      ]
    },
    {
      "cell_type": "markdown",
      "metadata": {
        "id": "ZIIo2wjVWIOw"
      },
      "source": [
        "---\r\n",
        "### while문"
      ]
    },
    {
      "cell_type": "code",
      "metadata": {
        "colab": {
          "base_uri": "https://localhost:8080/"
        },
        "id": "-AzCj4tKV-XJ",
        "outputId": "13dbf05a-5cb6-48d1-ce39-822d21071231"
      },
      "source": [
        "customer = \"토르\"\r\n",
        "index = 5\r\n",
        "while index >= 1:\r\n",
        "    print(\"{0}, 커피가 준비 되었습니다. {1} 번 남았어요\".format(customer, index))\r\n",
        "    index -= 1\r\n",
        "    if index == 0:\r\n",
        "        print(\"커피는 폐기처분되었습니다.\")"
      ],
      "execution_count": 5,
      "outputs": [
        {
          "output_type": "stream",
          "text": [
            "토르, 커피가 준비 되었습니다. 5 번 남았어요\n",
            "토르, 커피가 준비 되었습니다. 4 번 남았어요\n",
            "토르, 커피가 준비 되었습니다. 3 번 남았어요\n",
            "토르, 커피가 준비 되었습니다. 2 번 남았어요\n",
            "토르, 커피가 준비 되었습니다. 1 번 남았어요\n",
            "커피는 폐기처분되었습니다.\n"
          ],
          "name": "stdout"
        }
      ]
    },
    {
      "cell_type": "code",
      "metadata": {
        "colab": {
          "base_uri": "https://localhost:8080/"
        },
        "id": "h8WNr-NhWUvA",
        "outputId": "0ffdd239-f118-471a-8bd8-bb3f227a6f5d"
      },
      "source": [
        "customer = \"토르\"\r\n",
        "person = \"Unknown\"\r\n",
        "while person != customer:\r\n",
        "    print(\"{0}, 커피가 준비되었습니다\".format(customer))\r\n",
        "    person = input(\"이름이 어떻게 되세요?\")"
      ],
      "execution_count": 8,
      "outputs": [
        {
          "output_type": "stream",
          "text": [
            "토르, 커피가 준비되었습니다\n",
            "이름이 어떻게 되세요?토르\n"
          ],
          "name": "stdout"
        }
      ]
    },
    {
      "cell_type": "markdown",
      "metadata": {
        "id": "2Yz7gQ9_WoUD"
      },
      "source": [
        "  - continue와 break"
      ]
    },
    {
      "cell_type": "code",
      "metadata": {
        "colab": {
          "base_uri": "https://localhost:8080/"
        },
        "id": "pSQ9NsjWWjrh",
        "outputId": "5e70c7fa-5702-4dc5-f9e0-bfaac277807f"
      },
      "source": [
        "absent = [2, 5]  # 결석\r\n",
        "no_book = [7]  # 책을 가져오지 않은 학생\r\n",
        "for student in range(1, 11):  # 1 ~ 10\r\n",
        "    if student in absent:\r\n",
        "        continue\r\n",
        "    elif student in no_book:\r\n",
        "        print(\"오늘 수업 여기까지. {0}는 교무실로 따라와\".format(student))\r\n",
        "        break\r\n",
        "    print(\"{0}, 책을 읽어봐\".format(student))"
      ],
      "execution_count": 9,
      "outputs": [
        {
          "output_type": "stream",
          "text": [
            "1, 책을 읽어봐\n",
            "3, 책을 읽어봐\n",
            "4, 책을 읽어봐\n",
            "6, 책을 읽어봐\n",
            "오늘 수업 여기까지. 7는 교무실로 따라와\n"
          ],
          "name": "stdout"
        }
      ]
    },
    {
      "cell_type": "markdown",
      "metadata": {
        "id": "4qiW_3U5dqLQ"
      },
      "source": [
        "## 제어문 관련 유용 함수"
      ]
    },
    {
      "cell_type": "markdown",
      "metadata": {
        "id": "9TTNO3Frd1uJ"
      },
      "source": [
        "  - filter(<funciton> | None, 시퀀스 객체)\r\n",
        "    - 함수의 결과 값이 참인 시퀀스 객체의 이터레이터를 반환\r\n",
        "    - None이 오는 경우 필터링하지 않음\r\n",
        "\r\n",
        "    - filter의 반환값은 Iterater 이므로 list나 튜플로 변환해야한다."
      ]
    },
    {
      "cell_type": "code",
      "metadata": {
        "colab": {
          "base_uri": "https://localhost:8080/"
        },
        "id": "uDwfKDfKeFYu",
        "outputId": "51008cdb-0b48-44ff-c3bc-e22ed9c3f2b9"
      },
      "source": [
        "none = None\r\n",
        "P = [10,25,30,none]\r\n",
        "IterP = filter(None, P) # None 인것을 걸러낼 것\r\n",
        "for i in IterP :\r\n",
        "  print(\"Item: {0}\".format(i))"
      ],
      "execution_count": 31,
      "outputs": [
        {
          "output_type": "stream",
          "text": [
            "Item: 10\n",
            "Item: 25\n",
            "Item: 30\n"
          ],
          "name": "stdout"
        }
      ]
    },
    {
      "cell_type": "code",
      "metadata": {
        "colab": {
          "base_uri": "https://localhost:8080/"
        },
        "id": "On1VqovEex3C",
        "outputId": "f699eb43-cb7a-4fb1-8665-0dec2f270068"
      },
      "source": [
        "def GetBiggerThan20(i) :\r\n",
        "  return i > 20\r\n",
        "\r\n",
        "P = [10,25,30]\r\n",
        "print(list(filter(GetBiggerThan20, P)))\r\n",
        "print(list(filter(lambda i : i>20, P)))"
      ],
      "execution_count": 32,
      "outputs": [
        {
          "output_type": "stream",
          "text": [
            "[25, 30]\n",
            "[25, 30]\n"
          ],
          "name": "stdout"
        }
      ]
    },
    {
      "cell_type": "markdown",
      "metadata": {
        "id": "_oXaXGXVgMqK"
      },
      "source": [
        "  - range([시작값], 종료값 [,증가값])\r\n",
        "    - 수열을 순회하는 이터레이터 객체를 반환\r\n",
        "    - 시작값과 증가값은 생략가능, 이때 기본값은 각각 0, 1 할당"
      ]
    },
    {
      "cell_type": "code",
      "metadata": {
        "colab": {
          "base_uri": "https://localhost:8080/"
        },
        "id": "6z92Jv4Ygg6G",
        "outputId": "0d1b8471-1474-41c0-af7d-30290154d01d"
      },
      "source": [
        "print(list(range(10))) # 종료값만 있는 경우 -10 포함되지 않음\r\n",
        "print(list(range(5,10))) # 시작값, 종료값이 있는 경우\r\n",
        "print(list(range(10,0,-1))) # 시작값, 종료값, 증가값이 있는 경우\r\n",
        "print(list(range(10,20,2))) # 10부터 20까지 짝수만 출력"
      ],
      "execution_count": 33,
      "outputs": [
        {
          "output_type": "stream",
          "text": [
            "[0, 1, 2, 3, 4, 5, 6, 7, 8, 9]\n",
            "[5, 6, 7, 8, 9]\n",
            "[10, 9, 8, 7, 6, 5, 4, 3, 2, 1]\n",
            "[10, 12, 14, 16, 18]\n"
          ],
          "name": "stdout"
        }
      ]
    },
    {
      "cell_type": "markdown",
      "metadata": {
        "id": "rqycMuRZhWzc"
      },
      "source": [
        "  - map(<funciton>, 시퀀스객체, ...)\r\n",
        "    - 시퀀스객체를 순회하며 funciton의 연산을 수행\r\n",
        "    - 함수의 인자 수만큼 시퀀스 객체를 전달"
      ]
    },
    {
      "cell_type": "code",
      "metadata": {
        "colab": {
          "base_uri": "https://localhost:8080/"
        },
        "id": "fQLhF-Ochhqz",
        "outputId": "a67ccca8-5225-457b-fee5-cae54f4188d7"
      },
      "source": [
        "P = [1,2,3]\r\n",
        "def Add10(i):\r\n",
        "  return i+10\r\n",
        "\r\n",
        "for i in map(Add10, P):\r\n",
        "  print(\"Item:{0}\".format(i))\r\n",
        "\r\n",
        "X = [1,2,3]\r\n",
        "Y = [2,3,4]\r\n",
        "# pow : 제곱\r\n",
        "print(list(map(pow, X, Y)))"
      ],
      "execution_count": 34,
      "outputs": [
        {
          "output_type": "stream",
          "text": [
            "Item:11\n",
            "Item:12\n",
            "Item:13\n",
            "[1, 8, 81]\n"
          ],
          "name": "stdout"
        }
      ]
    }
  ]
}