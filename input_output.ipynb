{
  "nbformat": 4,
  "nbformat_minor": 0,
  "metadata": {
    "colab": {
      "name": "input_output.ipynb",
      "provenance": [],
      "collapsed_sections": [],
      "authorship_tag": "ABX9TyNCRLw/nrBnq7ZsO9FQuyY2",
      "include_colab_link": true
    },
    "kernelspec": {
      "name": "python3",
      "display_name": "Python 3"
    }
  },
  "cells": [
    {
      "cell_type": "markdown",
      "metadata": {
        "id": "view-in-github",
        "colab_type": "text"
      },
      "source": [
        "<a href=\"https://colab.research.google.com/github/dannyryu4758/pythonStudy/blob/main/input_output.ipynb\" target=\"_parent\"><img src=\"https://colab.research.google.com/assets/colab-badge.svg\" alt=\"Open In Colab\"/></a>"
      ]
    },
    {
      "cell_type": "markdown",
      "metadata": {
        "id": "DmUu5EoveNgF"
      },
      "source": [
        "# 표준 입출력\r\n"
      ]
    },
    {
      "cell_type": "code",
      "metadata": {
        "colab": {
          "base_uri": "https://localhost:8080/"
        },
        "id": "KMwOHygHeJfn",
        "outputId": "43ac351b-a72a-4f72-e248-c2dd42ae11f9"
      },
      "source": [
        "print(\"Python\", \"Java\", sep=\"\") # sep 값을 통해 두 인수 사이에 어떤것을 넣을지 지정된다.\r\n",
        "print(\"Python\", \"Java\", \"JavaScript\", sep=\" vs \")\r\n",
        "\r\n",
        "print(\"Python\", \"Java\", \"JavaScript\", sep=\" vs \", end=\" ? \") # end를 통해 줄바꿈을 하지 않고 지정한 내용으로 이어서 실행한다.\r\n",
        "print(\"어느 것이 최강일까요?\")"
      ],
      "execution_count": 30,
      "outputs": [
        {
          "output_type": "stream",
          "text": [
            "PythonJava\n",
            "Python vs Java vs JavaScript\n",
            "Python vs Java vs JavaScript ? 어느 것이 최강일까요?\n"
          ],
          "name": "stdout"
        }
      ]
    },
    {
      "cell_type": "code",
      "metadata": {
        "colab": {
          "base_uri": "https://localhost:8080/"
        },
        "id": "qBoBHuCKfAn9",
        "outputId": "44a89941-f37b-4c6d-b444-0f924a787e4c"
      },
      "source": [
        "import sys\r\n",
        "# 로그 처리시\r\n",
        "print(\"Python\", \"Java\", file=sys.stdout) # 표준 출력\r\n",
        "print(\"Python\", \"Java\", file=sys.stderr) # 표준 에러"
      ],
      "execution_count": 5,
      "outputs": [
        {
          "output_type": "stream",
          "text": [
            "Python Java\n"
          ],
          "name": "stdout"
        },
        {
          "output_type": "stream",
          "text": [
            "Python Java\n"
          ],
          "name": "stderr"
        }
      ]
    },
    {
      "cell_type": "code",
      "metadata": {
        "colab": {
          "base_uri": "https://localhost:8080/"
        },
        "id": "NBW1FLKZfZ1V",
        "outputId": "7041aee5-3482-44cb-df31-e53eec3dd86d"
      },
      "source": [
        "#####################################3\r\n",
        "# 출력포맷\r\n",
        "scores = {\"수학\":0, \"영어\":50, \"코딩\":100}\r\n",
        "for subject, score in scores.items() :\r\n",
        "  # print(subject, score)\r\n",
        "  # ljust(8) : 8개의 공간 만들고 왼쪽정렬\r\n",
        "  # rjust(4) : 4개의 공간 만들고 왼쪽정렬\r\n",
        "  print(subject.ljust(8), str(score).rjust(4), sep=\":\") "
      ],
      "execution_count": 7,
      "outputs": [
        {
          "output_type": "stream",
          "text": [
            "수학      :   0\n",
            "영어      :  50\n",
            "코딩      : 100\n"
          ],
          "name": "stdout"
        }
      ]
    },
    {
      "cell_type": "code",
      "metadata": {
        "colab": {
          "base_uri": "https://localhost:8080/"
        },
        "id": "iMgHzGvogirI",
        "outputId": "ed0ec4f7-abe3-4d0d-b912-3d9166828fd4"
      },
      "source": [
        "# 은행 대기순번표\r\n",
        "# 001, 002, 003, ....\r\n",
        "for num in range(1,21) : \r\n",
        "  # zfill(3) : 3자리수 확보후 나머지는 0으로 채운다.\r\n",
        "  print(\"대기번호 : \" + str(num).zfill(3))"
      ],
      "execution_count": 9,
      "outputs": [
        {
          "output_type": "stream",
          "text": [
            "대기번호 : 001\n",
            "대기번호 : 002\n",
            "대기번호 : 003\n",
            "대기번호 : 004\n",
            "대기번호 : 005\n",
            "대기번호 : 006\n",
            "대기번호 : 007\n",
            "대기번호 : 008\n",
            "대기번호 : 009\n",
            "대기번호 : 010\n",
            "대기번호 : 011\n",
            "대기번호 : 012\n",
            "대기번호 : 013\n",
            "대기번호 : 014\n",
            "대기번호 : 015\n",
            "대기번호 : 016\n",
            "대기번호 : 017\n",
            "대기번호 : 018\n",
            "대기번호 : 019\n",
            "대기번호 : 020\n"
          ],
          "name": "stdout"
        }
      ]
    },
    {
      "cell_type": "markdown",
      "metadata": {
        "id": "c35eiIQomhfw"
      },
      "source": [
        "  - formatting(포매팅) - 키, 사전 사용"
      ]
    },
    {
      "cell_type": "code",
      "metadata": {
        "colab": {
          "base_uri": "https://localhost:8080/"
        },
        "id": "Gyn2YSZbmpGE",
        "outputId": "a4d6135e-73b2-49fa-b3da-57db07d61746"
      },
      "source": [
        "print(\"{item} is {color}\".format(item=\"apple\", color=\"red\"))\r\n",
        "# dictionary 를 입력으로 받는 경우\r\n",
        "dic = {\"item\":\"apple\", \"color\":\"red\"}\r\n",
        "print(\"{0[item]} is {0[color]}\".format(dic))\r\n",
        "\r\n",
        "# ** 기호사용 : dictionary 를 입력으로 받은 것으로 판단하고 인자를 하나만 받는다.(불필요 index 생략 가능)\r\n",
        "print(\"{item} is {color}\".format(**dic))\r\n",
        "\r\n",
        "# ! 기호를 사용한 문자열 반환\r\n",
        "# !s : str() 반환 : 실제값과 다르게 변환 될 수도 있음\r\n",
        "print(\"{item!s} is {color!s}\".format(**dic))\r\n",
        "# !r : repr() 반환 : 형식적으로 동일한 값 출력\r\n",
        "print(\"{item!r} is {color!r}\".format(**dic))\r\n",
        "# !a : ascii() 반환 : ascii 값을 제외하고는 유니코드 값으로 출력한다.\r\n",
        "print(\"{item!a} is {color!a}\".format(**dic))"
      ],
      "execution_count": 31,
      "outputs": [
        {
          "output_type": "stream",
          "text": [
            "apple is red\n",
            "apple is red\n",
            "apple is red\n"
          ],
          "name": "stdout"
        }
      ]
    },
    {
      "cell_type": "code",
      "metadata": {
        "colab": {
          "base_uri": "https://localhost:8080/"
        },
        "id": "xHv_2FAliuBu",
        "outputId": "619d9fb3-2e2e-46a1-e683-9d1d0c02bfc4"
      },
      "source": [
        "# 다양한 출력 포맷\r\n",
        "\r\n",
        "# \">\" : 오른쪽 정렬\r\n",
        "# \"<\" : 왼쪽 정렬\r\n",
        "# \"^\" : 가운데 정렬\r\n",
        "# \"=\" : 부호화\r\n",
        "\r\n",
        "# \"+\" : 양수이면 플러스 부호를 나타내라는 뜻 (음수면 - 표기)\r\n",
        "# \"-\" : 음수값만 - 부호 표기\r\n",
        "# \" \" : 음수값은 - 부호 표기, 양수값은 공백표기\r\n",
        "\r\n",
        "# 진수표현법\r\n",
        "# b : 이진수, d : 십진수, x : 16진수, o : 8진수, c : 문자열\r\n",
        "print(\"{0:b}\".format(10)) # 1010\r\n",
        "print(\"{0:o}\".format(10)) # 12\r\n",
        "print(\"{0:c}\".format(65)) # A\r\n",
        "# #x : 16진수, #o : 8진수, #b : 2진수 (문자열 형식 지원하지 않고, 진수정보 제공 )\r\n",
        "print(\"{0:#x},{0:#o},{0:#b}\".format(10))\r\n",
        "\r\n",
        "# 빈 자지는 빈공간으로 두고, 오른쪽 정렬을 하되, 총 10자리 공간을 확보\r\n",
        "print(\"{0: >10}\".format(500)) # 10자리 확보하고 빈공간은 ' ' 스페이스 처리\r\n",
        "# 양수일 땐 +로 표시, 음수일 떈 -로 표시\r\n",
        "print(\"{0: >+10}\".format(500))\r\n",
        "print(\"{0: >+10}\".format(-500))\r\n",
        "print(\"{0: >10}\".format(-500))\r\n",
        "# 왼쪽 정렬하고, 빈칸을 _로 채움\r\n",
        "print(\"{0:_<+10}\".format(500))\r\n",
        "# 3자리 마다 콤마를 찍어주기\r\n",
        "print(\"{0:,}\".format(10000000000000))\r\n",
        "# 3자리 마다 콤마를 찍어주기, +- 부호도 붙이기\r\n",
        "print(\"{0:+,}\".format(10000000000000))\r\n",
        "print(\"{0:+,}\".format(-10000000000000))\r\n",
        "# 3자리 마다 콤마를 찍어주기, +- 부호도 붙이고, 자릿수 확보\r\n",
        "# 돈이 많으면 행복하니 빈자리는 ^^로 채워주기\r\n",
        "print(\"{0:^<+30,}\".format(1000000000000))\r\n",
        "\r\n",
        "# e : 지수, f : 실수, % : 퍼센트\r\n",
        "# 지수출력\r\n",
        "print(\"{0:e}\".format(4/3))\r\n",
        "\r\n",
        "# 소수점 출력\r\n",
        "print(\"{0:f}\".format(5/3))\r\n",
        "# 소수점 특정 자리수 까지만 표시 (소수점 3번째 자리에서 반올림)\r\n",
        "print(\"{0:.2f}\".format(5/3))\r\n",
        "\r\n",
        "# 퍼센트\r\n",
        "print(\"{0:%}\".format(4/3))"
      ],
      "execution_count": 34,
      "outputs": [
        {
          "output_type": "stream",
          "text": [
            "1010\n",
            "12\n",
            "A\n",
            "0xa,0o12,0b1010\n",
            "       500\n",
            "      +500\n",
            "      -500\n",
            "      -500\n",
            "+500______\n",
            "10,000,000,000,000\n",
            "+10,000,000,000,000\n",
            "-10,000,000,000,000\n",
            "+1,000,000,000,000^^^^^^^^^^^^\n",
            "1.333333e+00\n",
            "1.666667\n",
            "1.67\n",
            "133.333333%\n"
          ],
          "name": "stdout"
        }
      ]
    },
    {
      "cell_type": "code",
      "metadata": {
        "colab": {
          "base_uri": "https://localhost:8080/"
        },
        "id": "LSA8JH8LgxW_",
        "outputId": "1d801526-4913-4edd-cb71-1941da6d34bc"
      },
      "source": [
        "# 표준 입력\r\n",
        "answer = input(\"아무 값이나 입력하세요 : \")\r\n",
        "# input 으로 받은 값은 string 형태로 받는다.\r\n",
        "print(\"입력하신 값은 \" + answer + \"입니다.\")"
      ],
      "execution_count": 11,
      "outputs": [
        {
          "output_type": "stream",
          "text": [
            "아무 값이나 입력하세요 : 000\n",
            "입력하신 값은 000입니다.\n"
          ],
          "name": "stdout"
        }
      ]
    }
  ]
}