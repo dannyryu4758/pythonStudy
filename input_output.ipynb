{
  "nbformat": 4,
  "nbformat_minor": 0,
  "metadata": {
    "colab": {
      "name": "input_output.ipynb",
      "provenance": [],
      "collapsed_sections": [],
      "authorship_tag": "ABX9TyOZB8OOK+uzouo6GMgOUbKl",
      "include_colab_link": true
    },
    "kernelspec": {
      "name": "python3",
      "display_name": "Python 3"
    }
  },
  "cells": [
    {
      "cell_type": "markdown",
      "metadata": {
        "id": "view-in-github",
        "colab_type": "text"
      },
      "source": [
        "<a href=\"https://colab.research.google.com/github/dannyryu4758/pythonStudy/blob/main/input_output.ipynb\" target=\"_parent\"><img src=\"https://colab.research.google.com/assets/colab-badge.svg\" alt=\"Open In Colab\"/></a>"
      ]
    },
    {
      "cell_type": "markdown",
      "metadata": {
        "id": "DmUu5EoveNgF"
      },
      "source": [
        "# 표준 입출력\r\n"
      ]
    },
    {
      "cell_type": "code",
      "metadata": {
        "colab": {
          "base_uri": "https://localhost:8080/"
        },
        "id": "KMwOHygHeJfn",
        "outputId": "31948e6e-9723-4a55-c8d9-f309010ffe92"
      },
      "source": [
        "print(\"Python\", \"Java\", sep=\"\") # sep 값을 통해 두 인수 사이에 어떤것을 넣을지 지정된다.\r\n",
        "print(\"Python\", \"Java\", \"JavaScript\", sep=\" vs \")\r\n",
        "\r\n",
        "print(\"Python\", \"Java\", \"JavaScript\", sep=\" vs \", end=\" ? \") # end를 통해 줄바꿈을 하지 않고 지정한 내용으로 이어서 실행한다.\r\n",
        "print(\"어느 것이 최강일까요?\")"
      ],
      "execution_count": 4,
      "outputs": [
        {
          "output_type": "stream",
          "text": [
            "PythonJava\n",
            "Python vs Java vs JavaScript\n",
            "Python vs Java vs JavaScript ? 어느 것이 최강일까요?\n"
          ],
          "name": "stdout"
        }
      ]
    },
    {
      "cell_type": "code",
      "metadata": {
        "colab": {
          "base_uri": "https://localhost:8080/"
        },
        "id": "qBoBHuCKfAn9",
        "outputId": "44a89941-f37b-4c6d-b444-0f924a787e4c"
      },
      "source": [
        "import sys\r\n",
        "# 로그 처리시\r\n",
        "print(\"Python\", \"Java\", file=sys.stdout) # 표준 출력\r\n",
        "print(\"Python\", \"Java\", file=sys.stderr) # 표준 에러"
      ],
      "execution_count": 5,
      "outputs": [
        {
          "output_type": "stream",
          "text": [
            "Python Java\n"
          ],
          "name": "stdout"
        },
        {
          "output_type": "stream",
          "text": [
            "Python Java\n"
          ],
          "name": "stderr"
        }
      ]
    },
    {
      "cell_type": "code",
      "metadata": {
        "colab": {
          "base_uri": "https://localhost:8080/"
        },
        "id": "NBW1FLKZfZ1V",
        "outputId": "7041aee5-3482-44cb-df31-e53eec3dd86d"
      },
      "source": [
        "#####################################3\r\n",
        "# 출력포맷\r\n",
        "scores = {\"수학\":0, \"영어\":50, \"코딩\":100}\r\n",
        "for subject, score in scores.items() :\r\n",
        "  # print(subject, score)\r\n",
        "  # ljust(8) : 8개의 공간 만들고 왼쪽정렬\r\n",
        "  # rjust(4) : 4개의 공간 만들고 왼쪽정렬\r\n",
        "  print(subject.ljust(8), str(score).rjust(4), sep=\":\") "
      ],
      "execution_count": 7,
      "outputs": [
        {
          "output_type": "stream",
          "text": [
            "수학      :   0\n",
            "영어      :  50\n",
            "코딩      : 100\n"
          ],
          "name": "stdout"
        }
      ]
    },
    {
      "cell_type": "code",
      "metadata": {
        "colab": {
          "base_uri": "https://localhost:8080/"
        },
        "id": "iMgHzGvogirI",
        "outputId": "ed0ec4f7-abe3-4d0d-b912-3d9166828fd4"
      },
      "source": [
        "# 은행 대기순번표\r\n",
        "# 001, 002, 003, ....\r\n",
        "for num in range(1,21) : \r\n",
        "  # zfill(3) : 3자리수 확보후 나머지는 0으로 채운다.\r\n",
        "  print(\"대기번호 : \" + str(num).zfill(3))"
      ],
      "execution_count": 9,
      "outputs": [
        {
          "output_type": "stream",
          "text": [
            "대기번호 : 001\n",
            "대기번호 : 002\n",
            "대기번호 : 003\n",
            "대기번호 : 004\n",
            "대기번호 : 005\n",
            "대기번호 : 006\n",
            "대기번호 : 007\n",
            "대기번호 : 008\n",
            "대기번호 : 009\n",
            "대기번호 : 010\n",
            "대기번호 : 011\n",
            "대기번호 : 012\n",
            "대기번호 : 013\n",
            "대기번호 : 014\n",
            "대기번호 : 015\n",
            "대기번호 : 016\n",
            "대기번호 : 017\n",
            "대기번호 : 018\n",
            "대기번호 : 019\n",
            "대기번호 : 020\n"
          ],
          "name": "stdout"
        }
      ]
    },
    {
      "cell_type": "code",
      "metadata": {
        "colab": {
          "base_uri": "https://localhost:8080/"
        },
        "id": "LSA8JH8LgxW_",
        "outputId": "1d801526-4913-4edd-cb71-1941da6d34bc"
      },
      "source": [
        "# 표준 입력\r\n",
        "answer = input(\"아무 값이나 입력하세요 : \")\r\n",
        "# input 으로 받은 값은 string 형태로 받는다.\r\n",
        "print(\"입력하신 값은 \" + answer + \"입니다.\")"
      ],
      "execution_count": 11,
      "outputs": [
        {
          "output_type": "stream",
          "text": [
            "아무 값이나 입력하세요 : 000\n",
            "입력하신 값은 000입니다.\n"
          ],
          "name": "stdout"
        }
      ]
    }
  ]
}