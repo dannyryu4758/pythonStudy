{
  "nbformat": 4,
  "nbformat_minor": 0,
  "metadata": {
    "colab": {
      "name": "input_output.ipynb",
      "provenance": [],
      "collapsed_sections": [],
      "authorship_tag": "ABX9TyPOCp8wzDyxmxooBRLDDkK+",
      "include_colab_link": true
    },
    "kernelspec": {
      "name": "python3",
      "display_name": "Python 3"
    }
  },
  "cells": [
    {
      "cell_type": "markdown",
      "metadata": {
        "id": "view-in-github",
        "colab_type": "text"
      },
      "source": [
        "<a href=\"https://colab.research.google.com/github/dannyryu4758/pythonStudy/blob/main/input_output.ipynb\" target=\"_parent\"><img src=\"https://colab.research.google.com/assets/colab-badge.svg\" alt=\"Open In Colab\"/></a>"
      ]
    },
    {
      "cell_type": "markdown",
      "metadata": {
        "id": "DmUu5EoveNgF"
      },
      "source": [
        "# 표준 입출력\r\n"
      ]
    },
    {
      "cell_type": "code",
      "metadata": {
        "colab": {
          "base_uri": "https://localhost:8080/"
        },
        "id": "KMwOHygHeJfn",
        "outputId": "43ac351b-a72a-4f72-e248-c2dd42ae11f9"
      },
      "source": [
        "print(\"Python\", \"Java\", sep=\"\") # sep 값을 통해 두 인수 사이에 어떤것을 넣을지 지정된다.\r\n",
        "print(\"Python\", \"Java\", \"JavaScript\", sep=\" vs \")\r\n",
        "\r\n",
        "print(\"Python\", \"Java\", \"JavaScript\", sep=\" vs \", end=\" ? \") # end를 통해 줄바꿈을 하지 않고 지정한 내용으로 이어서 실행한다.\r\n",
        "print(\"어느 것이 최강일까요?\")"
      ],
      "execution_count": null,
      "outputs": [
        {
          "output_type": "stream",
          "text": [
            "PythonJava\n",
            "Python vs Java vs JavaScript\n",
            "Python vs Java vs JavaScript ? 어느 것이 최강일까요?\n"
          ],
          "name": "stdout"
        }
      ]
    },
    {
      "cell_type": "code",
      "metadata": {
        "colab": {
          "base_uri": "https://localhost:8080/"
        },
        "id": "qBoBHuCKfAn9",
        "outputId": "44a89941-f37b-4c6d-b444-0f924a787e4c"
      },
      "source": [
        "import sys\r\n",
        "# 로그 처리시\r\n",
        "print(\"Python\", \"Java\", file=sys.stdout) # 표준 출력\r\n",
        "print(\"Python\", \"Java\", file=sys.stderr) # 표준 에러"
      ],
      "execution_count": null,
      "outputs": [
        {
          "output_type": "stream",
          "text": [
            "Python Java\n"
          ],
          "name": "stdout"
        },
        {
          "output_type": "stream",
          "text": [
            "Python Java\n"
          ],
          "name": "stderr"
        }
      ]
    },
    {
      "cell_type": "code",
      "metadata": {
        "colab": {
          "base_uri": "https://localhost:8080/"
        },
        "id": "NBW1FLKZfZ1V",
        "outputId": "7041aee5-3482-44cb-df31-e53eec3dd86d"
      },
      "source": [
        "#####################################3\r\n",
        "# 출력포맷\r\n",
        "scores = {\"수학\":0, \"영어\":50, \"코딩\":100}\r\n",
        "for subject, score in scores.items() :\r\n",
        "  # print(subject, score)\r\n",
        "  # ljust(8) : 8개의 공간 만들고 왼쪽정렬\r\n",
        "  # rjust(4) : 4개의 공간 만들고 왼쪽정렬\r\n",
        "  print(subject.ljust(8), str(score).rjust(4), sep=\":\") "
      ],
      "execution_count": null,
      "outputs": [
        {
          "output_type": "stream",
          "text": [
            "수학      :   0\n",
            "영어      :  50\n",
            "코딩      : 100\n"
          ],
          "name": "stdout"
        }
      ]
    },
    {
      "cell_type": "code",
      "metadata": {
        "colab": {
          "base_uri": "https://localhost:8080/"
        },
        "id": "iMgHzGvogirI",
        "outputId": "ed0ec4f7-abe3-4d0d-b912-3d9166828fd4"
      },
      "source": [
        "# 은행 대기순번표\r\n",
        "# 001, 002, 003, ....\r\n",
        "for num in range(1,21) : \r\n",
        "  # zfill(3) : 3자리수 확보후 나머지는 0으로 채운다.\r\n",
        "  print(\"대기번호 : \" + str(num).zfill(3))"
      ],
      "execution_count": null,
      "outputs": [
        {
          "output_type": "stream",
          "text": [
            "대기번호 : 001\n",
            "대기번호 : 002\n",
            "대기번호 : 003\n",
            "대기번호 : 004\n",
            "대기번호 : 005\n",
            "대기번호 : 006\n",
            "대기번호 : 007\n",
            "대기번호 : 008\n",
            "대기번호 : 009\n",
            "대기번호 : 010\n",
            "대기번호 : 011\n",
            "대기번호 : 012\n",
            "대기번호 : 013\n",
            "대기번호 : 014\n",
            "대기번호 : 015\n",
            "대기번호 : 016\n",
            "대기번호 : 017\n",
            "대기번호 : 018\n",
            "대기번호 : 019\n",
            "대기번호 : 020\n"
          ],
          "name": "stdout"
        }
      ]
    },
    {
      "cell_type": "markdown",
      "metadata": {
        "id": "c35eiIQomhfw"
      },
      "source": [
        "  - formatting(포매팅) - 키, 사전 사용"
      ]
    },
    {
      "cell_type": "code",
      "metadata": {
        "colab": {
          "base_uri": "https://localhost:8080/"
        },
        "id": "Gyn2YSZbmpGE",
        "outputId": "a4d6135e-73b2-49fa-b3da-57db07d61746"
      },
      "source": [
        "print(\"{item} is {color}\".format(item=\"apple\", color=\"red\"))\r\n",
        "# dictionary 를 입력으로 받는 경우\r\n",
        "dic = {\"item\":\"apple\", \"color\":\"red\"}\r\n",
        "print(\"{0[item]} is {0[color]}\".format(dic))\r\n",
        "\r\n",
        "# ** 기호사용 : dictionary 를 입력으로 받은 것으로 판단하고 인자를 하나만 받는다.(불필요 index 생략 가능)\r\n",
        "print(\"{item} is {color}\".format(**dic))\r\n",
        "\r\n",
        "# ! 기호를 사용한 문자열 반환\r\n",
        "# !s : str() 반환 : 실제값과 다르게 변환 될 수도 있음\r\n",
        "print(\"{item!s} is {color!s}\".format(**dic))\r\n",
        "# !r : repr() 반환 : 형식적으로 동일한 값 출력\r\n",
        "print(\"{item!r} is {color!r}\".format(**dic))\r\n",
        "# !a : ascii() 반환 : ascii 값을 제외하고는 유니코드 값으로 출력한다.\r\n",
        "print(\"{item!a} is {color!a}\".format(**dic))"
      ],
      "execution_count": null,
      "outputs": [
        {
          "output_type": "stream",
          "text": [
            "apple is red\n",
            "apple is red\n",
            "apple is red\n"
          ],
          "name": "stdout"
        }
      ]
    },
    {
      "cell_type": "code",
      "metadata": {
        "colab": {
          "base_uri": "https://localhost:8080/"
        },
        "id": "xHv_2FAliuBu",
        "outputId": "619d9fb3-2e2e-46a1-e683-9d1d0c02bfc4"
      },
      "source": [
        "# 다양한 출력 포맷\r\n",
        "\r\n",
        "# \">\" : 오른쪽 정렬\r\n",
        "# \"<\" : 왼쪽 정렬\r\n",
        "# \"^\" : 가운데 정렬\r\n",
        "# \"=\" : 부호화\r\n",
        "\r\n",
        "# \"+\" : 양수이면 플러스 부호를 나타내라는 뜻 (음수면 - 표기)\r\n",
        "# \"-\" : 음수값만 - 부호 표기\r\n",
        "# \" \" : 음수값은 - 부호 표기, 양수값은 공백표기\r\n",
        "\r\n",
        "# 진수표현법\r\n",
        "# b : 이진수, d : 십진수, x : 16진수, o : 8진수, c : 문자열\r\n",
        "print(\"{0:b}\".format(10)) # 1010\r\n",
        "print(\"{0:o}\".format(10)) # 12\r\n",
        "print(\"{0:c}\".format(65)) # A\r\n",
        "# #x : 16진수, #o : 8진수, #b : 2진수 (문자열 형식 지원하지 않고, 진수정보 제공 )\r\n",
        "print(\"{0:#x},{0:#o},{0:#b}\".format(10))\r\n",
        "\r\n",
        "# 빈 자지는 빈공간으로 두고, 오른쪽 정렬을 하되, 총 10자리 공간을 확보\r\n",
        "print(\"{0: >10}\".format(500)) # 10자리 확보하고 빈공간은 ' ' 스페이스 처리\r\n",
        "# 양수일 땐 +로 표시, 음수일 떈 -로 표시\r\n",
        "print(\"{0: >+10}\".format(500))\r\n",
        "print(\"{0: >+10}\".format(-500))\r\n",
        "print(\"{0: >10}\".format(-500))\r\n",
        "# 왼쪽 정렬하고, 빈칸을 _로 채움\r\n",
        "print(\"{0:_<+10}\".format(500))\r\n",
        "# 3자리 마다 콤마를 찍어주기\r\n",
        "print(\"{0:,}\".format(10000000000000))\r\n",
        "# 3자리 마다 콤마를 찍어주기, +- 부호도 붙이기\r\n",
        "print(\"{0:+,}\".format(10000000000000))\r\n",
        "print(\"{0:+,}\".format(-10000000000000))\r\n",
        "# 3자리 마다 콤마를 찍어주기, +- 부호도 붙이고, 자릿수 확보\r\n",
        "# 돈이 많으면 행복하니 빈자리는 ^^로 채워주기\r\n",
        "print(\"{0:^<+30,}\".format(1000000000000))\r\n",
        "\r\n",
        "# e : 지수, f : 실수, % : 퍼센트\r\n",
        "# 지수출력\r\n",
        "print(\"{0:e}\".format(4/3))\r\n",
        "\r\n",
        "# 소수점 출력\r\n",
        "print(\"{0:f}\".format(5/3))\r\n",
        "# 소수점 특정 자리수 까지만 표시 (소수점 3번째 자리에서 반올림)\r\n",
        "print(\"{0:.2f}\".format(5/3))\r\n",
        "\r\n",
        "# 퍼센트\r\n",
        "print(\"{0:%}\".format(4/3))"
      ],
      "execution_count": null,
      "outputs": [
        {
          "output_type": "stream",
          "text": [
            "1010\n",
            "12\n",
            "A\n",
            "0xa,0o12,0b1010\n",
            "       500\n",
            "      +500\n",
            "      -500\n",
            "      -500\n",
            "+500______\n",
            "10,000,000,000,000\n",
            "+10,000,000,000,000\n",
            "-10,000,000,000,000\n",
            "+1,000,000,000,000^^^^^^^^^^^^\n",
            "1.333333e+00\n",
            "1.666667\n",
            "1.67\n",
            "133.333333%\n"
          ],
          "name": "stdout"
        }
      ]
    },
    {
      "cell_type": "code",
      "metadata": {
        "colab": {
          "base_uri": "https://localhost:8080/"
        },
        "id": "LSA8JH8LgxW_",
        "outputId": "1d801526-4913-4edd-cb71-1941da6d34bc"
      },
      "source": [
        "# 표준 입력\r\n",
        "answer = input(\"아무 값이나 입력하세요 : \")\r\n",
        "# input 으로 받은 값은 string 형태로 받는다.\r\n",
        "print(\"입력하신 값은 \" + answer + \"입니다.\")"
      ],
      "execution_count": null,
      "outputs": [
        {
          "output_type": "stream",
          "text": [
            "아무 값이나 입력하세요 : 000\n",
            "입력하신 값은 000입니다.\n"
          ],
          "name": "stdout"
        }
      ]
    },
    {
      "cell_type": "markdown",
      "metadata": {
        "id": "oyvjA9eQ1SSd"
      },
      "source": [
        "# 파일 입출력"
      ]
    },
    {
      "cell_type": "markdown",
      "metadata": {
        "id": "zY9V-S1o5D6k"
      },
      "source": [
        "## 기본 파일 입출력"
      ]
    },
    {
      "cell_type": "markdown",
      "metadata": {
        "id": "tZPYBX2N4fAq"
      },
      "source": [
        "- open() 파일 열기\r\n",
        "  - w : 덮어쓰기\r\n",
        "  - a : 이어쓰기\r\n",
        "  - r : 읽어오기"
      ]
    },
    {
      "cell_type": "markdown",
      "metadata": {
        "id": "szZg_f0WDYQ2"
      },
      "source": [
        "### 파일쓰기\r\n",
        "  1. print(\"수학 : 0 \", file=score_file) : 자동 줄바꿈\r\n",
        "  2. score_file.write(\"\\n코딩 : 100\") : 자동 줄바꿈 안됨."
      ]
    },
    {
      "cell_type": "code",
      "metadata": {
        "id": "Ll0HHkiR1Vus"
      },
      "source": [
        "score_file = open(\"score.txt\", \"w\", encoding=\"utf8\") # \"w\" 덮어쓰기\r\n",
        "print(\"수학 : 0 \", file=score_file) # print로 인해 자동 줄바꿈으로 작성됨. \r\n",
        "print(\"영어 : 50\", file=score_file)\r\n",
        "score_file.close()"
      ],
      "execution_count": 7,
      "outputs": []
    },
    {
      "cell_type": "code",
      "metadata": {
        "id": "cuNof1gG1vNP"
      },
      "source": [
        "score_file = open(\"score.txt\", \"a\", encoding=\"utf8\") # \"a\" 이어쓰기\r\n",
        "score_file.write(\"과학 : 80\")\r\n",
        "score_file.write(\"\\n코딩 : 100\") # write 함수 사용시 줄바꿈을 해줘야함.\r\n",
        "score_file.close()"
      ],
      "execution_count": 8,
      "outputs": []
    },
    {
      "cell_type": "markdown",
      "metadata": {
        "id": "_Q1zNW2uEE4e"
      },
      "source": [
        "### 파일 읽어오기"
      ]
    },
    {
      "cell_type": "markdown",
      "metadata": {
        "id": "Y0jay4lSEJxd"
      },
      "source": [
        "  - read() : 파일 전체 읽어오기"
      ]
    },
    {
      "cell_type": "code",
      "metadata": {
        "colab": {
          "base_uri": "https://localhost:8080/"
        },
        "id": "x7SjzQIs2axl",
        "outputId": "237d4df5-c6ac-478f-eb08-f22d8b531905"
      },
      "source": [
        "score_file = open(\"score.txt\", \"r\", encoding=\"utf8\") # \"r\" 읽어오기\r\n",
        "print(score_file.read()) # 모두 읽어오기\r\n",
        "score_file.close()"
      ],
      "execution_count": 9,
      "outputs": [
        {
          "output_type": "stream",
          "text": [
            "수학 : 0 \n",
            "영어 : 50\n",
            "과학 : 80\n",
            "코딩 : 100\n"
          ],
          "name": "stdout"
        }
      ]
    },
    {
      "cell_type": "markdown",
      "metadata": {
        "id": "QH0wW38r4Psb"
      },
      "source": [
        "- readline() : 한 줄 읽기(한줄 읽고 커서는 다음 줄로 자동 이동)"
      ]
    },
    {
      "cell_type": "code",
      "metadata": {
        "colab": {
          "base_uri": "https://localhost:8080/"
        },
        "id": "xBn45h9V21SF",
        "outputId": "a7542112-0e03-4b5b-b58e-f3df5c16ed3f"
      },
      "source": [
        "score_file = open(\"score.txt\", \"r\", encoding=\"utf8\") # \"r\" 읽어오기\r\n",
        "print(score_file.readline(), end=\"\") # 줄별로 읽기, 한줄 읽고 커서는 다음 줄로 이동\r\n",
        "print(score_file.readline(), end=\"\")\r\n",
        "print(score_file.readline(), end=\"\")\r\n",
        "print(score_file.readline(), end=\"\")\r\n",
        "score_file.close()"
      ],
      "execution_count": 12,
      "outputs": [
        {
          "output_type": "stream",
          "text": [
            "수학 : 0 \n",
            "영어 : 50\n",
            "과학 : 80\n",
            "코딩 : 100"
          ],
          "name": "stdout"
        }
      ]
    },
    {
      "cell_type": "markdown",
      "metadata": {
        "id": "VgkcTWu-4IIx"
      },
      "source": [
        "- readline()과 반복문을 활용해 한줄 씩 모든 줄 출력하기"
      ]
    },
    {
      "cell_type": "code",
      "metadata": {
        "colab": {
          "base_uri": "https://localhost:8080/"
        },
        "id": "M91X4IQz3Kch",
        "outputId": "7f80a576-dcf0-4f83-a272-3ae418d6efda"
      },
      "source": [
        "score_file = open(\"score.txt\", \"r\", encoding=\"utf8\") # \"r\" 읽어오기\r\n",
        "# 몇 줄인지 모를 때 readline과 반복문을 활용해 한줄 씩 모든 줄 출력하기\r\n",
        "while True:\r\n",
        "  line = score_file.readline()\r\n",
        "  if not line : # 라인에 내용이 없으면\r\n",
        "    break\r\n",
        "  print(line, end=\"\")\r\n",
        "score_file.close()"
      ],
      "execution_count": 14,
      "outputs": [
        {
          "output_type": "stream",
          "text": [
            "수학 : 0 \n",
            "영어 : 50\n",
            "과학 : 80\n",
            "코딩 : 100"
          ],
          "name": "stdout"
        }
      ]
    },
    {
      "cell_type": "markdown",
      "metadata": {
        "id": "6_97w8Ep3-jD"
      },
      "source": [
        "- readlines() : 모든 내용을 list 형태로 불러온다."
      ]
    },
    {
      "cell_type": "code",
      "metadata": {
        "colab": {
          "base_uri": "https://localhost:8080/"
        },
        "id": "4MeloK2m3pqv",
        "outputId": "cf9d811b-7147-4765-b5a3-e44837e1b381"
      },
      "source": [
        "score_file = open(\"score.txt\", \"r\", encoding=\"utf8\") # \"r\" 읽어오기\r\n",
        "lines = score_file.readlines() # list 형태로 저장\r\n",
        "for line in lines :\r\n",
        "  print(line, end=\"\")\r\n",
        "score_file.close()"
      ],
      "execution_count": 15,
      "outputs": [
        {
          "output_type": "stream",
          "text": [
            "수학 : 0 \n",
            "영어 : 50\n",
            "과학 : 80\n",
            "코딩 : 100"
          ],
          "name": "stdout"
        }
      ]
    },
    {
      "cell_type": "markdown",
      "metadata": {
        "id": "hgbg6qQc5G6O"
      },
      "source": [
        "## 데이터를 파일 형태로 저장/조회\r\n",
        "   - pickle : 데이터를 파일형태로 저장하고 불러와 사용할 있도록 하는 모듈\r\n",
        "    - 사용시 반드시 바이너리타입을 지정해줘야 함.\r\n",
        "    - 별도 인코딩 지정 불필요"
      ]
    },
    {
      "cell_type": "code",
      "metadata": {
        "colab": {
          "base_uri": "https://localhost:8080/"
        },
        "id": "nQP9nqkQ5U74",
        "outputId": "745da790-8403-4b34-8d7c-07a633a85d2d"
      },
      "source": [
        "import pickle\r\n",
        "profile_file = open(\"profile.pickle\", \"wb\") # w(쓰기) + b(바이너리타입)\r\n",
        "profile = {\"이름\":\"박명수\",\"나이\":30, \"취미\":[\"축구\",\"골프\",\"코딩\"]}\r\n",
        "print(profile)\r\n",
        "\r\n",
        "# dump(파일에 데이터 입력하기)\r\n",
        "pickle.dump(profile, profile_file) # profile 에 있는 정보를 file에 저장하기\r\n",
        "profile_file.close()"
      ],
      "execution_count": 17,
      "outputs": [
        {
          "output_type": "stream",
          "text": [
            "{'이름': '박명수', '나이': 30, '취미': ['축구', '골프', '코딩']}\n"
          ],
          "name": "stdout"
        }
      ]
    },
    {
      "cell_type": "code",
      "metadata": {
        "colab": {
          "base_uri": "https://localhost:8080/"
        },
        "id": "O0tcKzML6YlD",
        "outputId": "6ac3f782-e3a4-4ed3-d6b0-6ea1db7f6c37"
      },
      "source": [
        "# 파일을 데이터 형태로 불러오기\r\n",
        "profile_file = open(\"profile.pickle\", \"rb\")\r\n",
        "profile = pickle.load(profile_file) # file에 있는 정보를 profile 에 불러오기\r\n",
        "print(profile)\r\n",
        "profile_file.close()"
      ],
      "execution_count": 18,
      "outputs": [
        {
          "output_type": "stream",
          "text": [
            "{'이름': '박명수', '나이': 30, '취미': ['축구', '골프', '코딩']}\n"
          ],
          "name": "stdout"
        }
      ]
    },
    {
      "cell_type": "markdown",
      "metadata": {
        "id": "TmuNM9OR7qcp"
      },
      "source": [
        "  - with : 간편한 파일 열고 닫기"
      ]
    },
    {
      "cell_type": "code",
      "metadata": {
        "colab": {
          "base_uri": "https://localhost:8080/"
        },
        "id": "V3rkRTB47chr",
        "outputId": "6f49c6a4-fff7-459b-f507-051629eb233a"
      },
      "source": [
        "import pickle\r\n",
        "with open(\"profile.pickle\", \"rb\") as profile_file : # profile.pickle 파일을 읽어오기해서 profile_file 변수에 저장\r\n",
        "  print(pickle.load(profile_file)) # 변수에 담긴 데이터 불러오기\r\n",
        "  # 별도 close() 사용하지 않고 자동으로 파일 닫힘\r\n",
        "\r\n",
        "with open(\"study.txt\", \"w\", encoding=\"utf8\") as study_file : # study.txt 파일을 생성(열람) 하여 study_file 변수에 저장\r\n",
        " study_file.write(\"파이썬을 열심히 공부하고 있습니다.\") \r\n",
        "\r\n",
        "with open(\"study.txt\", \"r\", encoding=\"utf8\") as study_file : # study.txt 파일을 생성(열람) 하여 study_file 변수에 저장\r\n",
        " print(study_file.read())"
      ],
      "execution_count": 20,
      "outputs": [
        {
          "output_type": "stream",
          "text": [
            "{'이름': '박명수', '나이': 30, '취미': ['축구', '골프', '코딩']}\n",
            "파이썬을 열심히 공부하고 있습니다.\n"
          ],
          "name": "stdout"
        }
      ]
    },
    {
      "cell_type": "markdown",
      "metadata": {
        "id": "M2fyAWqh9Bmd"
      },
      "source": [
        "Quiz) 당신의 회사에서는 매주 1회 작성해야 하는 보고서가 있습니다.\r\n",
        "\r\n",
        "보고서는 항상 아래와 같은 형태로 출력되어야 합니다.\r\n",
        "> '- X 주차 주간보고 -    \r\n",
        ">부서 :    \r\n",
        ">이름 :    \r\n",
        ">업무 요약 :    \r\n",
        "\r\n",
        "1주차 부터 50주차까지의 보고서 파일을 만드는 프로그램을 작성하시오.   \r\n",
        "조건 : 파일명은 '1주차.txt'. '2주차.txt', ... 와 같이 만듭니다."
      ]
    },
    {
      "cell_type": "code",
      "metadata": {
        "id": "RoprgkEN7pNd"
      },
      "source": [
        "import pickle\r\n",
        "for i in range(1,11) :\r\n",
        "  with open(str(i)+\"주차.txt\", \"w\", encoding=\"utf8\") as week_report :\r\n",
        "    week_report.write(\"-{0}주차 주간보고-\".format(i))\r\n",
        "    week_report.write(\"\\n부서 : \")\r\n",
        "    week_report.write(\"\\n이름 : \")\r\n",
        "    week_report.write(\"\\n업무 요약 : \")"
      ],
      "execution_count": 50,
      "outputs": []
    }
  ]
}